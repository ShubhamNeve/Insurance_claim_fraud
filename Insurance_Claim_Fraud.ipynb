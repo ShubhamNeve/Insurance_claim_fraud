{
  "nbformat": 4,
  "nbformat_minor": 0,
  "metadata": {
    "colab": {
      "name": "Insurance Claim Fraud.ipynb",
      "provenance": [],
      "collapsed_sections": []
    },
    "kernelspec": {
      "name": "python3",
      "display_name": "Python 3"
    },
    "language_info": {
      "name": "python"
    },
    "widgets": {
      "application/vnd.jupyter.widget-state+json": {
        "a7da8db5ff6b4081b57e08e53cf60904": {
          "model_module": "@jupyter-widgets/controls",
          "model_name": "HBoxModel",
          "state": {
            "_view_name": "HBoxView",
            "_dom_classes": [],
            "_model_name": "HBoxModel",
            "_view_module": "@jupyter-widgets/controls",
            "_model_module_version": "1.5.0",
            "_view_count": null,
            "_view_module_version": "1.5.0",
            "box_style": "",
            "layout": "IPY_MODEL_c8dc6d730468469d8edbf8804c267812",
            "_model_module": "@jupyter-widgets/controls",
            "children": [
              "IPY_MODEL_cd2e601d13cd4c11ba74d60cd01ffc44",
              "IPY_MODEL_1d685bcf7a464428a362fb7ecdea0357",
              "IPY_MODEL_930f90e40fb649cba7eead723ceb7eef"
            ]
          }
        },
        "c8dc6d730468469d8edbf8804c267812": {
          "model_module": "@jupyter-widgets/base",
          "model_name": "LayoutModel",
          "state": {
            "_view_name": "LayoutView",
            "grid_template_rows": null,
            "right": null,
            "justify_content": null,
            "_view_module": "@jupyter-widgets/base",
            "overflow": null,
            "_model_module_version": "1.2.0",
            "_view_count": null,
            "flex_flow": null,
            "width": null,
            "min_width": null,
            "border": null,
            "align_items": null,
            "bottom": null,
            "_model_module": "@jupyter-widgets/base",
            "top": null,
            "grid_column": null,
            "overflow_y": null,
            "overflow_x": null,
            "grid_auto_flow": null,
            "grid_area": null,
            "grid_template_columns": null,
            "flex": null,
            "_model_name": "LayoutModel",
            "justify_items": null,
            "grid_row": null,
            "max_height": null,
            "align_content": null,
            "visibility": null,
            "align_self": null,
            "height": null,
            "min_height": null,
            "padding": null,
            "grid_auto_rows": null,
            "grid_gap": null,
            "max_width": null,
            "order": null,
            "_view_module_version": "1.2.0",
            "grid_template_areas": null,
            "object_position": null,
            "object_fit": null,
            "grid_auto_columns": null,
            "margin": null,
            "display": null,
            "left": null
          }
        },
        "cd2e601d13cd4c11ba74d60cd01ffc44": {
          "model_module": "@jupyter-widgets/controls",
          "model_name": "HTMLModel",
          "state": {
            "_view_name": "HTMLView",
            "style": "IPY_MODEL_e091df0bf2744a21ae2796b75a615576",
            "_dom_classes": [],
            "description": "",
            "_model_name": "HTMLModel",
            "placeholder": "​",
            "_view_module": "@jupyter-widgets/controls",
            "_model_module_version": "1.5.0",
            "value": "Summarize dataset: ",
            "_view_count": null,
            "_view_module_version": "1.5.0",
            "description_tooltip": null,
            "_model_module": "@jupyter-widgets/controls",
            "layout": "IPY_MODEL_f4ebb77820274a028939c02110527bb7"
          }
        },
        "1d685bcf7a464428a362fb7ecdea0357": {
          "model_module": "@jupyter-widgets/controls",
          "model_name": "FloatProgressModel",
          "state": {
            "_view_name": "ProgressView",
            "style": "IPY_MODEL_5b7aba948416410bae82bdf84726e324",
            "_dom_classes": [],
            "description": "",
            "_model_name": "FloatProgressModel",
            "bar_style": "success",
            "max": 51,
            "_view_module": "@jupyter-widgets/controls",
            "_model_module_version": "1.5.0",
            "value": 51,
            "_view_count": null,
            "_view_module_version": "1.5.0",
            "orientation": "horizontal",
            "min": 0,
            "description_tooltip": null,
            "_model_module": "@jupyter-widgets/controls",
            "layout": "IPY_MODEL_0eaedcc45700445e855ae8d3c03958ef"
          }
        },
        "930f90e40fb649cba7eead723ceb7eef": {
          "model_module": "@jupyter-widgets/controls",
          "model_name": "HTMLModel",
          "state": {
            "_view_name": "HTMLView",
            "style": "IPY_MODEL_8f2ed422725347e4ae3fe8de549ca283",
            "_dom_classes": [],
            "description": "",
            "_model_name": "HTMLModel",
            "placeholder": "​",
            "_view_module": "@jupyter-widgets/controls",
            "_model_module_version": "1.5.0",
            "value": " 53/? [00:49&lt;00:00,  3.28s/it, Completed]",
            "_view_count": null,
            "_view_module_version": "1.5.0",
            "description_tooltip": null,
            "_model_module": "@jupyter-widgets/controls",
            "layout": "IPY_MODEL_ecd694587f664217b3e60a7e1ad7bbd8"
          }
        },
        "e091df0bf2744a21ae2796b75a615576": {
          "model_module": "@jupyter-widgets/controls",
          "model_name": "DescriptionStyleModel",
          "state": {
            "_view_name": "StyleView",
            "_model_name": "DescriptionStyleModel",
            "description_width": "",
            "_view_module": "@jupyter-widgets/base",
            "_model_module_version": "1.5.0",
            "_view_count": null,
            "_view_module_version": "1.2.0",
            "_model_module": "@jupyter-widgets/controls"
          }
        },
        "f4ebb77820274a028939c02110527bb7": {
          "model_module": "@jupyter-widgets/base",
          "model_name": "LayoutModel",
          "state": {
            "_view_name": "LayoutView",
            "grid_template_rows": null,
            "right": null,
            "justify_content": null,
            "_view_module": "@jupyter-widgets/base",
            "overflow": null,
            "_model_module_version": "1.2.0",
            "_view_count": null,
            "flex_flow": null,
            "width": null,
            "min_width": null,
            "border": null,
            "align_items": null,
            "bottom": null,
            "_model_module": "@jupyter-widgets/base",
            "top": null,
            "grid_column": null,
            "overflow_y": null,
            "overflow_x": null,
            "grid_auto_flow": null,
            "grid_area": null,
            "grid_template_columns": null,
            "flex": null,
            "_model_name": "LayoutModel",
            "justify_items": null,
            "grid_row": null,
            "max_height": null,
            "align_content": null,
            "visibility": null,
            "align_self": null,
            "height": null,
            "min_height": null,
            "padding": null,
            "grid_auto_rows": null,
            "grid_gap": null,
            "max_width": null,
            "order": null,
            "_view_module_version": "1.2.0",
            "grid_template_areas": null,
            "object_position": null,
            "object_fit": null,
            "grid_auto_columns": null,
            "margin": null,
            "display": null,
            "left": null
          }
        },
        "5b7aba948416410bae82bdf84726e324": {
          "model_module": "@jupyter-widgets/controls",
          "model_name": "ProgressStyleModel",
          "state": {
            "_view_name": "StyleView",
            "_model_name": "ProgressStyleModel",
            "description_width": "",
            "_view_module": "@jupyter-widgets/base",
            "_model_module_version": "1.5.0",
            "_view_count": null,
            "_view_module_version": "1.2.0",
            "bar_color": null,
            "_model_module": "@jupyter-widgets/controls"
          }
        },
        "0eaedcc45700445e855ae8d3c03958ef": {
          "model_module": "@jupyter-widgets/base",
          "model_name": "LayoutModel",
          "state": {
            "_view_name": "LayoutView",
            "grid_template_rows": null,
            "right": null,
            "justify_content": null,
            "_view_module": "@jupyter-widgets/base",
            "overflow": null,
            "_model_module_version": "1.2.0",
            "_view_count": null,
            "flex_flow": null,
            "width": null,
            "min_width": null,
            "border": null,
            "align_items": null,
            "bottom": null,
            "_model_module": "@jupyter-widgets/base",
            "top": null,
            "grid_column": null,
            "overflow_y": null,
            "overflow_x": null,
            "grid_auto_flow": null,
            "grid_area": null,
            "grid_template_columns": null,
            "flex": null,
            "_model_name": "LayoutModel",
            "justify_items": null,
            "grid_row": null,
            "max_height": null,
            "align_content": null,
            "visibility": null,
            "align_self": null,
            "height": null,
            "min_height": null,
            "padding": null,
            "grid_auto_rows": null,
            "grid_gap": null,
            "max_width": null,
            "order": null,
            "_view_module_version": "1.2.0",
            "grid_template_areas": null,
            "object_position": null,
            "object_fit": null,
            "grid_auto_columns": null,
            "margin": null,
            "display": null,
            "left": null
          }
        },
        "8f2ed422725347e4ae3fe8de549ca283": {
          "model_module": "@jupyter-widgets/controls",
          "model_name": "DescriptionStyleModel",
          "state": {
            "_view_name": "StyleView",
            "_model_name": "DescriptionStyleModel",
            "description_width": "",
            "_view_module": "@jupyter-widgets/base",
            "_model_module_version": "1.5.0",
            "_view_count": null,
            "_view_module_version": "1.2.0",
            "_model_module": "@jupyter-widgets/controls"
          }
        },
        "ecd694587f664217b3e60a7e1ad7bbd8": {
          "model_module": "@jupyter-widgets/base",
          "model_name": "LayoutModel",
          "state": {
            "_view_name": "LayoutView",
            "grid_template_rows": null,
            "right": null,
            "justify_content": null,
            "_view_module": "@jupyter-widgets/base",
            "overflow": null,
            "_model_module_version": "1.2.0",
            "_view_count": null,
            "flex_flow": null,
            "width": null,
            "min_width": null,
            "border": null,
            "align_items": null,
            "bottom": null,
            "_model_module": "@jupyter-widgets/base",
            "top": null,
            "grid_column": null,
            "overflow_y": null,
            "overflow_x": null,
            "grid_auto_flow": null,
            "grid_area": null,
            "grid_template_columns": null,
            "flex": null,
            "_model_name": "LayoutModel",
            "justify_items": null,
            "grid_row": null,
            "max_height": null,
            "align_content": null,
            "visibility": null,
            "align_self": null,
            "height": null,
            "min_height": null,
            "padding": null,
            "grid_auto_rows": null,
            "grid_gap": null,
            "max_width": null,
            "order": null,
            "_view_module_version": "1.2.0",
            "grid_template_areas": null,
            "object_position": null,
            "object_fit": null,
            "grid_auto_columns": null,
            "margin": null,
            "display": null,
            "left": null
          }
        },
        "96fa1db54f2249248e8b894840681e27": {
          "model_module": "@jupyter-widgets/controls",
          "model_name": "HBoxModel",
          "state": {
            "_view_name": "HBoxView",
            "_dom_classes": [],
            "_model_name": "HBoxModel",
            "_view_module": "@jupyter-widgets/controls",
            "_model_module_version": "1.5.0",
            "_view_count": null,
            "_view_module_version": "1.5.0",
            "box_style": "",
            "layout": "IPY_MODEL_b526c35f0763477ebad867315a1930af",
            "_model_module": "@jupyter-widgets/controls",
            "children": [
              "IPY_MODEL_72dbb7a97688451ca3b5d98f8a2b1a73",
              "IPY_MODEL_ed29a651982c41a6a60e25907946b613",
              "IPY_MODEL_29c99c9264be4c848ec52dbf88ac4844"
            ]
          }
        },
        "b526c35f0763477ebad867315a1930af": {
          "model_module": "@jupyter-widgets/base",
          "model_name": "LayoutModel",
          "state": {
            "_view_name": "LayoutView",
            "grid_template_rows": null,
            "right": null,
            "justify_content": null,
            "_view_module": "@jupyter-widgets/base",
            "overflow": null,
            "_model_module_version": "1.2.0",
            "_view_count": null,
            "flex_flow": null,
            "width": null,
            "min_width": null,
            "border": null,
            "align_items": null,
            "bottom": null,
            "_model_module": "@jupyter-widgets/base",
            "top": null,
            "grid_column": null,
            "overflow_y": null,
            "overflow_x": null,
            "grid_auto_flow": null,
            "grid_area": null,
            "grid_template_columns": null,
            "flex": null,
            "_model_name": "LayoutModel",
            "justify_items": null,
            "grid_row": null,
            "max_height": null,
            "align_content": null,
            "visibility": null,
            "align_self": null,
            "height": null,
            "min_height": null,
            "padding": null,
            "grid_auto_rows": null,
            "grid_gap": null,
            "max_width": null,
            "order": null,
            "_view_module_version": "1.2.0",
            "grid_template_areas": null,
            "object_position": null,
            "object_fit": null,
            "grid_auto_columns": null,
            "margin": null,
            "display": null,
            "left": null
          }
        },
        "72dbb7a97688451ca3b5d98f8a2b1a73": {
          "model_module": "@jupyter-widgets/controls",
          "model_name": "HTMLModel",
          "state": {
            "_view_name": "HTMLView",
            "style": "IPY_MODEL_86ea5cb8de634cc189962559047b6c74",
            "_dom_classes": [],
            "description": "",
            "_model_name": "HTMLModel",
            "placeholder": "​",
            "_view_module": "@jupyter-widgets/controls",
            "_model_module_version": "1.5.0",
            "value": "Generate report structure: 100%",
            "_view_count": null,
            "_view_module_version": "1.5.0",
            "description_tooltip": null,
            "_model_module": "@jupyter-widgets/controls",
            "layout": "IPY_MODEL_5d1c3d023f8b498bb74f77c208c69882"
          }
        },
        "ed29a651982c41a6a60e25907946b613": {
          "model_module": "@jupyter-widgets/controls",
          "model_name": "FloatProgressModel",
          "state": {
            "_view_name": "ProgressView",
            "style": "IPY_MODEL_3042129bb7664e0b8c15a1e576fdf03f",
            "_dom_classes": [],
            "description": "",
            "_model_name": "FloatProgressModel",
            "bar_style": "success",
            "max": 1,
            "_view_module": "@jupyter-widgets/controls",
            "_model_module_version": "1.5.0",
            "value": 1,
            "_view_count": null,
            "_view_module_version": "1.5.0",
            "orientation": "horizontal",
            "min": 0,
            "description_tooltip": null,
            "_model_module": "@jupyter-widgets/controls",
            "layout": "IPY_MODEL_7e67c854ce9440ec95019f0eb9f8d106"
          }
        },
        "29c99c9264be4c848ec52dbf88ac4844": {
          "model_module": "@jupyter-widgets/controls",
          "model_name": "HTMLModel",
          "state": {
            "_view_name": "HTMLView",
            "style": "IPY_MODEL_cef324d14b0b453a80fd4adf04a31a0b",
            "_dom_classes": [],
            "description": "",
            "_model_name": "HTMLModel",
            "placeholder": "​",
            "_view_module": "@jupyter-widgets/controls",
            "_model_module_version": "1.5.0",
            "value": " 1/1 [00:12&lt;00:00, 12.19s/it]",
            "_view_count": null,
            "_view_module_version": "1.5.0",
            "description_tooltip": null,
            "_model_module": "@jupyter-widgets/controls",
            "layout": "IPY_MODEL_e520edb0c0694bbf9241f844e998383f"
          }
        },
        "86ea5cb8de634cc189962559047b6c74": {
          "model_module": "@jupyter-widgets/controls",
          "model_name": "DescriptionStyleModel",
          "state": {
            "_view_name": "StyleView",
            "_model_name": "DescriptionStyleModel",
            "description_width": "",
            "_view_module": "@jupyter-widgets/base",
            "_model_module_version": "1.5.0",
            "_view_count": null,
            "_view_module_version": "1.2.0",
            "_model_module": "@jupyter-widgets/controls"
          }
        },
        "5d1c3d023f8b498bb74f77c208c69882": {
          "model_module": "@jupyter-widgets/base",
          "model_name": "LayoutModel",
          "state": {
            "_view_name": "LayoutView",
            "grid_template_rows": null,
            "right": null,
            "justify_content": null,
            "_view_module": "@jupyter-widgets/base",
            "overflow": null,
            "_model_module_version": "1.2.0",
            "_view_count": null,
            "flex_flow": null,
            "width": null,
            "min_width": null,
            "border": null,
            "align_items": null,
            "bottom": null,
            "_model_module": "@jupyter-widgets/base",
            "top": null,
            "grid_column": null,
            "overflow_y": null,
            "overflow_x": null,
            "grid_auto_flow": null,
            "grid_area": null,
            "grid_template_columns": null,
            "flex": null,
            "_model_name": "LayoutModel",
            "justify_items": null,
            "grid_row": null,
            "max_height": null,
            "align_content": null,
            "visibility": null,
            "align_self": null,
            "height": null,
            "min_height": null,
            "padding": null,
            "grid_auto_rows": null,
            "grid_gap": null,
            "max_width": null,
            "order": null,
            "_view_module_version": "1.2.0",
            "grid_template_areas": null,
            "object_position": null,
            "object_fit": null,
            "grid_auto_columns": null,
            "margin": null,
            "display": null,
            "left": null
          }
        },
        "3042129bb7664e0b8c15a1e576fdf03f": {
          "model_module": "@jupyter-widgets/controls",
          "model_name": "ProgressStyleModel",
          "state": {
            "_view_name": "StyleView",
            "_model_name": "ProgressStyleModel",
            "description_width": "",
            "_view_module": "@jupyter-widgets/base",
            "_model_module_version": "1.5.0",
            "_view_count": null,
            "_view_module_version": "1.2.0",
            "bar_color": null,
            "_model_module": "@jupyter-widgets/controls"
          }
        },
        "7e67c854ce9440ec95019f0eb9f8d106": {
          "model_module": "@jupyter-widgets/base",
          "model_name": "LayoutModel",
          "state": {
            "_view_name": "LayoutView",
            "grid_template_rows": null,
            "right": null,
            "justify_content": null,
            "_view_module": "@jupyter-widgets/base",
            "overflow": null,
            "_model_module_version": "1.2.0",
            "_view_count": null,
            "flex_flow": null,
            "width": null,
            "min_width": null,
            "border": null,
            "align_items": null,
            "bottom": null,
            "_model_module": "@jupyter-widgets/base",
            "top": null,
            "grid_column": null,
            "overflow_y": null,
            "overflow_x": null,
            "grid_auto_flow": null,
            "grid_area": null,
            "grid_template_columns": null,
            "flex": null,
            "_model_name": "LayoutModel",
            "justify_items": null,
            "grid_row": null,
            "max_height": null,
            "align_content": null,
            "visibility": null,
            "align_self": null,
            "height": null,
            "min_height": null,
            "padding": null,
            "grid_auto_rows": null,
            "grid_gap": null,
            "max_width": null,
            "order": null,
            "_view_module_version": "1.2.0",
            "grid_template_areas": null,
            "object_position": null,
            "object_fit": null,
            "grid_auto_columns": null,
            "margin": null,
            "display": null,
            "left": null
          }
        },
        "cef324d14b0b453a80fd4adf04a31a0b": {
          "model_module": "@jupyter-widgets/controls",
          "model_name": "DescriptionStyleModel",
          "state": {
            "_view_name": "StyleView",
            "_model_name": "DescriptionStyleModel",
            "description_width": "",
            "_view_module": "@jupyter-widgets/base",
            "_model_module_version": "1.5.0",
            "_view_count": null,
            "_view_module_version": "1.2.0",
            "_model_module": "@jupyter-widgets/controls"
          }
        },
        "e520edb0c0694bbf9241f844e998383f": {
          "model_module": "@jupyter-widgets/base",
          "model_name": "LayoutModel",
          "state": {
            "_view_name": "LayoutView",
            "grid_template_rows": null,
            "right": null,
            "justify_content": null,
            "_view_module": "@jupyter-widgets/base",
            "overflow": null,
            "_model_module_version": "1.2.0",
            "_view_count": null,
            "flex_flow": null,
            "width": null,
            "min_width": null,
            "border": null,
            "align_items": null,
            "bottom": null,
            "_model_module": "@jupyter-widgets/base",
            "top": null,
            "grid_column": null,
            "overflow_y": null,
            "overflow_x": null,
            "grid_auto_flow": null,
            "grid_area": null,
            "grid_template_columns": null,
            "flex": null,
            "_model_name": "LayoutModel",
            "justify_items": null,
            "grid_row": null,
            "max_height": null,
            "align_content": null,
            "visibility": null,
            "align_self": null,
            "height": null,
            "min_height": null,
            "padding": null,
            "grid_auto_rows": null,
            "grid_gap": null,
            "max_width": null,
            "order": null,
            "_view_module_version": "1.2.0",
            "grid_template_areas": null,
            "object_position": null,
            "object_fit": null,
            "grid_auto_columns": null,
            "margin": null,
            "display": null,
            "left": null
          }
        },
        "3d46864d3d0b4f88b436e2c078cabc8f": {
          "model_module": "@jupyter-widgets/controls",
          "model_name": "HBoxModel",
          "state": {
            "_view_name": "HBoxView",
            "_dom_classes": [],
            "_model_name": "HBoxModel",
            "_view_module": "@jupyter-widgets/controls",
            "_model_module_version": "1.5.0",
            "_view_count": null,
            "_view_module_version": "1.5.0",
            "box_style": "",
            "layout": "IPY_MODEL_8cb5f8e30b0c468588fb514dde507e74",
            "_model_module": "@jupyter-widgets/controls",
            "children": [
              "IPY_MODEL_86d67207dd8d44f39a44fbb58177253c",
              "IPY_MODEL_8ee2c5ecb22b49c4a9e7c19708c2c85b",
              "IPY_MODEL_44475677644c490b8f12d03bea0b9dd4"
            ]
          }
        },
        "8cb5f8e30b0c468588fb514dde507e74": {
          "model_module": "@jupyter-widgets/base",
          "model_name": "LayoutModel",
          "state": {
            "_view_name": "LayoutView",
            "grid_template_rows": null,
            "right": null,
            "justify_content": null,
            "_view_module": "@jupyter-widgets/base",
            "overflow": null,
            "_model_module_version": "1.2.0",
            "_view_count": null,
            "flex_flow": null,
            "width": null,
            "min_width": null,
            "border": null,
            "align_items": null,
            "bottom": null,
            "_model_module": "@jupyter-widgets/base",
            "top": null,
            "grid_column": null,
            "overflow_y": null,
            "overflow_x": null,
            "grid_auto_flow": null,
            "grid_area": null,
            "grid_template_columns": null,
            "flex": null,
            "_model_name": "LayoutModel",
            "justify_items": null,
            "grid_row": null,
            "max_height": null,
            "align_content": null,
            "visibility": null,
            "align_self": null,
            "height": null,
            "min_height": null,
            "padding": null,
            "grid_auto_rows": null,
            "grid_gap": null,
            "max_width": null,
            "order": null,
            "_view_module_version": "1.2.0",
            "grid_template_areas": null,
            "object_position": null,
            "object_fit": null,
            "grid_auto_columns": null,
            "margin": null,
            "display": null,
            "left": null
          }
        },
        "86d67207dd8d44f39a44fbb58177253c": {
          "model_module": "@jupyter-widgets/controls",
          "model_name": "HTMLModel",
          "state": {
            "_view_name": "HTMLView",
            "style": "IPY_MODEL_26a1be9d32064ec5935fcee33ecc2e39",
            "_dom_classes": [],
            "description": "",
            "_model_name": "HTMLModel",
            "placeholder": "​",
            "_view_module": "@jupyter-widgets/controls",
            "_model_module_version": "1.5.0",
            "value": "Render HTML: 100%",
            "_view_count": null,
            "_view_module_version": "1.5.0",
            "description_tooltip": null,
            "_model_module": "@jupyter-widgets/controls",
            "layout": "IPY_MODEL_359996808c8544969742d52d3c6b2455"
          }
        },
        "8ee2c5ecb22b49c4a9e7c19708c2c85b": {
          "model_module": "@jupyter-widgets/controls",
          "model_name": "FloatProgressModel",
          "state": {
            "_view_name": "ProgressView",
            "style": "IPY_MODEL_c01134d531644ee39e1d35ec41767f8b",
            "_dom_classes": [],
            "description": "",
            "_model_name": "FloatProgressModel",
            "bar_style": "success",
            "max": 1,
            "_view_module": "@jupyter-widgets/controls",
            "_model_module_version": "1.5.0",
            "value": 1,
            "_view_count": null,
            "_view_module_version": "1.5.0",
            "orientation": "horizontal",
            "min": 0,
            "description_tooltip": null,
            "_model_module": "@jupyter-widgets/controls",
            "layout": "IPY_MODEL_63869e18eac9474eb6bfd8415dbbdd48"
          }
        },
        "44475677644c490b8f12d03bea0b9dd4": {
          "model_module": "@jupyter-widgets/controls",
          "model_name": "HTMLModel",
          "state": {
            "_view_name": "HTMLView",
            "style": "IPY_MODEL_ef9d2bbbf58649c5a64b55ac43d72a0a",
            "_dom_classes": [],
            "description": "",
            "_model_name": "HTMLModel",
            "placeholder": "​",
            "_view_module": "@jupyter-widgets/controls",
            "_model_module_version": "1.5.0",
            "value": " 1/1 [00:12&lt;00:00, 12.75s/it]",
            "_view_count": null,
            "_view_module_version": "1.5.0",
            "description_tooltip": null,
            "_model_module": "@jupyter-widgets/controls",
            "layout": "IPY_MODEL_b279ccb654724938832141d6333473e7"
          }
        },
        "26a1be9d32064ec5935fcee33ecc2e39": {
          "model_module": "@jupyter-widgets/controls",
          "model_name": "DescriptionStyleModel",
          "state": {
            "_view_name": "StyleView",
            "_model_name": "DescriptionStyleModel",
            "description_width": "",
            "_view_module": "@jupyter-widgets/base",
            "_model_module_version": "1.5.0",
            "_view_count": null,
            "_view_module_version": "1.2.0",
            "_model_module": "@jupyter-widgets/controls"
          }
        },
        "359996808c8544969742d52d3c6b2455": {
          "model_module": "@jupyter-widgets/base",
          "model_name": "LayoutModel",
          "state": {
            "_view_name": "LayoutView",
            "grid_template_rows": null,
            "right": null,
            "justify_content": null,
            "_view_module": "@jupyter-widgets/base",
            "overflow": null,
            "_model_module_version": "1.2.0",
            "_view_count": null,
            "flex_flow": null,
            "width": null,
            "min_width": null,
            "border": null,
            "align_items": null,
            "bottom": null,
            "_model_module": "@jupyter-widgets/base",
            "top": null,
            "grid_column": null,
            "overflow_y": null,
            "overflow_x": null,
            "grid_auto_flow": null,
            "grid_area": null,
            "grid_template_columns": null,
            "flex": null,
            "_model_name": "LayoutModel",
            "justify_items": null,
            "grid_row": null,
            "max_height": null,
            "align_content": null,
            "visibility": null,
            "align_self": null,
            "height": null,
            "min_height": null,
            "padding": null,
            "grid_auto_rows": null,
            "grid_gap": null,
            "max_width": null,
            "order": null,
            "_view_module_version": "1.2.0",
            "grid_template_areas": null,
            "object_position": null,
            "object_fit": null,
            "grid_auto_columns": null,
            "margin": null,
            "display": null,
            "left": null
          }
        },
        "c01134d531644ee39e1d35ec41767f8b": {
          "model_module": "@jupyter-widgets/controls",
          "model_name": "ProgressStyleModel",
          "state": {
            "_view_name": "StyleView",
            "_model_name": "ProgressStyleModel",
            "description_width": "",
            "_view_module": "@jupyter-widgets/base",
            "_model_module_version": "1.5.0",
            "_view_count": null,
            "_view_module_version": "1.2.0",
            "bar_color": null,
            "_model_module": "@jupyter-widgets/controls"
          }
        },
        "63869e18eac9474eb6bfd8415dbbdd48": {
          "model_module": "@jupyter-widgets/base",
          "model_name": "LayoutModel",
          "state": {
            "_view_name": "LayoutView",
            "grid_template_rows": null,
            "right": null,
            "justify_content": null,
            "_view_module": "@jupyter-widgets/base",
            "overflow": null,
            "_model_module_version": "1.2.0",
            "_view_count": null,
            "flex_flow": null,
            "width": null,
            "min_width": null,
            "border": null,
            "align_items": null,
            "bottom": null,
            "_model_module": "@jupyter-widgets/base",
            "top": null,
            "grid_column": null,
            "overflow_y": null,
            "overflow_x": null,
            "grid_auto_flow": null,
            "grid_area": null,
            "grid_template_columns": null,
            "flex": null,
            "_model_name": "LayoutModel",
            "justify_items": null,
            "grid_row": null,
            "max_height": null,
            "align_content": null,
            "visibility": null,
            "align_self": null,
            "height": null,
            "min_height": null,
            "padding": null,
            "grid_auto_rows": null,
            "grid_gap": null,
            "max_width": null,
            "order": null,
            "_view_module_version": "1.2.0",
            "grid_template_areas": null,
            "object_position": null,
            "object_fit": null,
            "grid_auto_columns": null,
            "margin": null,
            "display": null,
            "left": null
          }
        },
        "ef9d2bbbf58649c5a64b55ac43d72a0a": {
          "model_module": "@jupyter-widgets/controls",
          "model_name": "DescriptionStyleModel",
          "state": {
            "_view_name": "StyleView",
            "_model_name": "DescriptionStyleModel",
            "description_width": "",
            "_view_module": "@jupyter-widgets/base",
            "_model_module_version": "1.5.0",
            "_view_count": null,
            "_view_module_version": "1.2.0",
            "_model_module": "@jupyter-widgets/controls"
          }
        },
        "b279ccb654724938832141d6333473e7": {
          "model_module": "@jupyter-widgets/base",
          "model_name": "LayoutModel",
          "state": {
            "_view_name": "LayoutView",
            "grid_template_rows": null,
            "right": null,
            "justify_content": null,
            "_view_module": "@jupyter-widgets/base",
            "overflow": null,
            "_model_module_version": "1.2.0",
            "_view_count": null,
            "flex_flow": null,
            "width": null,
            "min_width": null,
            "border": null,
            "align_items": null,
            "bottom": null,
            "_model_module": "@jupyter-widgets/base",
            "top": null,
            "grid_column": null,
            "overflow_y": null,
            "overflow_x": null,
            "grid_auto_flow": null,
            "grid_area": null,
            "grid_template_columns": null,
            "flex": null,
            "_model_name": "LayoutModel",
            "justify_items": null,
            "grid_row": null,
            "max_height": null,
            "align_content": null,
            "visibility": null,
            "align_self": null,
            "height": null,
            "min_height": null,
            "padding": null,
            "grid_auto_rows": null,
            "grid_gap": null,
            "max_width": null,
            "order": null,
            "_view_module_version": "1.2.0",
            "grid_template_areas": null,
            "object_position": null,
            "object_fit": null,
            "grid_auto_columns": null,
            "margin": null,
            "display": null,
            "left": null
          }
        },
        "88c6484e57024f7a9c967a442115661b": {
          "model_module": "@jupyter-widgets/controls",
          "model_name": "HBoxModel",
          "state": {
            "_view_name": "HBoxView",
            "_dom_classes": [],
            "_model_name": "HBoxModel",
            "_view_module": "@jupyter-widgets/controls",
            "_model_module_version": "1.5.0",
            "_view_count": null,
            "_view_module_version": "1.5.0",
            "box_style": "",
            "layout": "IPY_MODEL_2cada62edf9f405b9a58853a63af9b2e",
            "_model_module": "@jupyter-widgets/controls",
            "children": [
              "IPY_MODEL_8a3b7970955347689343fb86d5bd6624",
              "IPY_MODEL_77e4230663ac473e802c16a306800f00",
              "IPY_MODEL_b3ed7d7a6e0b4e54a9e900d24fa0f2d3"
            ]
          }
        },
        "2cada62edf9f405b9a58853a63af9b2e": {
          "model_module": "@jupyter-widgets/base",
          "model_name": "LayoutModel",
          "state": {
            "_view_name": "LayoutView",
            "grid_template_rows": null,
            "right": null,
            "justify_content": null,
            "_view_module": "@jupyter-widgets/base",
            "overflow": null,
            "_model_module_version": "1.2.0",
            "_view_count": null,
            "flex_flow": null,
            "width": null,
            "min_width": null,
            "border": null,
            "align_items": null,
            "bottom": null,
            "_model_module": "@jupyter-widgets/base",
            "top": null,
            "grid_column": null,
            "overflow_y": null,
            "overflow_x": null,
            "grid_auto_flow": null,
            "grid_area": null,
            "grid_template_columns": null,
            "flex": null,
            "_model_name": "LayoutModel",
            "justify_items": null,
            "grid_row": null,
            "max_height": null,
            "align_content": null,
            "visibility": null,
            "align_self": null,
            "height": null,
            "min_height": null,
            "padding": null,
            "grid_auto_rows": null,
            "grid_gap": null,
            "max_width": null,
            "order": null,
            "_view_module_version": "1.2.0",
            "grid_template_areas": null,
            "object_position": null,
            "object_fit": null,
            "grid_auto_columns": null,
            "margin": null,
            "display": null,
            "left": null
          }
        },
        "8a3b7970955347689343fb86d5bd6624": {
          "model_module": "@jupyter-widgets/controls",
          "model_name": "HTMLModel",
          "state": {
            "_view_name": "HTMLView",
            "style": "IPY_MODEL_e545f11af5d1464d8f49a44729fbae60",
            "_dom_classes": [],
            "description": "",
            "_model_name": "HTMLModel",
            "placeholder": "​",
            "_view_module": "@jupyter-widgets/controls",
            "_model_module_version": "1.5.0",
            "value": "Export report to file: 100%",
            "_view_count": null,
            "_view_module_version": "1.5.0",
            "description_tooltip": null,
            "_model_module": "@jupyter-widgets/controls",
            "layout": "IPY_MODEL_d220a93adb2448f7976c187042c4ea76"
          }
        },
        "77e4230663ac473e802c16a306800f00": {
          "model_module": "@jupyter-widgets/controls",
          "model_name": "FloatProgressModel",
          "state": {
            "_view_name": "ProgressView",
            "style": "IPY_MODEL_efba656d4cb149739ef31ce669aca11a",
            "_dom_classes": [],
            "description": "",
            "_model_name": "FloatProgressModel",
            "bar_style": "success",
            "max": 1,
            "_view_module": "@jupyter-widgets/controls",
            "_model_module_version": "1.5.0",
            "value": 1,
            "_view_count": null,
            "_view_module_version": "1.5.0",
            "orientation": "horizontal",
            "min": 0,
            "description_tooltip": null,
            "_model_module": "@jupyter-widgets/controls",
            "layout": "IPY_MODEL_ce5fc2cf9890428c822d88dff6ae881a"
          }
        },
        "b3ed7d7a6e0b4e54a9e900d24fa0f2d3": {
          "model_module": "@jupyter-widgets/controls",
          "model_name": "HTMLModel",
          "state": {
            "_view_name": "HTMLView",
            "style": "IPY_MODEL_fe1db2e536194b339853090c4aee8309",
            "_dom_classes": [],
            "description": "",
            "_model_name": "HTMLModel",
            "placeholder": "​",
            "_view_module": "@jupyter-widgets/controls",
            "_model_module_version": "1.5.0",
            "value": " 1/1 [00:00&lt;00:00,  5.96it/s]",
            "_view_count": null,
            "_view_module_version": "1.5.0",
            "description_tooltip": null,
            "_model_module": "@jupyter-widgets/controls",
            "layout": "IPY_MODEL_2034d3fa72ee48848c39a09e4f13de03"
          }
        },
        "e545f11af5d1464d8f49a44729fbae60": {
          "model_module": "@jupyter-widgets/controls",
          "model_name": "DescriptionStyleModel",
          "state": {
            "_view_name": "StyleView",
            "_model_name": "DescriptionStyleModel",
            "description_width": "",
            "_view_module": "@jupyter-widgets/base",
            "_model_module_version": "1.5.0",
            "_view_count": null,
            "_view_module_version": "1.2.0",
            "_model_module": "@jupyter-widgets/controls"
          }
        },
        "d220a93adb2448f7976c187042c4ea76": {
          "model_module": "@jupyter-widgets/base",
          "model_name": "LayoutModel",
          "state": {
            "_view_name": "LayoutView",
            "grid_template_rows": null,
            "right": null,
            "justify_content": null,
            "_view_module": "@jupyter-widgets/base",
            "overflow": null,
            "_model_module_version": "1.2.0",
            "_view_count": null,
            "flex_flow": null,
            "width": null,
            "min_width": null,
            "border": null,
            "align_items": null,
            "bottom": null,
            "_model_module": "@jupyter-widgets/base",
            "top": null,
            "grid_column": null,
            "overflow_y": null,
            "overflow_x": null,
            "grid_auto_flow": null,
            "grid_area": null,
            "grid_template_columns": null,
            "flex": null,
            "_model_name": "LayoutModel",
            "justify_items": null,
            "grid_row": null,
            "max_height": null,
            "align_content": null,
            "visibility": null,
            "align_self": null,
            "height": null,
            "min_height": null,
            "padding": null,
            "grid_auto_rows": null,
            "grid_gap": null,
            "max_width": null,
            "order": null,
            "_view_module_version": "1.2.0",
            "grid_template_areas": null,
            "object_position": null,
            "object_fit": null,
            "grid_auto_columns": null,
            "margin": null,
            "display": null,
            "left": null
          }
        },
        "efba656d4cb149739ef31ce669aca11a": {
          "model_module": "@jupyter-widgets/controls",
          "model_name": "ProgressStyleModel",
          "state": {
            "_view_name": "StyleView",
            "_model_name": "ProgressStyleModel",
            "description_width": "",
            "_view_module": "@jupyter-widgets/base",
            "_model_module_version": "1.5.0",
            "_view_count": null,
            "_view_module_version": "1.2.0",
            "bar_color": null,
            "_model_module": "@jupyter-widgets/controls"
          }
        },
        "ce5fc2cf9890428c822d88dff6ae881a": {
          "model_module": "@jupyter-widgets/base",
          "model_name": "LayoutModel",
          "state": {
            "_view_name": "LayoutView",
            "grid_template_rows": null,
            "right": null,
            "justify_content": null,
            "_view_module": "@jupyter-widgets/base",
            "overflow": null,
            "_model_module_version": "1.2.0",
            "_view_count": null,
            "flex_flow": null,
            "width": null,
            "min_width": null,
            "border": null,
            "align_items": null,
            "bottom": null,
            "_model_module": "@jupyter-widgets/base",
            "top": null,
            "grid_column": null,
            "overflow_y": null,
            "overflow_x": null,
            "grid_auto_flow": null,
            "grid_area": null,
            "grid_template_columns": null,
            "flex": null,
            "_model_name": "LayoutModel",
            "justify_items": null,
            "grid_row": null,
            "max_height": null,
            "align_content": null,
            "visibility": null,
            "align_self": null,
            "height": null,
            "min_height": null,
            "padding": null,
            "grid_auto_rows": null,
            "grid_gap": null,
            "max_width": null,
            "order": null,
            "_view_module_version": "1.2.0",
            "grid_template_areas": null,
            "object_position": null,
            "object_fit": null,
            "grid_auto_columns": null,
            "margin": null,
            "display": null,
            "left": null
          }
        },
        "fe1db2e536194b339853090c4aee8309": {
          "model_module": "@jupyter-widgets/controls",
          "model_name": "DescriptionStyleModel",
          "state": {
            "_view_name": "StyleView",
            "_model_name": "DescriptionStyleModel",
            "description_width": "",
            "_view_module": "@jupyter-widgets/base",
            "_model_module_version": "1.5.0",
            "_view_count": null,
            "_view_module_version": "1.2.0",
            "_model_module": "@jupyter-widgets/controls"
          }
        },
        "2034d3fa72ee48848c39a09e4f13de03": {
          "model_module": "@jupyter-widgets/base",
          "model_name": "LayoutModel",
          "state": {
            "_view_name": "LayoutView",
            "grid_template_rows": null,
            "right": null,
            "justify_content": null,
            "_view_module": "@jupyter-widgets/base",
            "overflow": null,
            "_model_module_version": "1.2.0",
            "_view_count": null,
            "flex_flow": null,
            "width": null,
            "min_width": null,
            "border": null,
            "align_items": null,
            "bottom": null,
            "_model_module": "@jupyter-widgets/base",
            "top": null,
            "grid_column": null,
            "overflow_y": null,
            "overflow_x": null,
            "grid_auto_flow": null,
            "grid_area": null,
            "grid_template_columns": null,
            "flex": null,
            "_model_name": "LayoutModel",
            "justify_items": null,
            "grid_row": null,
            "max_height": null,
            "align_content": null,
            "visibility": null,
            "align_self": null,
            "height": null,
            "min_height": null,
            "padding": null,
            "grid_auto_rows": null,
            "grid_gap": null,
            "max_width": null,
            "order": null,
            "_view_module_version": "1.2.0",
            "grid_template_areas": null,
            "object_position": null,
            "object_fit": null,
            "grid_auto_columns": null,
            "margin": null,
            "display": null,
            "left": null
          }
        }
      }
    }
  },
  "cells": [
    {
      "cell_type": "markdown",
      "metadata": {
        "id": "Wr3LGpfvy4gS"
      },
      "source": [
        "<font color= #1a75ff><h3>Insurance Fraud Detection - Claims </h3></font>\n",
        "\n",
        "---\n",
        "\n",
        ">Frauds in Insurance has been around since the inception of Insurance organizations. Different types of insurance are prone to different types of frauds/crimes, however, in most cases, it manifests deliberate damage to the insured person/item for the purpose to obtain claims from insurance provider. Detecting insurance fraud can be difficult since not every claim can be investigated thoroughly. The project has attempted to identify such fraudulent claims with help\n",
        "of historical data. fraud detection is a knowledge-intensive activity that allows classifying correctly whether the claim is legitimate or fraudulent. The project would help to make it easier for human agents to investigate a fraudulent claim.\n",
        "\n",
        "\n",
        "---\n",
        "\n",
        ">https://www.kaggle.com/roshansharma/insurance-claim\n",
        "\n"
      ]
    },
    {
      "cell_type": "markdown",
      "metadata": {
        "id": "GDlSxIoXs-OK"
      },
      "source": [
        "<font color= #1a75ff><h3>Data Cleansing & Exploratory Data Analysis</h3></font>\n",
        "\n",
        "---\n"
      ]
    },
    {
      "cell_type": "code",
      "metadata": {
        "id": "GPIu9VFvjqME"
      },
      "source": [
        "!pip install pandas-profiling==2.7.1"
      ],
      "execution_count": null,
      "outputs": []
    },
    {
      "cell_type": "code",
      "metadata": {
        "id": "am4DYsVSjfeH"
      },
      "source": [
        "import numpy as np\n",
        "import pandas as pd\n",
        "from pandas_profiling import ProfileReport\n",
        "import matplotlib.pyplot as plt\n",
        "import seaborn as sns\n",
        "%matplotlib inline"
      ],
      "execution_count": 52,
      "outputs": []
    },
    {
      "cell_type": "code",
      "metadata": {
        "id": "Ytslb_w0zfb8"
      },
      "source": [
        "data  = pd.read_csv('insurance_claims.csv')"
      ],
      "execution_count": 53,
      "outputs": []
    },
    {
      "cell_type": "code",
      "metadata": {
        "colab": {
          "base_uri": "https://localhost:8080/",
          "height": 292
        },
        "id": "c01Z1RJDznvg",
        "outputId": "44615a2c-dd3f-436f-c96a-11a1cb7d3be5"
      },
      "source": [
        "data.head()"
      ],
      "execution_count": 54,
      "outputs": [
        {
          "output_type": "execute_result",
          "data": {
            "text/html": [
              "<div>\n",
              "<style scoped>\n",
              "    .dataframe tbody tr th:only-of-type {\n",
              "        vertical-align: middle;\n",
              "    }\n",
              "\n",
              "    .dataframe tbody tr th {\n",
              "        vertical-align: top;\n",
              "    }\n",
              "\n",
              "    .dataframe thead th {\n",
              "        text-align: right;\n",
              "    }\n",
              "</style>\n",
              "<table border=\"1\" class=\"dataframe\">\n",
              "  <thead>\n",
              "    <tr style=\"text-align: right;\">\n",
              "      <th></th>\n",
              "      <th>months_as_customer</th>\n",
              "      <th>age</th>\n",
              "      <th>policy_number</th>\n",
              "      <th>policy_bind_date</th>\n",
              "      <th>policy_state</th>\n",
              "      <th>policy_csl</th>\n",
              "      <th>policy_deductable</th>\n",
              "      <th>policy_annual_premium</th>\n",
              "      <th>umbrella_limit</th>\n",
              "      <th>insured_zip</th>\n",
              "      <th>insured_sex</th>\n",
              "      <th>insured_education_level</th>\n",
              "      <th>insured_occupation</th>\n",
              "      <th>insured_hobbies</th>\n",
              "      <th>insured_relationship</th>\n",
              "      <th>capital-gains</th>\n",
              "      <th>capital-loss</th>\n",
              "      <th>incident_date</th>\n",
              "      <th>incident_type</th>\n",
              "      <th>collision_type</th>\n",
              "      <th>incident_severity</th>\n",
              "      <th>authorities_contacted</th>\n",
              "      <th>incident_state</th>\n",
              "      <th>incident_city</th>\n",
              "      <th>incident_location</th>\n",
              "      <th>incident_hour_of_the_day</th>\n",
              "      <th>number_of_vehicles_involved</th>\n",
              "      <th>property_damage</th>\n",
              "      <th>bodily_injuries</th>\n",
              "      <th>witnesses</th>\n",
              "      <th>police_report_available</th>\n",
              "      <th>total_claim_amount</th>\n",
              "      <th>injury_claim</th>\n",
              "      <th>property_claim</th>\n",
              "      <th>vehicle_claim</th>\n",
              "      <th>auto_make</th>\n",
              "      <th>auto_model</th>\n",
              "      <th>auto_year</th>\n",
              "      <th>fraud_reported</th>\n",
              "    </tr>\n",
              "  </thead>\n",
              "  <tbody>\n",
              "    <tr>\n",
              "      <th>0</th>\n",
              "      <td>328</td>\n",
              "      <td>48</td>\n",
              "      <td>521585</td>\n",
              "      <td>2014-10-17</td>\n",
              "      <td>OH</td>\n",
              "      <td>250/500</td>\n",
              "      <td>1000</td>\n",
              "      <td>1406.91</td>\n",
              "      <td>0</td>\n",
              "      <td>466132</td>\n",
              "      <td>MALE</td>\n",
              "      <td>MD</td>\n",
              "      <td>craft-repair</td>\n",
              "      <td>sleeping</td>\n",
              "      <td>husband</td>\n",
              "      <td>53300</td>\n",
              "      <td>0</td>\n",
              "      <td>2015-01-25</td>\n",
              "      <td>Single Vehicle Collision</td>\n",
              "      <td>Side Collision</td>\n",
              "      <td>Major Damage</td>\n",
              "      <td>Police</td>\n",
              "      <td>SC</td>\n",
              "      <td>Columbus</td>\n",
              "      <td>9935 4th Drive</td>\n",
              "      <td>5</td>\n",
              "      <td>1</td>\n",
              "      <td>YES</td>\n",
              "      <td>1</td>\n",
              "      <td>2</td>\n",
              "      <td>YES</td>\n",
              "      <td>71610</td>\n",
              "      <td>6510</td>\n",
              "      <td>13020</td>\n",
              "      <td>52080</td>\n",
              "      <td>Saab</td>\n",
              "      <td>92x</td>\n",
              "      <td>2004</td>\n",
              "      <td>Y</td>\n",
              "    </tr>\n",
              "    <tr>\n",
              "      <th>1</th>\n",
              "      <td>228</td>\n",
              "      <td>42</td>\n",
              "      <td>342868</td>\n",
              "      <td>2006-06-27</td>\n",
              "      <td>IN</td>\n",
              "      <td>250/500</td>\n",
              "      <td>2000</td>\n",
              "      <td>1197.22</td>\n",
              "      <td>5000000</td>\n",
              "      <td>468176</td>\n",
              "      <td>MALE</td>\n",
              "      <td>MD</td>\n",
              "      <td>machine-op-inspct</td>\n",
              "      <td>reading</td>\n",
              "      <td>other-relative</td>\n",
              "      <td>0</td>\n",
              "      <td>0</td>\n",
              "      <td>2015-01-21</td>\n",
              "      <td>Vehicle Theft</td>\n",
              "      <td>?</td>\n",
              "      <td>Minor Damage</td>\n",
              "      <td>Police</td>\n",
              "      <td>VA</td>\n",
              "      <td>Riverwood</td>\n",
              "      <td>6608 MLK Hwy</td>\n",
              "      <td>8</td>\n",
              "      <td>1</td>\n",
              "      <td>?</td>\n",
              "      <td>0</td>\n",
              "      <td>0</td>\n",
              "      <td>?</td>\n",
              "      <td>5070</td>\n",
              "      <td>780</td>\n",
              "      <td>780</td>\n",
              "      <td>3510</td>\n",
              "      <td>Mercedes</td>\n",
              "      <td>E400</td>\n",
              "      <td>2007</td>\n",
              "      <td>Y</td>\n",
              "    </tr>\n",
              "    <tr>\n",
              "      <th>2</th>\n",
              "      <td>134</td>\n",
              "      <td>29</td>\n",
              "      <td>687698</td>\n",
              "      <td>2000-09-06</td>\n",
              "      <td>OH</td>\n",
              "      <td>100/300</td>\n",
              "      <td>2000</td>\n",
              "      <td>1413.14</td>\n",
              "      <td>5000000</td>\n",
              "      <td>430632</td>\n",
              "      <td>FEMALE</td>\n",
              "      <td>PhD</td>\n",
              "      <td>sales</td>\n",
              "      <td>board-games</td>\n",
              "      <td>own-child</td>\n",
              "      <td>35100</td>\n",
              "      <td>0</td>\n",
              "      <td>2015-02-22</td>\n",
              "      <td>Multi-vehicle Collision</td>\n",
              "      <td>Rear Collision</td>\n",
              "      <td>Minor Damage</td>\n",
              "      <td>Police</td>\n",
              "      <td>NY</td>\n",
              "      <td>Columbus</td>\n",
              "      <td>7121 Francis Lane</td>\n",
              "      <td>7</td>\n",
              "      <td>3</td>\n",
              "      <td>NO</td>\n",
              "      <td>2</td>\n",
              "      <td>3</td>\n",
              "      <td>NO</td>\n",
              "      <td>34650</td>\n",
              "      <td>7700</td>\n",
              "      <td>3850</td>\n",
              "      <td>23100</td>\n",
              "      <td>Dodge</td>\n",
              "      <td>RAM</td>\n",
              "      <td>2007</td>\n",
              "      <td>N</td>\n",
              "    </tr>\n",
              "    <tr>\n",
              "      <th>3</th>\n",
              "      <td>256</td>\n",
              "      <td>41</td>\n",
              "      <td>227811</td>\n",
              "      <td>1990-05-25</td>\n",
              "      <td>IL</td>\n",
              "      <td>250/500</td>\n",
              "      <td>2000</td>\n",
              "      <td>1415.74</td>\n",
              "      <td>6000000</td>\n",
              "      <td>608117</td>\n",
              "      <td>FEMALE</td>\n",
              "      <td>PhD</td>\n",
              "      <td>armed-forces</td>\n",
              "      <td>board-games</td>\n",
              "      <td>unmarried</td>\n",
              "      <td>48900</td>\n",
              "      <td>-62400</td>\n",
              "      <td>2015-01-10</td>\n",
              "      <td>Single Vehicle Collision</td>\n",
              "      <td>Front Collision</td>\n",
              "      <td>Major Damage</td>\n",
              "      <td>Police</td>\n",
              "      <td>OH</td>\n",
              "      <td>Arlington</td>\n",
              "      <td>6956 Maple Drive</td>\n",
              "      <td>5</td>\n",
              "      <td>1</td>\n",
              "      <td>?</td>\n",
              "      <td>1</td>\n",
              "      <td>2</td>\n",
              "      <td>NO</td>\n",
              "      <td>63400</td>\n",
              "      <td>6340</td>\n",
              "      <td>6340</td>\n",
              "      <td>50720</td>\n",
              "      <td>Chevrolet</td>\n",
              "      <td>Tahoe</td>\n",
              "      <td>2014</td>\n",
              "      <td>Y</td>\n",
              "    </tr>\n",
              "    <tr>\n",
              "      <th>4</th>\n",
              "      <td>228</td>\n",
              "      <td>44</td>\n",
              "      <td>367455</td>\n",
              "      <td>2014-06-06</td>\n",
              "      <td>IL</td>\n",
              "      <td>500/1000</td>\n",
              "      <td>1000</td>\n",
              "      <td>1583.91</td>\n",
              "      <td>6000000</td>\n",
              "      <td>610706</td>\n",
              "      <td>MALE</td>\n",
              "      <td>Associate</td>\n",
              "      <td>sales</td>\n",
              "      <td>board-games</td>\n",
              "      <td>unmarried</td>\n",
              "      <td>66000</td>\n",
              "      <td>-46000</td>\n",
              "      <td>2015-02-17</td>\n",
              "      <td>Vehicle Theft</td>\n",
              "      <td>?</td>\n",
              "      <td>Minor Damage</td>\n",
              "      <td>None</td>\n",
              "      <td>NY</td>\n",
              "      <td>Arlington</td>\n",
              "      <td>3041 3rd Ave</td>\n",
              "      <td>20</td>\n",
              "      <td>1</td>\n",
              "      <td>NO</td>\n",
              "      <td>0</td>\n",
              "      <td>1</td>\n",
              "      <td>NO</td>\n",
              "      <td>6500</td>\n",
              "      <td>1300</td>\n",
              "      <td>650</td>\n",
              "      <td>4550</td>\n",
              "      <td>Accura</td>\n",
              "      <td>RSX</td>\n",
              "      <td>2009</td>\n",
              "      <td>N</td>\n",
              "    </tr>\n",
              "  </tbody>\n",
              "</table>\n",
              "</div>"
            ],
            "text/plain": [
              "   months_as_customer  age  policy_number  ... auto_model auto_year fraud_reported\n",
              "0                 328   48         521585  ...        92x      2004              Y\n",
              "1                 228   42         342868  ...       E400      2007              Y\n",
              "2                 134   29         687698  ...        RAM      2007              N\n",
              "3                 256   41         227811  ...      Tahoe      2014              Y\n",
              "4                 228   44         367455  ...        RSX      2009              N\n",
              "\n",
              "[5 rows x 39 columns]"
            ]
          },
          "metadata": {
            "tags": []
          },
          "execution_count": 54
        }
      ]
    },
    {
      "cell_type": "code",
      "metadata": {
        "colab": {
          "base_uri": "https://localhost:8080/"
        },
        "id": "4ab5Gmo7zfAK",
        "outputId": "0f36ee90-eb7d-4c77-9a6c-c689e0c6d2de"
      },
      "source": [
        "nRow, nCol = data.shape\n",
        "print(f'There are {nRow} and {nCol} columns.')"
      ],
      "execution_count": 55,
      "outputs": [
        {
          "output_type": "stream",
          "text": [
            "There are 1000 and 39 columns.\n"
          ],
          "name": "stdout"
        }
      ]
    },
    {
      "cell_type": "code",
      "metadata": {
        "colab": {
          "base_uri": "https://localhost:8080/"
        },
        "id": "IuffvvytzvvQ",
        "outputId": "0ff79543-a26c-4a43-a7b3-85b6144a639f"
      },
      "source": [
        "data.info()"
      ],
      "execution_count": 56,
      "outputs": [
        {
          "output_type": "stream",
          "text": [
            "<class 'pandas.core.frame.DataFrame'>\n",
            "RangeIndex: 1000 entries, 0 to 999\n",
            "Data columns (total 39 columns):\n",
            " #   Column                       Non-Null Count  Dtype  \n",
            "---  ------                       --------------  -----  \n",
            " 0   months_as_customer           1000 non-null   int64  \n",
            " 1   age                          1000 non-null   int64  \n",
            " 2   policy_number                1000 non-null   int64  \n",
            " 3   policy_bind_date             1000 non-null   object \n",
            " 4   policy_state                 1000 non-null   object \n",
            " 5   policy_csl                   1000 non-null   object \n",
            " 6   policy_deductable            1000 non-null   int64  \n",
            " 7   policy_annual_premium        1000 non-null   float64\n",
            " 8   umbrella_limit               1000 non-null   int64  \n",
            " 9   insured_zip                  1000 non-null   int64  \n",
            " 10  insured_sex                  1000 non-null   object \n",
            " 11  insured_education_level      1000 non-null   object \n",
            " 12  insured_occupation           1000 non-null   object \n",
            " 13  insured_hobbies              1000 non-null   object \n",
            " 14  insured_relationship         1000 non-null   object \n",
            " 15  capital-gains                1000 non-null   int64  \n",
            " 16  capital-loss                 1000 non-null   int64  \n",
            " 17  incident_date                1000 non-null   object \n",
            " 18  incident_type                1000 non-null   object \n",
            " 19  collision_type               1000 non-null   object \n",
            " 20  incident_severity            1000 non-null   object \n",
            " 21  authorities_contacted        1000 non-null   object \n",
            " 22  incident_state               1000 non-null   object \n",
            " 23  incident_city                1000 non-null   object \n",
            " 24  incident_location            1000 non-null   object \n",
            " 25  incident_hour_of_the_day     1000 non-null   int64  \n",
            " 26  number_of_vehicles_involved  1000 non-null   int64  \n",
            " 27  property_damage              1000 non-null   object \n",
            " 28  bodily_injuries              1000 non-null   int64  \n",
            " 29  witnesses                    1000 non-null   int64  \n",
            " 30  police_report_available      1000 non-null   object \n",
            " 31  total_claim_amount           1000 non-null   int64  \n",
            " 32  injury_claim                 1000 non-null   int64  \n",
            " 33  property_claim               1000 non-null   int64  \n",
            " 34  vehicle_claim                1000 non-null   int64  \n",
            " 35  auto_make                    1000 non-null   object \n",
            " 36  auto_model                   1000 non-null   object \n",
            " 37  auto_year                    1000 non-null   int64  \n",
            " 38  fraud_reported               1000 non-null   object \n",
            "dtypes: float64(1), int64(17), object(21)\n",
            "memory usage: 304.8+ KB\n"
          ],
          "name": "stdout"
        }
      ]
    },
    {
      "cell_type": "code",
      "metadata": {
        "colab": {
          "base_uri": "https://localhost:8080/"
        },
        "id": "j5NfKsHL2Mzy",
        "outputId": "b8e42ca2-72ed-4a51-d6b2-ba34fba22f84"
      },
      "source": [
        "data = data.replace('?',np.NaN)\n",
        "data.isnull().any()"
      ],
      "execution_count": 57,
      "outputs": [
        {
          "output_type": "execute_result",
          "data": {
            "text/plain": [
              "months_as_customer             False\n",
              "age                            False\n",
              "policy_number                  False\n",
              "policy_bind_date               False\n",
              "policy_state                   False\n",
              "policy_csl                     False\n",
              "policy_deductable              False\n",
              "policy_annual_premium          False\n",
              "umbrella_limit                 False\n",
              "insured_zip                    False\n",
              "insured_sex                    False\n",
              "insured_education_level        False\n",
              "insured_occupation             False\n",
              "insured_hobbies                False\n",
              "insured_relationship           False\n",
              "capital-gains                  False\n",
              "capital-loss                   False\n",
              "incident_date                  False\n",
              "incident_type                  False\n",
              "collision_type                  True\n",
              "incident_severity              False\n",
              "authorities_contacted          False\n",
              "incident_state                 False\n",
              "incident_city                  False\n",
              "incident_location              False\n",
              "incident_hour_of_the_day       False\n",
              "number_of_vehicles_involved    False\n",
              "property_damage                 True\n",
              "bodily_injuries                False\n",
              "witnesses                      False\n",
              "police_report_available         True\n",
              "total_claim_amount             False\n",
              "injury_claim                   False\n",
              "property_claim                 False\n",
              "vehicle_claim                  False\n",
              "auto_make                      False\n",
              "auto_model                     False\n",
              "auto_year                      False\n",
              "fraud_reported                 False\n",
              "dtype: bool"
            ]
          },
          "metadata": {
            "tags": []
          },
          "execution_count": 57
        }
      ]
    },
    {
      "cell_type": "code",
      "metadata": {
        "colab": {
          "base_uri": "https://localhost:8080/"
        },
        "id": "VJBHUQ9E2TvF",
        "outputId": "a76d3cdf-e82c-488b-8998-6f1163f2ab39"
      },
      "source": [
        "data.info()"
      ],
      "execution_count": 58,
      "outputs": [
        {
          "output_type": "stream",
          "text": [
            "<class 'pandas.core.frame.DataFrame'>\n",
            "RangeIndex: 1000 entries, 0 to 999\n",
            "Data columns (total 39 columns):\n",
            " #   Column                       Non-Null Count  Dtype  \n",
            "---  ------                       --------------  -----  \n",
            " 0   months_as_customer           1000 non-null   int64  \n",
            " 1   age                          1000 non-null   int64  \n",
            " 2   policy_number                1000 non-null   int64  \n",
            " 3   policy_bind_date             1000 non-null   object \n",
            " 4   policy_state                 1000 non-null   object \n",
            " 5   policy_csl                   1000 non-null   object \n",
            " 6   policy_deductable            1000 non-null   int64  \n",
            " 7   policy_annual_premium        1000 non-null   float64\n",
            " 8   umbrella_limit               1000 non-null   int64  \n",
            " 9   insured_zip                  1000 non-null   int64  \n",
            " 10  insured_sex                  1000 non-null   object \n",
            " 11  insured_education_level      1000 non-null   object \n",
            " 12  insured_occupation           1000 non-null   object \n",
            " 13  insured_hobbies              1000 non-null   object \n",
            " 14  insured_relationship         1000 non-null   object \n",
            " 15  capital-gains                1000 non-null   int64  \n",
            " 16  capital-loss                 1000 non-null   int64  \n",
            " 17  incident_date                1000 non-null   object \n",
            " 18  incident_type                1000 non-null   object \n",
            " 19  collision_type               822 non-null    object \n",
            " 20  incident_severity            1000 non-null   object \n",
            " 21  authorities_contacted        1000 non-null   object \n",
            " 22  incident_state               1000 non-null   object \n",
            " 23  incident_city                1000 non-null   object \n",
            " 24  incident_location            1000 non-null   object \n",
            " 25  incident_hour_of_the_day     1000 non-null   int64  \n",
            " 26  number_of_vehicles_involved  1000 non-null   int64  \n",
            " 27  property_damage              640 non-null    object \n",
            " 28  bodily_injuries              1000 non-null   int64  \n",
            " 29  witnesses                    1000 non-null   int64  \n",
            " 30  police_report_available      657 non-null    object \n",
            " 31  total_claim_amount           1000 non-null   int64  \n",
            " 32  injury_claim                 1000 non-null   int64  \n",
            " 33  property_claim               1000 non-null   int64  \n",
            " 34  vehicle_claim                1000 non-null   int64  \n",
            " 35  auto_make                    1000 non-null   object \n",
            " 36  auto_model                   1000 non-null   object \n",
            " 37  auto_year                    1000 non-null   int64  \n",
            " 38  fraud_reported               1000 non-null   object \n",
            "dtypes: float64(1), int64(17), object(21)\n",
            "memory usage: 304.8+ KB\n"
          ],
          "name": "stdout"
        }
      ]
    },
    {
      "cell_type": "code",
      "metadata": {
        "colab": {
          "base_uri": "https://localhost:8080/",
          "height": 35
        },
        "id": "WOXVXd1b77Dk",
        "outputId": "79fe8fbf-8e5d-473b-f26f-e83ec4acfce2"
      },
      "source": [
        "data['collision_type'].mode()[0]"
      ],
      "execution_count": 59,
      "outputs": [
        {
          "output_type": "execute_result",
          "data": {
            "application/vnd.google.colaboratory.intrinsic+json": {
              "type": "string"
            },
            "text/plain": [
              "'Rear Collision'"
            ]
          },
          "metadata": {
            "tags": []
          },
          "execution_count": 59
        }
      ]
    },
    {
      "cell_type": "code",
      "metadata": {
        "id": "KsrxXLiE70-3"
      },
      "source": [
        "data['collision_type'].fillna(data['collision_type'].mode()[0], inplace = True)"
      ],
      "execution_count": 60,
      "outputs": []
    },
    {
      "cell_type": "code",
      "metadata": {
        "colab": {
          "base_uri": "https://localhost:8080/",
          "height": 35
        },
        "id": "gNOz6RRK8sXA",
        "outputId": "d4f90fa1-65ed-411a-97ba-79d3185c4830"
      },
      "source": [
        "data['property_damage'].mode()[0]"
      ],
      "execution_count": 61,
      "outputs": [
        {
          "output_type": "execute_result",
          "data": {
            "application/vnd.google.colaboratory.intrinsic+json": {
              "type": "string"
            },
            "text/plain": [
              "'NO'"
            ]
          },
          "metadata": {
            "tags": []
          },
          "execution_count": 61
        }
      ]
    },
    {
      "cell_type": "code",
      "metadata": {
        "id": "qoewpFnJ8oQm"
      },
      "source": [
        "data['property_damage'].fillna('NO', inplace = True)"
      ],
      "execution_count": 62,
      "outputs": []
    },
    {
      "cell_type": "code",
      "metadata": {
        "colab": {
          "base_uri": "https://localhost:8080/",
          "height": 35
        },
        "id": "KXY98nvb-Bb6",
        "outputId": "672bb013-924b-4711-bed6-e882307b3fac"
      },
      "source": [
        "data['police_report_available'].mode()[0]"
      ],
      "execution_count": 63,
      "outputs": [
        {
          "output_type": "execute_result",
          "data": {
            "application/vnd.google.colaboratory.intrinsic+json": {
              "type": "string"
            },
            "text/plain": [
              "'NO'"
            ]
          },
          "metadata": {
            "tags": []
          },
          "execution_count": 63
        }
      ]
    },
    {
      "cell_type": "code",
      "metadata": {
        "id": "OmcEBygg97Hy"
      },
      "source": [
        "data['police_report_available'].fillna('NO', inplace = True)"
      ],
      "execution_count": 64,
      "outputs": []
    },
    {
      "cell_type": "code",
      "metadata": {
        "colab": {
          "base_uri": "https://localhost:8080/"
        },
        "id": "VXfVR4AvAOVV",
        "outputId": "51ec6b55-836d-47c1-ef7e-297f552936fe"
      },
      "source": [
        "data.isnull().any().any()"
      ],
      "execution_count": null,
      "outputs": [
        {
          "output_type": "execute_result",
          "data": {
            "text/plain": [
              "False"
            ]
          },
          "metadata": {
            "tags": []
          },
          "execution_count": 49
        }
      ]
    },
    {
      "cell_type": "code",
      "metadata": {
        "id": "pEMy_P3SitY4"
      },
      "source": [
        "report = ProfileReport(data)"
      ],
      "execution_count": null,
      "outputs": []
    },
    {
      "cell_type": "code",
      "metadata": {
        "colab": {
          "base_uri": "https://localhost:8080/",
          "height": 145,
          "referenced_widgets": [
            "a7da8db5ff6b4081b57e08e53cf60904",
            "c8dc6d730468469d8edbf8804c267812",
            "cd2e601d13cd4c11ba74d60cd01ffc44",
            "1d685bcf7a464428a362fb7ecdea0357",
            "930f90e40fb649cba7eead723ceb7eef",
            "e091df0bf2744a21ae2796b75a615576",
            "f4ebb77820274a028939c02110527bb7",
            "5b7aba948416410bae82bdf84726e324",
            "0eaedcc45700445e855ae8d3c03958ef",
            "8f2ed422725347e4ae3fe8de549ca283",
            "ecd694587f664217b3e60a7e1ad7bbd8",
            "96fa1db54f2249248e8b894840681e27",
            "b526c35f0763477ebad867315a1930af",
            "72dbb7a97688451ca3b5d98f8a2b1a73",
            "ed29a651982c41a6a60e25907946b613",
            "29c99c9264be4c848ec52dbf88ac4844",
            "86ea5cb8de634cc189962559047b6c74",
            "5d1c3d023f8b498bb74f77c208c69882",
            "3042129bb7664e0b8c15a1e576fdf03f",
            "7e67c854ce9440ec95019f0eb9f8d106",
            "cef324d14b0b453a80fd4adf04a31a0b",
            "e520edb0c0694bbf9241f844e998383f",
            "3d46864d3d0b4f88b436e2c078cabc8f",
            "8cb5f8e30b0c468588fb514dde507e74",
            "86d67207dd8d44f39a44fbb58177253c",
            "8ee2c5ecb22b49c4a9e7c19708c2c85b",
            "44475677644c490b8f12d03bea0b9dd4",
            "26a1be9d32064ec5935fcee33ecc2e39",
            "359996808c8544969742d52d3c6b2455",
            "c01134d531644ee39e1d35ec41767f8b",
            "63869e18eac9474eb6bfd8415dbbdd48",
            "ef9d2bbbf58649c5a64b55ac43d72a0a",
            "b279ccb654724938832141d6333473e7",
            "88c6484e57024f7a9c967a442115661b",
            "2cada62edf9f405b9a58853a63af9b2e",
            "8a3b7970955347689343fb86d5bd6624",
            "77e4230663ac473e802c16a306800f00",
            "b3ed7d7a6e0b4e54a9e900d24fa0f2d3",
            "e545f11af5d1464d8f49a44729fbae60",
            "d220a93adb2448f7976c187042c4ea76",
            "efba656d4cb149739ef31ce669aca11a",
            "ce5fc2cf9890428c822d88dff6ae881a",
            "fe1db2e536194b339853090c4aee8309",
            "2034d3fa72ee48848c39a09e4f13de03"
          ]
        },
        "id": "Dqi9U_qIk8f5",
        "outputId": "9a71578f-63fe-4917-e6e8-d33b8c91eaba"
      },
      "source": [
        "report.to_file(\"ProfileReportTest.html\")"
      ],
      "execution_count": null,
      "outputs": [
        {
          "output_type": "display_data",
          "data": {
            "application/vnd.jupyter.widget-view+json": {
              "model_id": "a7da8db5ff6b4081b57e08e53cf60904",
              "version_minor": 0,
              "version_major": 2
            },
            "text/plain": [
              "Summarize dataset:   0%|          | 0/51 [00:00<?, ?it/s]"
            ]
          },
          "metadata": {
            "tags": []
          }
        },
        {
          "output_type": "display_data",
          "data": {
            "application/vnd.jupyter.widget-view+json": {
              "model_id": "96fa1db54f2249248e8b894840681e27",
              "version_minor": 0,
              "version_major": 2
            },
            "text/plain": [
              "Generate report structure:   0%|          | 0/1 [00:00<?, ?it/s]"
            ]
          },
          "metadata": {
            "tags": []
          }
        },
        {
          "output_type": "display_data",
          "data": {
            "application/vnd.jupyter.widget-view+json": {
              "model_id": "3d46864d3d0b4f88b436e2c078cabc8f",
              "version_minor": 0,
              "version_major": 2
            },
            "text/plain": [
              "Render HTML:   0%|          | 0/1 [00:00<?, ?it/s]"
            ]
          },
          "metadata": {
            "tags": []
          }
        },
        {
          "output_type": "display_data",
          "data": {
            "application/vnd.jupyter.widget-view+json": {
              "model_id": "88c6484e57024f7a9c967a442115661b",
              "version_minor": 0,
              "version_major": 2
            },
            "text/plain": [
              "Export report to file:   0%|          | 0/1 [00:00<?, ?it/s]"
            ]
          },
          "metadata": {
            "tags": []
          }
        }
      ]
    },
    {
      "cell_type": "code",
      "metadata": {
        "colab": {
          "base_uri": "https://localhost:8080/",
          "height": 334
        },
        "id": "JD5XRTau0hAy",
        "outputId": "c279afd7-5b6e-44dd-b937-4f885e8bf7ce"
      },
      "source": [
        "data.describe()"
      ],
      "execution_count": null,
      "outputs": [
        {
          "output_type": "execute_result",
          "data": {
            "text/html": [
              "<div>\n",
              "<style scoped>\n",
              "    .dataframe tbody tr th:only-of-type {\n",
              "        vertical-align: middle;\n",
              "    }\n",
              "\n",
              "    .dataframe tbody tr th {\n",
              "        vertical-align: top;\n",
              "    }\n",
              "\n",
              "    .dataframe thead th {\n",
              "        text-align: right;\n",
              "    }\n",
              "</style>\n",
              "<table border=\"1\" class=\"dataframe\">\n",
              "  <thead>\n",
              "    <tr style=\"text-align: right;\">\n",
              "      <th></th>\n",
              "      <th>months_as_customer</th>\n",
              "      <th>age</th>\n",
              "      <th>policy_number</th>\n",
              "      <th>policy_deductable</th>\n",
              "      <th>policy_annual_premium</th>\n",
              "      <th>umbrella_limit</th>\n",
              "      <th>insured_zip</th>\n",
              "      <th>capital-gains</th>\n",
              "      <th>capital-loss</th>\n",
              "      <th>incident_hour_of_the_day</th>\n",
              "      <th>number_of_vehicles_involved</th>\n",
              "      <th>bodily_injuries</th>\n",
              "      <th>witnesses</th>\n",
              "      <th>total_claim_amount</th>\n",
              "      <th>injury_claim</th>\n",
              "      <th>property_claim</th>\n",
              "      <th>vehicle_claim</th>\n",
              "      <th>auto_year</th>\n",
              "    </tr>\n",
              "  </thead>\n",
              "  <tbody>\n",
              "    <tr>\n",
              "      <th>count</th>\n",
              "      <td>1000.000000</td>\n",
              "      <td>1000.000000</td>\n",
              "      <td>1000.000000</td>\n",
              "      <td>1000.000000</td>\n",
              "      <td>1000.000000</td>\n",
              "      <td>1.000000e+03</td>\n",
              "      <td>1000.000000</td>\n",
              "      <td>1000.000000</td>\n",
              "      <td>1000.000000</td>\n",
              "      <td>1000.000000</td>\n",
              "      <td>1000.00000</td>\n",
              "      <td>1000.000000</td>\n",
              "      <td>1000.000000</td>\n",
              "      <td>1000.00000</td>\n",
              "      <td>1000.000000</td>\n",
              "      <td>1000.000000</td>\n",
              "      <td>1000.000000</td>\n",
              "      <td>1000.000000</td>\n",
              "    </tr>\n",
              "    <tr>\n",
              "      <th>mean</th>\n",
              "      <td>203.954000</td>\n",
              "      <td>38.948000</td>\n",
              "      <td>546238.648000</td>\n",
              "      <td>1136.000000</td>\n",
              "      <td>1256.406150</td>\n",
              "      <td>1.101000e+06</td>\n",
              "      <td>501214.488000</td>\n",
              "      <td>25126.100000</td>\n",
              "      <td>-26793.700000</td>\n",
              "      <td>11.644000</td>\n",
              "      <td>1.83900</td>\n",
              "      <td>0.992000</td>\n",
              "      <td>1.487000</td>\n",
              "      <td>52761.94000</td>\n",
              "      <td>7433.420000</td>\n",
              "      <td>7399.570000</td>\n",
              "      <td>37928.950000</td>\n",
              "      <td>2005.103000</td>\n",
              "    </tr>\n",
              "    <tr>\n",
              "      <th>std</th>\n",
              "      <td>115.113174</td>\n",
              "      <td>9.140287</td>\n",
              "      <td>257063.005276</td>\n",
              "      <td>611.864673</td>\n",
              "      <td>244.167395</td>\n",
              "      <td>2.297407e+06</td>\n",
              "      <td>71701.610941</td>\n",
              "      <td>27872.187708</td>\n",
              "      <td>28104.096686</td>\n",
              "      <td>6.951373</td>\n",
              "      <td>1.01888</td>\n",
              "      <td>0.820127</td>\n",
              "      <td>1.111335</td>\n",
              "      <td>26401.53319</td>\n",
              "      <td>4880.951853</td>\n",
              "      <td>4824.726179</td>\n",
              "      <td>18886.252893</td>\n",
              "      <td>6.015861</td>\n",
              "    </tr>\n",
              "    <tr>\n",
              "      <th>min</th>\n",
              "      <td>0.000000</td>\n",
              "      <td>19.000000</td>\n",
              "      <td>100804.000000</td>\n",
              "      <td>500.000000</td>\n",
              "      <td>433.330000</td>\n",
              "      <td>-1.000000e+06</td>\n",
              "      <td>430104.000000</td>\n",
              "      <td>0.000000</td>\n",
              "      <td>-111100.000000</td>\n",
              "      <td>0.000000</td>\n",
              "      <td>1.00000</td>\n",
              "      <td>0.000000</td>\n",
              "      <td>0.000000</td>\n",
              "      <td>100.00000</td>\n",
              "      <td>0.000000</td>\n",
              "      <td>0.000000</td>\n",
              "      <td>70.000000</td>\n",
              "      <td>1995.000000</td>\n",
              "    </tr>\n",
              "    <tr>\n",
              "      <th>25%</th>\n",
              "      <td>115.750000</td>\n",
              "      <td>32.000000</td>\n",
              "      <td>335980.250000</td>\n",
              "      <td>500.000000</td>\n",
              "      <td>1089.607500</td>\n",
              "      <td>0.000000e+00</td>\n",
              "      <td>448404.500000</td>\n",
              "      <td>0.000000</td>\n",
              "      <td>-51500.000000</td>\n",
              "      <td>6.000000</td>\n",
              "      <td>1.00000</td>\n",
              "      <td>0.000000</td>\n",
              "      <td>1.000000</td>\n",
              "      <td>41812.50000</td>\n",
              "      <td>4295.000000</td>\n",
              "      <td>4445.000000</td>\n",
              "      <td>30292.500000</td>\n",
              "      <td>2000.000000</td>\n",
              "    </tr>\n",
              "    <tr>\n",
              "      <th>50%</th>\n",
              "      <td>199.500000</td>\n",
              "      <td>38.000000</td>\n",
              "      <td>533135.000000</td>\n",
              "      <td>1000.000000</td>\n",
              "      <td>1257.200000</td>\n",
              "      <td>0.000000e+00</td>\n",
              "      <td>466445.500000</td>\n",
              "      <td>0.000000</td>\n",
              "      <td>-23250.000000</td>\n",
              "      <td>12.000000</td>\n",
              "      <td>1.00000</td>\n",
              "      <td>1.000000</td>\n",
              "      <td>1.000000</td>\n",
              "      <td>58055.00000</td>\n",
              "      <td>6775.000000</td>\n",
              "      <td>6750.000000</td>\n",
              "      <td>42100.000000</td>\n",
              "      <td>2005.000000</td>\n",
              "    </tr>\n",
              "    <tr>\n",
              "      <th>75%</th>\n",
              "      <td>276.250000</td>\n",
              "      <td>44.000000</td>\n",
              "      <td>759099.750000</td>\n",
              "      <td>2000.000000</td>\n",
              "      <td>1415.695000</td>\n",
              "      <td>0.000000e+00</td>\n",
              "      <td>603251.000000</td>\n",
              "      <td>51025.000000</td>\n",
              "      <td>0.000000</td>\n",
              "      <td>17.000000</td>\n",
              "      <td>3.00000</td>\n",
              "      <td>2.000000</td>\n",
              "      <td>2.000000</td>\n",
              "      <td>70592.50000</td>\n",
              "      <td>11305.000000</td>\n",
              "      <td>10885.000000</td>\n",
              "      <td>50822.500000</td>\n",
              "      <td>2010.000000</td>\n",
              "    </tr>\n",
              "    <tr>\n",
              "      <th>max</th>\n",
              "      <td>479.000000</td>\n",
              "      <td>64.000000</td>\n",
              "      <td>999435.000000</td>\n",
              "      <td>2000.000000</td>\n",
              "      <td>2047.590000</td>\n",
              "      <td>1.000000e+07</td>\n",
              "      <td>620962.000000</td>\n",
              "      <td>100500.000000</td>\n",
              "      <td>0.000000</td>\n",
              "      <td>23.000000</td>\n",
              "      <td>4.00000</td>\n",
              "      <td>2.000000</td>\n",
              "      <td>3.000000</td>\n",
              "      <td>114920.00000</td>\n",
              "      <td>21450.000000</td>\n",
              "      <td>23670.000000</td>\n",
              "      <td>79560.000000</td>\n",
              "      <td>2015.000000</td>\n",
              "    </tr>\n",
              "  </tbody>\n",
              "</table>\n",
              "</div>"
            ],
            "text/plain": [
              "       months_as_customer          age  ...  vehicle_claim    auto_year\n",
              "count         1000.000000  1000.000000  ...    1000.000000  1000.000000\n",
              "mean           203.954000    38.948000  ...   37928.950000  2005.103000\n",
              "std            115.113174     9.140287  ...   18886.252893     6.015861\n",
              "min              0.000000    19.000000  ...      70.000000  1995.000000\n",
              "25%            115.750000    32.000000  ...   30292.500000  2000.000000\n",
              "50%            199.500000    38.000000  ...   42100.000000  2005.000000\n",
              "75%            276.250000    44.000000  ...   50822.500000  2010.000000\n",
              "max            479.000000    64.000000  ...   79560.000000  2015.000000\n",
              "\n",
              "[8 rows x 18 columns]"
            ]
          },
          "metadata": {
            "tags": []
          },
          "execution_count": 50
        }
      ]
    },
    {
      "cell_type": "code",
      "metadata": {
        "colab": {
          "base_uri": "https://localhost:8080/",
          "height": 296
        },
        "id": "TuY6FGrT62oV",
        "outputId": "ccc24bbe-d17d-48d6-bc98-1cd905fbe061"
      },
      "source": [
        "sns.countplot(x='policy_state', data=data).set_title('Count of Policy holder State')\n",
        "plt.show()"
      ],
      "execution_count": null,
      "outputs": [
        {
          "output_type": "display_data",
          "data": {
            "image/png": "[encoded data removed]",
            "text/plain": [
              "<Figure size 432x288 with 1 Axes>"
            ]
          },
          "metadata": {
            "tags": [],
            "needs_background": "light"
          }
        }
      ]
    },
    {
      "cell_type": "code",
      "metadata": {
        "colab": {
          "base_uri": "https://localhost:8080/"
        },
        "id": "Vy7rWCacKjJG",
        "outputId": "13d6817a-680d-49ff-f5b3-1c269702b381"
      },
      "source": [
        "data.query('fraud_reported == \"Y\"')['witnesses'].value_counts()"
      ],
      "execution_count": null,
      "outputs": [
        {
          "output_type": "execute_result",
          "data": {
            "text/plain": [
              "2    74\n",
              "1    63\n",
              "3    60\n",
              "0    50\n",
              "Name: witnesses, dtype: int64"
            ]
          },
          "metadata": {
            "tags": []
          },
          "execution_count": 22
        }
      ]
    },
    {
      "cell_type": "code",
      "metadata": {
        "colab": {
          "base_uri": "https://localhost:8080/",
          "height": 402
        },
        "id": "H6blFskqPQcU",
        "outputId": "a730c9b2-694f-45dd-c130-3d724e76de34"
      },
      "source": [
        "sns.set_style(\"ticks\")\n",
        "wit = sns.catplot(x='witnesses',kind=\"count\",hue= 'fraud_reported',palette = sns.color_palette(\"Paired\", 2), data=data)\n",
        "plt.title('Witnesses')\n",
        "plt.show()"
      ],
      "execution_count": 69,
      "outputs": [
        {
          "output_type": "display_data",
          "data": {
            "image/png": "[encoded data removed]",
            "text/plain": [
              "<Figure size 458.55x360 with 1 Axes>"
            ]
          },
          "metadata": {
            "tags": []
          }
        }
      ]
    },
    {
      "cell_type": "code",
      "metadata": {
        "colab": {
          "base_uri": "https://localhost:8080/"
        },
        "id": "Sc5mlYgx7XyZ",
        "outputId": "2e155540-cdae-4f6f-dd90-ce8eef36e11c"
      },
      "source": [
        "print(data['insured_sex'].value_counts())"
      ],
      "execution_count": null,
      "outputs": [
        {
          "output_type": "stream",
          "text": [
            "FEMALE    537\n",
            "MALE      463\n",
            "Name: insured_sex, dtype: int64\n"
          ],
          "name": "stdout"
        }
      ]
    },
    {
      "cell_type": "code",
      "metadata": {
        "colab": {
          "base_uri": "https://localhost:8080/",
          "height": 264
        },
        "id": "RNV0LDzx_afO",
        "outputId": "0d63df14-c55d-4124-90dd-525f1bca808c"
      },
      "source": [
        "%matplotlib inline\n",
        "sex = ['Female','Male']\n",
        "plt.pie(data['insured_sex'].value_counts(),labels = sex)\n",
        "plt.title('Genderwise Insurance Distribution')\n",
        "plt.show()"
      ],
      "execution_count": null,
      "outputs": [
        {
          "output_type": "display_data",
          "data": {
            "image/png": "[encoded data removed]",
            "text/plain": [
              "<Figure size 432x288 with 1 Axes>"
            ]
          },
          "metadata": {
            "tags": []
          }
        }
      ]
    },
    {
      "cell_type": "code",
      "metadata": {
        "colab": {
          "base_uri": "https://localhost:8080/",
          "height": 264
        },
        "id": "Y3mGqiKIx0QD",
        "outputId": "22998a92-91b2-474d-eb38-41e691cb113a"
      },
      "source": [
        "%matplotlib inline\n",
        "sex = ['Female','Male']\n",
        "plt.pie(data.query('fraud_reported == \"Y\"')['insured_sex'].value_counts(),labels = sex)\n",
        "plt.title('Genderwise Fraud Distribution')\n",
        "plt.show()"
      ],
      "execution_count": null,
      "outputs": [
        {
          "output_type": "display_data",
          "data": {
            "image/png": "[encoded data removed]",
            "text/plain": [
              "<Figure size 432x288 with 1 Axes>"
            ]
          },
          "metadata": {
            "tags": []
          }
        }
      ]
    },
    {
      "cell_type": "code",
      "metadata": {
        "colab": {
          "base_uri": "https://localhost:8080/",
          "height": 292
        },
        "id": "OUTclaKDRl8Y",
        "outputId": "2edbfb8b-4d7b-467e-9e14-12c79da26a9d"
      },
      "source": [
        "data.head()"
      ],
      "execution_count": null,
      "outputs": [
        {
          "output_type": "execute_result",
          "data": {
            "text/html": [
              "<div>\n",
              "<style scoped>\n",
              "    .dataframe tbody tr th:only-of-type {\n",
              "        vertical-align: middle;\n",
              "    }\n",
              "\n",
              "    .dataframe tbody tr th {\n",
              "        vertical-align: top;\n",
              "    }\n",
              "\n",
              "    .dataframe thead th {\n",
              "        text-align: right;\n",
              "    }\n",
              "</style>\n",
              "<table border=\"1\" class=\"dataframe\">\n",
              "  <thead>\n",
              "    <tr style=\"text-align: right;\">\n",
              "      <th></th>\n",
              "      <th>months_as_customer</th>\n",
              "      <th>age</th>\n",
              "      <th>policy_number</th>\n",
              "      <th>policy_bind_date</th>\n",
              "      <th>policy_state</th>\n",
              "      <th>policy_csl</th>\n",
              "      <th>policy_deductable</th>\n",
              "      <th>policy_annual_premium</th>\n",
              "      <th>umbrella_limit</th>\n",
              "      <th>insured_zip</th>\n",
              "      <th>insured_sex</th>\n",
              "      <th>insured_education_level</th>\n",
              "      <th>insured_occupation</th>\n",
              "      <th>insured_hobbies</th>\n",
              "      <th>insured_relationship</th>\n",
              "      <th>capital-gains</th>\n",
              "      <th>capital-loss</th>\n",
              "      <th>incident_date</th>\n",
              "      <th>incident_type</th>\n",
              "      <th>collision_type</th>\n",
              "      <th>incident_severity</th>\n",
              "      <th>authorities_contacted</th>\n",
              "      <th>incident_state</th>\n",
              "      <th>incident_city</th>\n",
              "      <th>incident_location</th>\n",
              "      <th>incident_hour_of_the_day</th>\n",
              "      <th>number_of_vehicles_involved</th>\n",
              "      <th>property_damage</th>\n",
              "      <th>bodily_injuries</th>\n",
              "      <th>witnesses</th>\n",
              "      <th>police_report_available</th>\n",
              "      <th>total_claim_amount</th>\n",
              "      <th>injury_claim</th>\n",
              "      <th>property_claim</th>\n",
              "      <th>vehicle_claim</th>\n",
              "      <th>auto_make</th>\n",
              "      <th>auto_model</th>\n",
              "      <th>auto_year</th>\n",
              "      <th>fraud_reported</th>\n",
              "    </tr>\n",
              "  </thead>\n",
              "  <tbody>\n",
              "    <tr>\n",
              "      <th>0</th>\n",
              "      <td>328</td>\n",
              "      <td>48</td>\n",
              "      <td>521585</td>\n",
              "      <td>2014-10-17</td>\n",
              "      <td>OH</td>\n",
              "      <td>250/500</td>\n",
              "      <td>1000</td>\n",
              "      <td>1406.91</td>\n",
              "      <td>0</td>\n",
              "      <td>466132</td>\n",
              "      <td>MALE</td>\n",
              "      <td>MD</td>\n",
              "      <td>craft-repair</td>\n",
              "      <td>sleeping</td>\n",
              "      <td>husband</td>\n",
              "      <td>53300</td>\n",
              "      <td>0</td>\n",
              "      <td>2015-01-25</td>\n",
              "      <td>Single Vehicle Collision</td>\n",
              "      <td>Side Collision</td>\n",
              "      <td>Major Damage</td>\n",
              "      <td>Police</td>\n",
              "      <td>SC</td>\n",
              "      <td>Columbus</td>\n",
              "      <td>9935 4th Drive</td>\n",
              "      <td>5</td>\n",
              "      <td>1</td>\n",
              "      <td>YES</td>\n",
              "      <td>1</td>\n",
              "      <td>2</td>\n",
              "      <td>YES</td>\n",
              "      <td>71610</td>\n",
              "      <td>6510</td>\n",
              "      <td>13020</td>\n",
              "      <td>52080</td>\n",
              "      <td>Saab</td>\n",
              "      <td>92x</td>\n",
              "      <td>2004</td>\n",
              "      <td>Y</td>\n",
              "    </tr>\n",
              "    <tr>\n",
              "      <th>1</th>\n",
              "      <td>228</td>\n",
              "      <td>42</td>\n",
              "      <td>342868</td>\n",
              "      <td>2006-06-27</td>\n",
              "      <td>IN</td>\n",
              "      <td>250/500</td>\n",
              "      <td>2000</td>\n",
              "      <td>1197.22</td>\n",
              "      <td>5000000</td>\n",
              "      <td>468176</td>\n",
              "      <td>MALE</td>\n",
              "      <td>MD</td>\n",
              "      <td>machine-op-inspct</td>\n",
              "      <td>reading</td>\n",
              "      <td>other-relative</td>\n",
              "      <td>0</td>\n",
              "      <td>0</td>\n",
              "      <td>2015-01-21</td>\n",
              "      <td>Vehicle Theft</td>\n",
              "      <td>Rear Collision</td>\n",
              "      <td>Minor Damage</td>\n",
              "      <td>Police</td>\n",
              "      <td>VA</td>\n",
              "      <td>Riverwood</td>\n",
              "      <td>6608 MLK Hwy</td>\n",
              "      <td>8</td>\n",
              "      <td>1</td>\n",
              "      <td>NO</td>\n",
              "      <td>0</td>\n",
              "      <td>0</td>\n",
              "      <td>NO</td>\n",
              "      <td>5070</td>\n",
              "      <td>780</td>\n",
              "      <td>780</td>\n",
              "      <td>3510</td>\n",
              "      <td>Mercedes</td>\n",
              "      <td>E400</td>\n",
              "      <td>2007</td>\n",
              "      <td>Y</td>\n",
              "    </tr>\n",
              "    <tr>\n",
              "      <th>2</th>\n",
              "      <td>134</td>\n",
              "      <td>29</td>\n",
              "      <td>687698</td>\n",
              "      <td>2000-09-06</td>\n",
              "      <td>OH</td>\n",
              "      <td>100/300</td>\n",
              "      <td>2000</td>\n",
              "      <td>1413.14</td>\n",
              "      <td>5000000</td>\n",
              "      <td>430632</td>\n",
              "      <td>FEMALE</td>\n",
              "      <td>PhD</td>\n",
              "      <td>sales</td>\n",
              "      <td>board-games</td>\n",
              "      <td>own-child</td>\n",
              "      <td>35100</td>\n",
              "      <td>0</td>\n",
              "      <td>2015-02-22</td>\n",
              "      <td>Multi-vehicle Collision</td>\n",
              "      <td>Rear Collision</td>\n",
              "      <td>Minor Damage</td>\n",
              "      <td>Police</td>\n",
              "      <td>NY</td>\n",
              "      <td>Columbus</td>\n",
              "      <td>7121 Francis Lane</td>\n",
              "      <td>7</td>\n",
              "      <td>3</td>\n",
              "      <td>NO</td>\n",
              "      <td>2</td>\n",
              "      <td>3</td>\n",
              "      <td>NO</td>\n",
              "      <td>34650</td>\n",
              "      <td>7700</td>\n",
              "      <td>3850</td>\n",
              "      <td>23100</td>\n",
              "      <td>Dodge</td>\n",
              "      <td>RAM</td>\n",
              "      <td>2007</td>\n",
              "      <td>N</td>\n",
              "    </tr>\n",
              "    <tr>\n",
              "      <th>3</th>\n",
              "      <td>256</td>\n",
              "      <td>41</td>\n",
              "      <td>227811</td>\n",
              "      <td>1990-05-25</td>\n",
              "      <td>IL</td>\n",
              "      <td>250/500</td>\n",
              "      <td>2000</td>\n",
              "      <td>1415.74</td>\n",
              "      <td>6000000</td>\n",
              "      <td>608117</td>\n",
              "      <td>FEMALE</td>\n",
              "      <td>PhD</td>\n",
              "      <td>armed-forces</td>\n",
              "      <td>board-games</td>\n",
              "      <td>unmarried</td>\n",
              "      <td>48900</td>\n",
              "      <td>-62400</td>\n",
              "      <td>2015-01-10</td>\n",
              "      <td>Single Vehicle Collision</td>\n",
              "      <td>Front Collision</td>\n",
              "      <td>Major Damage</td>\n",
              "      <td>Police</td>\n",
              "      <td>OH</td>\n",
              "      <td>Arlington</td>\n",
              "      <td>6956 Maple Drive</td>\n",
              "      <td>5</td>\n",
              "      <td>1</td>\n",
              "      <td>NO</td>\n",
              "      <td>1</td>\n",
              "      <td>2</td>\n",
              "      <td>NO</td>\n",
              "      <td>63400</td>\n",
              "      <td>6340</td>\n",
              "      <td>6340</td>\n",
              "      <td>50720</td>\n",
              "      <td>Chevrolet</td>\n",
              "      <td>Tahoe</td>\n",
              "      <td>2014</td>\n",
              "      <td>Y</td>\n",
              "    </tr>\n",
              "    <tr>\n",
              "      <th>4</th>\n",
              "      <td>228</td>\n",
              "      <td>44</td>\n",
              "      <td>367455</td>\n",
              "      <td>2014-06-06</td>\n",
              "      <td>IL</td>\n",
              "      <td>500/1000</td>\n",
              "      <td>1000</td>\n",
              "      <td>1583.91</td>\n",
              "      <td>6000000</td>\n",
              "      <td>610706</td>\n",
              "      <td>MALE</td>\n",
              "      <td>Associate</td>\n",
              "      <td>sales</td>\n",
              "      <td>board-games</td>\n",
              "      <td>unmarried</td>\n",
              "      <td>66000</td>\n",
              "      <td>-46000</td>\n",
              "      <td>2015-02-17</td>\n",
              "      <td>Vehicle Theft</td>\n",
              "      <td>Rear Collision</td>\n",
              "      <td>Minor Damage</td>\n",
              "      <td>None</td>\n",
              "      <td>NY</td>\n",
              "      <td>Arlington</td>\n",
              "      <td>3041 3rd Ave</td>\n",
              "      <td>20</td>\n",
              "      <td>1</td>\n",
              "      <td>NO</td>\n",
              "      <td>0</td>\n",
              "      <td>1</td>\n",
              "      <td>NO</td>\n",
              "      <td>6500</td>\n",
              "      <td>1300</td>\n",
              "      <td>650</td>\n",
              "      <td>4550</td>\n",
              "      <td>Accura</td>\n",
              "      <td>RSX</td>\n",
              "      <td>2009</td>\n",
              "      <td>N</td>\n",
              "    </tr>\n",
              "  </tbody>\n",
              "</table>\n",
              "</div>"
            ],
            "text/plain": [
              "   months_as_customer  age  policy_number  ... auto_model auto_year fraud_reported\n",
              "0                 328   48         521585  ...        92x      2004              Y\n",
              "1                 228   42         342868  ...       E400      2007              Y\n",
              "2                 134   29         687698  ...        RAM      2007              N\n",
              "3                 256   41         227811  ...      Tahoe      2014              Y\n",
              "4                 228   44         367455  ...        RSX      2009              N\n",
              "\n",
              "[5 rows x 39 columns]"
            ]
          },
          "metadata": {
            "tags": []
          },
          "execution_count": 95
        }
      ]
    },
    {
      "cell_type": "code",
      "metadata": {
        "colab": {
          "base_uri": "https://localhost:8080/",
          "height": 400
        },
        "id": "WmEH5ipiRhiS",
        "outputId": "d25a2cf2-15d7-4de1-a3b0-52fcbc8bf98a"
      },
      "source": [
        "sns.catplot(x='police_report_available',kind=\"count\",hue= 'fraud_reported', data=data)\n",
        "plt.title(\"Police report available\")\n",
        "plt.show()"
      ],
      "execution_count": null,
      "outputs": [
        {
          "output_type": "display_data",
          "data": {
            "image/png": "[encoded data removed]",
            "text/plain": [
              "<Figure size 442.375x360 with 1 Axes>"
            ]
          },
          "metadata": {
            "tags": [],
            "needs_background": "light"
          }
        }
      ]
    },
    {
      "cell_type": "code",
      "metadata": {
        "colab": {
          "base_uri": "https://localhost:8080/",
          "height": 400
        },
        "id": "Ta99lkMwVHr6",
        "outputId": "8c1b0eea-4bce-4efd-8daa-00702e18b9ac"
      },
      "source": [
        "sns.catplot(x='incident_severity',kind=\"count\",hue= 'fraud_reported', data=data)\n",
        "plt.title('incident_severity')\n",
        "plt.show()"
      ],
      "execution_count": null,
      "outputs": [
        {
          "output_type": "display_data",
          "data": {
            "image/png": "[encoded data removed]",
            "text/plain": [
              "<Figure size 442.375x360 with 1 Axes>"
            ]
          },
          "metadata": {
            "tags": [],
            "needs_background": "light"
          }
        }
      ]
    },
    {
      "cell_type": "code",
      "metadata": {
        "id": "xwvtXBT5_rEK"
      },
      "source": [
        "education = data['insured_education_level'].value_counts()"
      ],
      "execution_count": null,
      "outputs": []
    },
    {
      "cell_type": "code",
      "metadata": {
        "colab": {
          "base_uri": "https://localhost:8080/"
        },
        "id": "doMk_Us0_zSB",
        "outputId": "e774c905-a230-4763-870d-88f9f9142bcb"
      },
      "source": [
        "print(education)"
      ],
      "execution_count": null,
      "outputs": [
        {
          "output_type": "stream",
          "text": [
            "JD             161\n",
            "High School    160\n",
            "Associate      145\n",
            "MD             144\n",
            "Masters        143\n",
            "PhD            125\n",
            "College        122\n",
            "Name: insured_education_level, dtype: int64\n"
          ],
          "name": "stdout"
        }
      ]
    },
    {
      "cell_type": "code",
      "metadata": {
        "colab": {
          "base_uri": "https://localhost:8080/",
          "height": 264
        },
        "id": "K4BgWHAw_uKY",
        "outputId": "9666eff8-c3f1-4a3a-fc4a-27faad08c5dd"
      },
      "source": [
        "edu = ['JD','High School','Associate','MD','Masters','PhD','College']\n",
        "plt.pie(education,labels= edu)\n",
        "plt.title('Education-wise Distribution')\n",
        "plt.show()"
      ],
      "execution_count": null,
      "outputs": [
        {
          "output_type": "display_data",
          "data": {
            "image/png": "[encoded data removed]",
            "text/plain": [
              "<Figure size 432x288 with 1 Axes>"
            ]
          },
          "metadata": {
            "tags": []
          }
        }
      ]
    },
    {
      "cell_type": "code",
      "metadata": {
        "colab": {
          "base_uri": "https://localhost:8080/"
        },
        "id": "7gWtyO1A_3mz",
        "outputId": "7fcccd15-1ba9-4be6-d9c0-b331e54db408"
      },
      "source": [
        "occupation = data['insured_occupation'].value_counts()\n",
        "print(occupation)"
      ],
      "execution_count": null,
      "outputs": [
        {
          "output_type": "stream",
          "text": [
            "machine-op-inspct    93\n",
            "prof-specialty       85\n",
            "tech-support         78\n",
            "sales                76\n",
            "exec-managerial      76\n",
            "craft-repair         74\n",
            "transport-moving     72\n",
            "priv-house-serv      71\n",
            "other-service        71\n",
            "armed-forces         69\n",
            "adm-clerical         65\n",
            "protective-serv      63\n",
            "handlers-cleaners    54\n",
            "farming-fishing      53\n",
            "Name: insured_occupation, dtype: int64\n"
          ],
          "name": "stdout"
        }
      ]
    },
    {
      "cell_type": "code",
      "metadata": {
        "colab": {
          "base_uri": "https://localhost:8080/",
          "height": 264
        },
        "id": "Q-KM8icSHh0w",
        "outputId": "da580b64-039a-4567-b841-97a41a01d985"
      },
      "source": [
        "occu = ['machine-op-inspct','prof-specialty','tech-support','sales','exec-managerial','craft-repair','transport-moving','priv-house-serv','other-service','armed-forces','adm-clerical','protective-serv','handlers-cleaners','farming-fishing']\n",
        "plt.pie(occupation,labels=occu)\n",
        "plt.title('Occupation Wise Distribution')\n",
        "plt.show()"
      ],
      "execution_count": null,
      "outputs": [
        {
          "output_type": "display_data",
          "data": {
            "image/png": "[encoded data removed]",
            "text/plain": [
              "<Figure size 432x288 with 1 Axes>"
            ]
          },
          "metadata": {
            "tags": []
          }
        }
      ]
    },
    {
      "cell_type": "code",
      "metadata": {
        "colab": {
          "base_uri": "https://localhost:8080/",
          "height": 452
        },
        "id": "KRr3dSTxYK4F",
        "outputId": "79eb4ecb-86d8-4471-c687-0494bf5c6fec"
      },
      "source": [
        "occupation = sns.catplot(x='insured_occupation',kind=\"count\",hue= 'fraud_reported',palette = sns.color_palette(\"Set2\", 2), data=data)\n",
        "occupation.set_xticklabels(rotation=30)\n",
        "plt.title('incident_severity')\n",
        "plt.show()"
      ],
      "execution_count": 72,
      "outputs": [
        {
          "output_type": "display_data",
          "data": {
            "image/png": "[encoded data removed]",
            "text/plain": [
              "<Figure size 458.55x360 with 1 Axes>"
            ]
          },
          "metadata": {
            "tags": []
          }
        }
      ]
    },
    {
      "cell_type": "code",
      "metadata": {
        "colab": {
          "base_uri": "https://localhost:8080/"
        },
        "id": "-sdK5Vw3yi8q",
        "outputId": "100aebad-61eb-402d-8eab-ac541cf3d934"
      },
      "source": [
        "data.query('fraud_reported == \"Y\"')['insured_occupation'].value_counts()"
      ],
      "execution_count": null,
      "outputs": [
        {
          "output_type": "execute_result",
          "data": {
            "text/plain": [
              "exec-managerial      28\n",
              "craft-repair         22\n",
              "machine-op-inspct    22\n",
              "tech-support         22\n",
              "transport-moving     21\n",
              "sales                21\n",
              "prof-specialty       18\n",
              "armed-forces         17\n",
              "farming-fishing      16\n",
              "protective-serv      14\n",
              "other-service        12\n",
              "priv-house-serv      12\n",
              "handlers-cleaners    11\n",
              "adm-clerical         11\n",
              "Name: insured_occupation, dtype: int64"
            ]
          },
          "metadata": {
            "tags": []
          },
          "execution_count": 60
        }
      ]
    },
    {
      "cell_type": "code",
      "metadata": {
        "colab": {
          "base_uri": "https://localhost:8080/",
          "height": 264
        },
        "id": "OlHGcwlByVoC",
        "outputId": "3797c32c-d7ec-4ef8-be56-d5b2ba7bd821"
      },
      "source": [
        "occupation = data.query('fraud_reported == \"Y\"')['insured_occupation'].value_counts()\n",
        "occu = ['machine-op-inspct','prof-specialty','tech-support','sales','exec-managerial','craft-repair','transport-moving','priv-house-serv','other-service','armed-forces','adm-clerical','protective-serv','handlers-cleaners','farming-fishing']\n",
        "plt.pie(occupation,labels=occu)\n",
        "plt.title('Occupation Wise Distribution')\n",
        "plt.show()"
      ],
      "execution_count": null,
      "outputs": [
        {
          "output_type": "display_data",
          "data": {
            "image/png": "[encoded data removed]",
            "text/plain": [
              "<Figure size 432x288 with 1 Axes>"
            ]
          },
          "metadata": {
            "tags": []
          }
        }
      ]
    },
    {
      "cell_type": "code",
      "metadata": {
        "colab": {
          "base_uri": "https://localhost:8080/"
        },
        "id": "6kMdl74LAOX6",
        "outputId": "dbeb2805-c0e0-403e-f6f5-f3d51e8fa243"
      },
      "source": [
        "incidence = data['incident_type'].value_counts()\n",
        "print(incidence)"
      ],
      "execution_count": null,
      "outputs": [
        {
          "output_type": "stream",
          "text": [
            "Multi-vehicle Collision     419\n",
            "Single Vehicle Collision    403\n",
            "Vehicle Theft                94\n",
            "Parked Car                   84\n",
            "Name: incident_type, dtype: int64\n"
          ],
          "name": "stdout"
        }
      ]
    },
    {
      "cell_type": "code",
      "metadata": {
        "colab": {
          "base_uri": "https://localhost:8080/",
          "height": 264
        },
        "id": "i8e8zy0LHska",
        "outputId": "0fd7c15c-18a3-4285-fdca-7d8325152926"
      },
      "source": [
        "incidents = ['Multi-vehicle Collision','Single Vehicle Collision','Vehicle Theft', 'Parked Car']\n",
        "plt.pie(incidence,labels=incidents)\n",
        "plt.title('Incident Type Distribution')\n",
        "plt.show()"
      ],
      "execution_count": null,
      "outputs": [
        {
          "output_type": "display_data",
          "data": {
            "image/png": "[encoded data removed]",
            "text/plain": [
              "<Figure size 432x288 with 1 Axes>"
            ]
          },
          "metadata": {
            "tags": []
          }
        }
      ]
    },
    {
      "cell_type": "code",
      "metadata": {
        "colab": {
          "base_uri": "https://localhost:8080/"
        },
        "id": "b-ajeaFvH4xH",
        "outputId": "16438145-1eb4-4b64-c844-7b60ba906c43"
      },
      "source": [
        "FNF = data['fraud_reported'].value_counts()\n",
        "print(FNF)"
      ],
      "execution_count": null,
      "outputs": [
        {
          "output_type": "stream",
          "text": [
            "N    753\n",
            "Y    247\n",
            "Name: fraud_reported, dtype: int64\n"
          ],
          "name": "stdout"
        }
      ]
    },
    {
      "cell_type": "code",
      "metadata": {
        "colab": {
          "base_uri": "https://localhost:8080/"
        },
        "id": "NCg2Z0wyzjcf",
        "outputId": "11db9fe8-fcb0-41f6-8d7a-e4d672db604c"
      },
      "source": [
        "ratio  =  FNF/len(data.index)\n",
        "ratio*100"
      ],
      "execution_count": null,
      "outputs": [
        {
          "output_type": "execute_result",
          "data": {
            "text/plain": [
              "N    75.3\n",
              "Y    24.7\n",
              "Name: fraud_reported, dtype: float64"
            ]
          },
          "metadata": {
            "tags": []
          },
          "execution_count": 22
        }
      ]
    },
    {
      "cell_type": "code",
      "metadata": {
        "colab": {
          "base_uri": "https://localhost:8080/",
          "height": 292
        },
        "id": "_JPnhLMxMWbv",
        "outputId": "77c87a4a-bda1-4a20-f954-6a25d3564a8e"
      },
      "source": [
        "data.head()"
      ],
      "execution_count": null,
      "outputs": [
        {
          "output_type": "execute_result",
          "data": {
            "text/html": [
              "<div>\n",
              "<style scoped>\n",
              "    .dataframe tbody tr th:only-of-type {\n",
              "        vertical-align: middle;\n",
              "    }\n",
              "\n",
              "    .dataframe tbody tr th {\n",
              "        vertical-align: top;\n",
              "    }\n",
              "\n",
              "    .dataframe thead th {\n",
              "        text-align: right;\n",
              "    }\n",
              "</style>\n",
              "<table border=\"1\" class=\"dataframe\">\n",
              "  <thead>\n",
              "    <tr style=\"text-align: right;\">\n",
              "      <th></th>\n",
              "      <th>months_as_customer</th>\n",
              "      <th>age</th>\n",
              "      <th>policy_number</th>\n",
              "      <th>policy_bind_date</th>\n",
              "      <th>policy_state</th>\n",
              "      <th>policy_csl</th>\n",
              "      <th>policy_deductable</th>\n",
              "      <th>policy_annual_premium</th>\n",
              "      <th>umbrella_limit</th>\n",
              "      <th>insured_zip</th>\n",
              "      <th>insured_sex</th>\n",
              "      <th>insured_education_level</th>\n",
              "      <th>insured_occupation</th>\n",
              "      <th>insured_hobbies</th>\n",
              "      <th>insured_relationship</th>\n",
              "      <th>capital-gains</th>\n",
              "      <th>capital-loss</th>\n",
              "      <th>incident_date</th>\n",
              "      <th>incident_type</th>\n",
              "      <th>collision_type</th>\n",
              "      <th>incident_severity</th>\n",
              "      <th>authorities_contacted</th>\n",
              "      <th>incident_state</th>\n",
              "      <th>incident_city</th>\n",
              "      <th>incident_location</th>\n",
              "      <th>incident_hour_of_the_day</th>\n",
              "      <th>number_of_vehicles_involved</th>\n",
              "      <th>property_damage</th>\n",
              "      <th>bodily_injuries</th>\n",
              "      <th>witnesses</th>\n",
              "      <th>police_report_available</th>\n",
              "      <th>total_claim_amount</th>\n",
              "      <th>injury_claim</th>\n",
              "      <th>property_claim</th>\n",
              "      <th>vehicle_claim</th>\n",
              "      <th>auto_make</th>\n",
              "      <th>auto_model</th>\n",
              "      <th>auto_year</th>\n",
              "      <th>fraud_reported</th>\n",
              "    </tr>\n",
              "  </thead>\n",
              "  <tbody>\n",
              "    <tr>\n",
              "      <th>0</th>\n",
              "      <td>328</td>\n",
              "      <td>48</td>\n",
              "      <td>521585</td>\n",
              "      <td>2014-10-17</td>\n",
              "      <td>OH</td>\n",
              "      <td>250/500</td>\n",
              "      <td>1000</td>\n",
              "      <td>1406.91</td>\n",
              "      <td>0</td>\n",
              "      <td>466132</td>\n",
              "      <td>MALE</td>\n",
              "      <td>MD</td>\n",
              "      <td>craft-repair</td>\n",
              "      <td>sleeping</td>\n",
              "      <td>husband</td>\n",
              "      <td>53300</td>\n",
              "      <td>0</td>\n",
              "      <td>2015-01-25</td>\n",
              "      <td>Single Vehicle Collision</td>\n",
              "      <td>Side Collision</td>\n",
              "      <td>Major Damage</td>\n",
              "      <td>Police</td>\n",
              "      <td>SC</td>\n",
              "      <td>Columbus</td>\n",
              "      <td>9935 4th Drive</td>\n",
              "      <td>5</td>\n",
              "      <td>1</td>\n",
              "      <td>YES</td>\n",
              "      <td>1</td>\n",
              "      <td>2</td>\n",
              "      <td>YES</td>\n",
              "      <td>71610</td>\n",
              "      <td>6510</td>\n",
              "      <td>13020</td>\n",
              "      <td>52080</td>\n",
              "      <td>Saab</td>\n",
              "      <td>92x</td>\n",
              "      <td>2004</td>\n",
              "      <td>Y</td>\n",
              "    </tr>\n",
              "    <tr>\n",
              "      <th>1</th>\n",
              "      <td>228</td>\n",
              "      <td>42</td>\n",
              "      <td>342868</td>\n",
              "      <td>2006-06-27</td>\n",
              "      <td>IN</td>\n",
              "      <td>250/500</td>\n",
              "      <td>2000</td>\n",
              "      <td>1197.22</td>\n",
              "      <td>5000000</td>\n",
              "      <td>468176</td>\n",
              "      <td>MALE</td>\n",
              "      <td>MD</td>\n",
              "      <td>machine-op-inspct</td>\n",
              "      <td>reading</td>\n",
              "      <td>other-relative</td>\n",
              "      <td>0</td>\n",
              "      <td>0</td>\n",
              "      <td>2015-01-21</td>\n",
              "      <td>Vehicle Theft</td>\n",
              "      <td>Rear Collision</td>\n",
              "      <td>Minor Damage</td>\n",
              "      <td>Police</td>\n",
              "      <td>VA</td>\n",
              "      <td>Riverwood</td>\n",
              "      <td>6608 MLK Hwy</td>\n",
              "      <td>8</td>\n",
              "      <td>1</td>\n",
              "      <td>NO</td>\n",
              "      <td>0</td>\n",
              "      <td>0</td>\n",
              "      <td>NO</td>\n",
              "      <td>5070</td>\n",
              "      <td>780</td>\n",
              "      <td>780</td>\n",
              "      <td>3510</td>\n",
              "      <td>Mercedes</td>\n",
              "      <td>E400</td>\n",
              "      <td>2007</td>\n",
              "      <td>Y</td>\n",
              "    </tr>\n",
              "    <tr>\n",
              "      <th>2</th>\n",
              "      <td>134</td>\n",
              "      <td>29</td>\n",
              "      <td>687698</td>\n",
              "      <td>2000-09-06</td>\n",
              "      <td>OH</td>\n",
              "      <td>100/300</td>\n",
              "      <td>2000</td>\n",
              "      <td>1413.14</td>\n",
              "      <td>5000000</td>\n",
              "      <td>430632</td>\n",
              "      <td>FEMALE</td>\n",
              "      <td>PhD</td>\n",
              "      <td>sales</td>\n",
              "      <td>board-games</td>\n",
              "      <td>own-child</td>\n",
              "      <td>35100</td>\n",
              "      <td>0</td>\n",
              "      <td>2015-02-22</td>\n",
              "      <td>Multi-vehicle Collision</td>\n",
              "      <td>Rear Collision</td>\n",
              "      <td>Minor Damage</td>\n",
              "      <td>Police</td>\n",
              "      <td>NY</td>\n",
              "      <td>Columbus</td>\n",
              "      <td>7121 Francis Lane</td>\n",
              "      <td>7</td>\n",
              "      <td>3</td>\n",
              "      <td>NO</td>\n",
              "      <td>2</td>\n",
              "      <td>3</td>\n",
              "      <td>NO</td>\n",
              "      <td>34650</td>\n",
              "      <td>7700</td>\n",
              "      <td>3850</td>\n",
              "      <td>23100</td>\n",
              "      <td>Dodge</td>\n",
              "      <td>RAM</td>\n",
              "      <td>2007</td>\n",
              "      <td>N</td>\n",
              "    </tr>\n",
              "    <tr>\n",
              "      <th>3</th>\n",
              "      <td>256</td>\n",
              "      <td>41</td>\n",
              "      <td>227811</td>\n",
              "      <td>1990-05-25</td>\n",
              "      <td>IL</td>\n",
              "      <td>250/500</td>\n",
              "      <td>2000</td>\n",
              "      <td>1415.74</td>\n",
              "      <td>6000000</td>\n",
              "      <td>608117</td>\n",
              "      <td>FEMALE</td>\n",
              "      <td>PhD</td>\n",
              "      <td>armed-forces</td>\n",
              "      <td>board-games</td>\n",
              "      <td>unmarried</td>\n",
              "      <td>48900</td>\n",
              "      <td>-62400</td>\n",
              "      <td>2015-01-10</td>\n",
              "      <td>Single Vehicle Collision</td>\n",
              "      <td>Front Collision</td>\n",
              "      <td>Major Damage</td>\n",
              "      <td>Police</td>\n",
              "      <td>OH</td>\n",
              "      <td>Arlington</td>\n",
              "      <td>6956 Maple Drive</td>\n",
              "      <td>5</td>\n",
              "      <td>1</td>\n",
              "      <td>NO</td>\n",
              "      <td>1</td>\n",
              "      <td>2</td>\n",
              "      <td>NO</td>\n",
              "      <td>63400</td>\n",
              "      <td>6340</td>\n",
              "      <td>6340</td>\n",
              "      <td>50720</td>\n",
              "      <td>Chevrolet</td>\n",
              "      <td>Tahoe</td>\n",
              "      <td>2014</td>\n",
              "      <td>Y</td>\n",
              "    </tr>\n",
              "    <tr>\n",
              "      <th>4</th>\n",
              "      <td>228</td>\n",
              "      <td>44</td>\n",
              "      <td>367455</td>\n",
              "      <td>2014-06-06</td>\n",
              "      <td>IL</td>\n",
              "      <td>500/1000</td>\n",
              "      <td>1000</td>\n",
              "      <td>1583.91</td>\n",
              "      <td>6000000</td>\n",
              "      <td>610706</td>\n",
              "      <td>MALE</td>\n",
              "      <td>Associate</td>\n",
              "      <td>sales</td>\n",
              "      <td>board-games</td>\n",
              "      <td>unmarried</td>\n",
              "      <td>66000</td>\n",
              "      <td>-46000</td>\n",
              "      <td>2015-02-17</td>\n",
              "      <td>Vehicle Theft</td>\n",
              "      <td>Rear Collision</td>\n",
              "      <td>Minor Damage</td>\n",
              "      <td>None</td>\n",
              "      <td>NY</td>\n",
              "      <td>Arlington</td>\n",
              "      <td>3041 3rd Ave</td>\n",
              "      <td>20</td>\n",
              "      <td>1</td>\n",
              "      <td>NO</td>\n",
              "      <td>0</td>\n",
              "      <td>1</td>\n",
              "      <td>NO</td>\n",
              "      <td>6500</td>\n",
              "      <td>1300</td>\n",
              "      <td>650</td>\n",
              "      <td>4550</td>\n",
              "      <td>Accura</td>\n",
              "      <td>RSX</td>\n",
              "      <td>2009</td>\n",
              "      <td>N</td>\n",
              "    </tr>\n",
              "  </tbody>\n",
              "</table>\n",
              "</div>"
            ],
            "text/plain": [
              "   months_as_customer  age  policy_number  ... auto_model auto_year fraud_reported\n",
              "0                 328   48         521585  ...        92x      2004              Y\n",
              "1                 228   42         342868  ...       E400      2007              Y\n",
              "2                 134   29         687698  ...        RAM      2007              N\n",
              "3                 256   41         227811  ...      Tahoe      2014              Y\n",
              "4                 228   44         367455  ...        RSX      2009              N\n",
              "\n",
              "[5 rows x 39 columns]"
            ]
          },
          "metadata": {
            "tags": []
          },
          "execution_count": 93
        }
      ]
    },
    {
      "cell_type": "code",
      "metadata": {
        "colab": {
          "base_uri": "https://localhost:8080/"
        },
        "id": "xkVogoklPfJU",
        "outputId": "7829b92d-fe25-41e3-a27d-40e1f0fc7035"
      },
      "source": [
        "data.query('fraud_reported == \"Y\"')['total_claim_amount']"
      ],
      "execution_count": null,
      "outputs": [
        {
          "output_type": "execute_result",
          "data": {
            "text/plain": [
              "0      71610\n",
              "1       5070\n",
              "3      63400\n",
              "5      64100\n",
              "14     46200\n",
              "       ...  \n",
              "974    98280\n",
              "977    53280\n",
              "982    51900\n",
              "986    77000\n",
              "987    60320\n",
              "Name: total_claim_amount, Length: 247, dtype: int64"
            ]
          },
          "metadata": {
            "tags": []
          },
          "execution_count": 94
        }
      ]
    },
    {
      "cell_type": "code",
      "metadata": {
        "colab": {
          "base_uri": "https://localhost:8080/"
        },
        "id": "dU-etzbPRBWI",
        "outputId": "8f5bf9c6-1ea9-49f1-eae1-11efbd35a983"
      },
      "source": [
        "data.query('fraud_reported == \"Y\"')['total_claim_amount'].sort_values()"
      ],
      "execution_count": null,
      "outputs": [
        {
          "output_type": "execute_result",
          "data": {
            "text/plain": [
              "635      2860\n",
              "365      3600\n",
              "964      3900\n",
              "552      4620\n",
              "538      4700\n",
              "        ...  \n",
              "247     98670\n",
              "145     99320\n",
              "479    104610\n",
              "163    107900\n",
              "149    112320\n",
              "Name: total_claim_amount, Length: 247, dtype: int64"
            ]
          },
          "metadata": {
            "tags": []
          },
          "execution_count": 95
        }
      ]
    },
    {
      "cell_type": "code",
      "metadata": {
        "id": "ZPGEIamCIE_6",
        "colab": {
          "base_uri": "https://localhost:8080/",
          "height": 285
        },
        "outputId": "ed2766ef-ba2a-4fb6-c191-2aa6fad27996"
      },
      "source": [
        "y = data.query('fraud_reported == \"Y\"')['total_claim_amount'].sort_values()\n",
        "x = [*range(0, len(y), 1)]\n",
        "y2 = data.query('fraud_reported == \"N\"')['total_claim_amount'].sort_values()\n",
        "x2 = [*range(0, len(y2), 1)]\n",
        "\n",
        "fig, ax = plt.subplots()\n",
        "\n",
        "ax.plot(x, y, label=\"Claim Frauds\")\n",
        "ax.plot(x2, y2, label=\"Actual Claims\")\n",
        "plt.legend(loc=\"upper right\")\n",
        "plt.title('Loses by Claims')\n",
        "plt.show()"
      ],
      "execution_count": null,
      "outputs": [
        {
          "output_type": "display_data",
          "data": {
            "image/png": "[encoded data removed]",
            "text/plain": [
              "<Figure size 432x288 with 1 Axes>"
            ]
          },
          "metadata": {
            "tags": [],
            "needs_background": "light"
          }
        }
      ]
    },
    {
      "cell_type": "code",
      "metadata": {
        "colab": {
          "base_uri": "https://localhost:8080/",
          "height": 300
        },
        "id": "LZwDMUyIAZrN",
        "outputId": "ae9e28f1-2814-4452-8a7a-1951fc522bb7"
      },
      "source": [
        "sns.countplot(x='fraud_reported', data=data)\n",
        "plt.title('Reported Frauds')\n",
        "plt.show()"
      ],
      "execution_count": null,
      "outputs": [
        {
          "output_type": "display_data",
          "data": {
            "image/png": "[encoded data removed]",
            "text/plain": [
              "<Figure size 432x288 with 1 Axes>"
            ]
          },
          "metadata": {
            "tags": [],
            "needs_background": "light"
          }
        }
      ]
    },
    {
      "cell_type": "markdown",
      "metadata": {
        "id": "cTH2J1XY1J4g"
      },
      "source": [
        "Finding the columns with uncommon values\n",
        "(distinct values)"
      ]
    },
    {
      "cell_type": "code",
      "metadata": {
        "colab": {
          "base_uri": "https://localhost:8080/",
          "height": 292
        },
        "id": "_GwjvK1C0xQk",
        "outputId": "8ba32dfd-c5e6-475a-9663-4c5b6af0becd"
      },
      "source": [
        "data.head()"
      ],
      "execution_count": null,
      "outputs": [
        {
          "output_type": "execute_result",
          "data": {
            "text/html": [
              "<div>\n",
              "<style scoped>\n",
              "    .dataframe tbody tr th:only-of-type {\n",
              "        vertical-align: middle;\n",
              "    }\n",
              "\n",
              "    .dataframe tbody tr th {\n",
              "        vertical-align: top;\n",
              "    }\n",
              "\n",
              "    .dataframe thead th {\n",
              "        text-align: right;\n",
              "    }\n",
              "</style>\n",
              "<table border=\"1\" class=\"dataframe\">\n",
              "  <thead>\n",
              "    <tr style=\"text-align: right;\">\n",
              "      <th></th>\n",
              "      <th>months_as_customer</th>\n",
              "      <th>age</th>\n",
              "      <th>policy_number</th>\n",
              "      <th>policy_bind_date</th>\n",
              "      <th>policy_state</th>\n",
              "      <th>policy_csl</th>\n",
              "      <th>policy_deductable</th>\n",
              "      <th>policy_annual_premium</th>\n",
              "      <th>umbrella_limit</th>\n",
              "      <th>insured_zip</th>\n",
              "      <th>insured_sex</th>\n",
              "      <th>insured_education_level</th>\n",
              "      <th>insured_occupation</th>\n",
              "      <th>insured_hobbies</th>\n",
              "      <th>insured_relationship</th>\n",
              "      <th>capital-gains</th>\n",
              "      <th>capital-loss</th>\n",
              "      <th>incident_date</th>\n",
              "      <th>incident_type</th>\n",
              "      <th>collision_type</th>\n",
              "      <th>incident_severity</th>\n",
              "      <th>authorities_contacted</th>\n",
              "      <th>incident_state</th>\n",
              "      <th>incident_city</th>\n",
              "      <th>incident_location</th>\n",
              "      <th>incident_hour_of_the_day</th>\n",
              "      <th>number_of_vehicles_involved</th>\n",
              "      <th>property_damage</th>\n",
              "      <th>bodily_injuries</th>\n",
              "      <th>witnesses</th>\n",
              "      <th>police_report_available</th>\n",
              "      <th>total_claim_amount</th>\n",
              "      <th>injury_claim</th>\n",
              "      <th>property_claim</th>\n",
              "      <th>vehicle_claim</th>\n",
              "      <th>auto_make</th>\n",
              "      <th>auto_model</th>\n",
              "      <th>auto_year</th>\n",
              "      <th>fraud_reported</th>\n",
              "    </tr>\n",
              "  </thead>\n",
              "  <tbody>\n",
              "    <tr>\n",
              "      <th>0</th>\n",
              "      <td>328</td>\n",
              "      <td>48</td>\n",
              "      <td>521585</td>\n",
              "      <td>2014-10-17</td>\n",
              "      <td>OH</td>\n",
              "      <td>250/500</td>\n",
              "      <td>1000</td>\n",
              "      <td>1406.91</td>\n",
              "      <td>0</td>\n",
              "      <td>466132</td>\n",
              "      <td>MALE</td>\n",
              "      <td>MD</td>\n",
              "      <td>craft-repair</td>\n",
              "      <td>sleeping</td>\n",
              "      <td>husband</td>\n",
              "      <td>53300</td>\n",
              "      <td>0</td>\n",
              "      <td>2015-01-25</td>\n",
              "      <td>Single Vehicle Collision</td>\n",
              "      <td>Side Collision</td>\n",
              "      <td>Major Damage</td>\n",
              "      <td>Police</td>\n",
              "      <td>SC</td>\n",
              "      <td>Columbus</td>\n",
              "      <td>9935 4th Drive</td>\n",
              "      <td>5</td>\n",
              "      <td>1</td>\n",
              "      <td>YES</td>\n",
              "      <td>1</td>\n",
              "      <td>2</td>\n",
              "      <td>YES</td>\n",
              "      <td>71610</td>\n",
              "      <td>6510</td>\n",
              "      <td>13020</td>\n",
              "      <td>52080</td>\n",
              "      <td>Saab</td>\n",
              "      <td>92x</td>\n",
              "      <td>2004</td>\n",
              "      <td>Y</td>\n",
              "    </tr>\n",
              "    <tr>\n",
              "      <th>1</th>\n",
              "      <td>228</td>\n",
              "      <td>42</td>\n",
              "      <td>342868</td>\n",
              "      <td>2006-06-27</td>\n",
              "      <td>IN</td>\n",
              "      <td>250/500</td>\n",
              "      <td>2000</td>\n",
              "      <td>1197.22</td>\n",
              "      <td>5000000</td>\n",
              "      <td>468176</td>\n",
              "      <td>MALE</td>\n",
              "      <td>MD</td>\n",
              "      <td>machine-op-inspct</td>\n",
              "      <td>reading</td>\n",
              "      <td>other-relative</td>\n",
              "      <td>0</td>\n",
              "      <td>0</td>\n",
              "      <td>2015-01-21</td>\n",
              "      <td>Vehicle Theft</td>\n",
              "      <td>Rear Collision</td>\n",
              "      <td>Minor Damage</td>\n",
              "      <td>Police</td>\n",
              "      <td>VA</td>\n",
              "      <td>Riverwood</td>\n",
              "      <td>6608 MLK Hwy</td>\n",
              "      <td>8</td>\n",
              "      <td>1</td>\n",
              "      <td>NO</td>\n",
              "      <td>0</td>\n",
              "      <td>0</td>\n",
              "      <td>NO</td>\n",
              "      <td>5070</td>\n",
              "      <td>780</td>\n",
              "      <td>780</td>\n",
              "      <td>3510</td>\n",
              "      <td>Mercedes</td>\n",
              "      <td>E400</td>\n",
              "      <td>2007</td>\n",
              "      <td>Y</td>\n",
              "    </tr>\n",
              "    <tr>\n",
              "      <th>2</th>\n",
              "      <td>134</td>\n",
              "      <td>29</td>\n",
              "      <td>687698</td>\n",
              "      <td>2000-09-06</td>\n",
              "      <td>OH</td>\n",
              "      <td>100/300</td>\n",
              "      <td>2000</td>\n",
              "      <td>1413.14</td>\n",
              "      <td>5000000</td>\n",
              "      <td>430632</td>\n",
              "      <td>FEMALE</td>\n",
              "      <td>PhD</td>\n",
              "      <td>sales</td>\n",
              "      <td>board-games</td>\n",
              "      <td>own-child</td>\n",
              "      <td>35100</td>\n",
              "      <td>0</td>\n",
              "      <td>2015-02-22</td>\n",
              "      <td>Multi-vehicle Collision</td>\n",
              "      <td>Rear Collision</td>\n",
              "      <td>Minor Damage</td>\n",
              "      <td>Police</td>\n",
              "      <td>NY</td>\n",
              "      <td>Columbus</td>\n",
              "      <td>7121 Francis Lane</td>\n",
              "      <td>7</td>\n",
              "      <td>3</td>\n",
              "      <td>NO</td>\n",
              "      <td>2</td>\n",
              "      <td>3</td>\n",
              "      <td>NO</td>\n",
              "      <td>34650</td>\n",
              "      <td>7700</td>\n",
              "      <td>3850</td>\n",
              "      <td>23100</td>\n",
              "      <td>Dodge</td>\n",
              "      <td>RAM</td>\n",
              "      <td>2007</td>\n",
              "      <td>N</td>\n",
              "    </tr>\n",
              "    <tr>\n",
              "      <th>3</th>\n",
              "      <td>256</td>\n",
              "      <td>41</td>\n",
              "      <td>227811</td>\n",
              "      <td>1990-05-25</td>\n",
              "      <td>IL</td>\n",
              "      <td>250/500</td>\n",
              "      <td>2000</td>\n",
              "      <td>1415.74</td>\n",
              "      <td>6000000</td>\n",
              "      <td>608117</td>\n",
              "      <td>FEMALE</td>\n",
              "      <td>PhD</td>\n",
              "      <td>armed-forces</td>\n",
              "      <td>board-games</td>\n",
              "      <td>unmarried</td>\n",
              "      <td>48900</td>\n",
              "      <td>-62400</td>\n",
              "      <td>2015-01-10</td>\n",
              "      <td>Single Vehicle Collision</td>\n",
              "      <td>Front Collision</td>\n",
              "      <td>Major Damage</td>\n",
              "      <td>Police</td>\n",
              "      <td>OH</td>\n",
              "      <td>Arlington</td>\n",
              "      <td>6956 Maple Drive</td>\n",
              "      <td>5</td>\n",
              "      <td>1</td>\n",
              "      <td>NO</td>\n",
              "      <td>1</td>\n",
              "      <td>2</td>\n",
              "      <td>NO</td>\n",
              "      <td>63400</td>\n",
              "      <td>6340</td>\n",
              "      <td>6340</td>\n",
              "      <td>50720</td>\n",
              "      <td>Chevrolet</td>\n",
              "      <td>Tahoe</td>\n",
              "      <td>2014</td>\n",
              "      <td>Y</td>\n",
              "    </tr>\n",
              "    <tr>\n",
              "      <th>4</th>\n",
              "      <td>228</td>\n",
              "      <td>44</td>\n",
              "      <td>367455</td>\n",
              "      <td>2014-06-06</td>\n",
              "      <td>IL</td>\n",
              "      <td>500/1000</td>\n",
              "      <td>1000</td>\n",
              "      <td>1583.91</td>\n",
              "      <td>6000000</td>\n",
              "      <td>610706</td>\n",
              "      <td>MALE</td>\n",
              "      <td>Associate</td>\n",
              "      <td>sales</td>\n",
              "      <td>board-games</td>\n",
              "      <td>unmarried</td>\n",
              "      <td>66000</td>\n",
              "      <td>-46000</td>\n",
              "      <td>2015-02-17</td>\n",
              "      <td>Vehicle Theft</td>\n",
              "      <td>Rear Collision</td>\n",
              "      <td>Minor Damage</td>\n",
              "      <td>None</td>\n",
              "      <td>NY</td>\n",
              "      <td>Arlington</td>\n",
              "      <td>3041 3rd Ave</td>\n",
              "      <td>20</td>\n",
              "      <td>1</td>\n",
              "      <td>NO</td>\n",
              "      <td>0</td>\n",
              "      <td>1</td>\n",
              "      <td>NO</td>\n",
              "      <td>6500</td>\n",
              "      <td>1300</td>\n",
              "      <td>650</td>\n",
              "      <td>4550</td>\n",
              "      <td>Accura</td>\n",
              "      <td>RSX</td>\n",
              "      <td>2009</td>\n",
              "      <td>N</td>\n",
              "    </tr>\n",
              "  </tbody>\n",
              "</table>\n",
              "</div>"
            ],
            "text/plain": [
              "   months_as_customer  age  policy_number  ... auto_model auto_year fraud_reported\n",
              "0                 328   48         521585  ...        92x      2004              Y\n",
              "1                 228   42         342868  ...       E400      2007              Y\n",
              "2                 134   29         687698  ...        RAM      2007              N\n",
              "3                 256   41         227811  ...      Tahoe      2014              Y\n",
              "4                 228   44         367455  ...        RSX      2009              N\n",
              "\n",
              "[5 rows x 39 columns]"
            ]
          },
          "metadata": {
            "tags": []
          },
          "execution_count": 104
        }
      ]
    },
    {
      "cell_type": "code",
      "metadata": {
        "id": "BybCwDPjEnm0"
      },
      "source": [
        "from datetime import datetime\n",
        "data['policy_bind_date'] = pd.to_datetime(data['policy_bind_date'])\n",
        "data['incident_date']=pd.to_datetime(data['incident_date'])"
      ],
      "execution_count": null,
      "outputs": []
    },
    {
      "cell_type": "markdown",
      "metadata": {
        "id": "y4CEq2I-V6l2"
      },
      "source": [
        "Reducing the policy bind date ( issued date ) and incident date to month and year.\n"
      ]
    },
    {
      "cell_type": "code",
      "metadata": {
        "id": "x4OuvE1XFJot"
      },
      "source": [
        "data['policy_Month']=data['policy_bind_date'].dt.month\n",
        "data['policy_Year']=data['policy_bind_date'].dt.year\n",
        "data['Inc_Month']=data['incident_date'].dt.month\n",
        "data['Inc_Year']=data['incident_date'].dt.year"
      ],
      "execution_count": null,
      "outputs": []
    },
    {
      "cell_type": "markdown",
      "metadata": {
        "id": "xUsdXyCNWQKn"
      },
      "source": [
        "CSL (Combined single limit) is a auto insurance coverage is a combination of all the liability limits\n",
        "\n",
        "\n",
        "```\n",
        "eg: 100/300/100\n",
        "> $100000 Body Injury per person\n",
        "\n",
        "> $300000 Per Accident \n",
        "\n",
        "> $100000 For property Damage\n",
        "```\n",
        "\n"
      ]
    },
    {
      "cell_type": "code",
      "metadata": {
        "id": "_zIFujxyWP1a"
      },
      "source": [
        "data['csl_per_person'] = data.policy_csl.str.split('/', expand=True)[0]\n",
        "data['csl_per_accident'] = data.policy_csl.str.split('/', expand=True)[1]"
      ],
      "execution_count": null,
      "outputs": []
    },
    {
      "cell_type": "code",
      "metadata": {
        "colab": {
          "base_uri": "https://localhost:8080/"
        },
        "id": "YRxBLa6rYX_U",
        "outputId": "ec0a9ec8-bb0a-4dd5-d3ef-b9f338ad4155"
      },
      "source": [
        "data.select_dtypes('object').columns"
      ],
      "execution_count": null,
      "outputs": [
        {
          "output_type": "execute_result",
          "data": {
            "text/plain": [
              "Index(['policy_state', 'policy_csl', 'insured_sex', 'insured_education_level',\n",
              "       'insured_occupation', 'insured_hobbies', 'insured_relationship',\n",
              "       'incident_type', 'collision_type', 'incident_severity',\n",
              "       'authorities_contacted', 'incident_state', 'incident_city',\n",
              "       'incident_location', 'property_damage', 'police_report_available',\n",
              "       'auto_make', 'auto_model', 'fraud_reported', 'csl_per_person',\n",
              "       'csl_per_accident'],\n",
              "      dtype='object')"
            ]
          },
          "metadata": {
            "tags": []
          },
          "execution_count": 108
        }
      ]
    },
    {
      "cell_type": "code",
      "metadata": {
        "id": "O0kKkOrSZaeF"
      },
      "source": [
        "Cat = ['insured_sex', 'insured_education_level', 'policy_state', 'insured_occupation','insured_hobbies','insured_relationship','incident_type','collision_type','incident_severity',\n",
        "       'authorities_contacted', 'incident_state', 'incident_city',\n",
        "       'incident_location', 'property_damage', 'police_report_available',\n",
        "       'auto_make', 'auto_model', 'fraud_reported']"
      ],
      "execution_count": null,
      "outputs": []
    },
    {
      "cell_type": "code",
      "metadata": {
        "id": "Tsug6RzgZCM3"
      },
      "source": [
        "for col in Cat:\n",
        "    data[col] = data[col].astype('category')"
      ],
      "execution_count": null,
      "outputs": []
    },
    {
      "cell_type": "code",
      "metadata": {
        "colab": {
          "base_uri": "https://localhost:8080/"
        },
        "id": "M-cbUgPXZ60i",
        "outputId": "6e3beced-3acc-4862-8a5d-12e6f0343062"
      },
      "source": [
        "data.select_dtypes('category').columns"
      ],
      "execution_count": null,
      "outputs": [
        {
          "output_type": "execute_result",
          "data": {
            "text/plain": [
              "Index(['policy_state', 'insured_sex', 'insured_education_level',\n",
              "       'insured_occupation', 'insured_hobbies', 'insured_relationship',\n",
              "       'incident_type', 'collision_type', 'incident_severity',\n",
              "       'authorities_contacted', 'incident_state', 'incident_city',\n",
              "       'incident_location', 'property_damage', 'police_report_available',\n",
              "       'auto_make', 'auto_model', 'fraud_reported'],\n",
              "      dtype='object')"
            ]
          },
          "metadata": {
            "tags": []
          },
          "execution_count": 111
        }
      ]
    },
    {
      "cell_type": "code",
      "metadata": {
        "colab": {
          "base_uri": "https://localhost:8080/"
        },
        "id": "eHTtSLreTcWt",
        "outputId": "e156d909-241f-4d5a-c90a-17feb28e4e6f"
      },
      "source": [
        "for col in data.select_dtypes('category').columns:\n",
        "   print(f'Column {col}: \\n {data[col].unique().categories.values}\\n')"
      ],
      "execution_count": null,
      "outputs": [
        {
          "output_type": "stream",
          "text": [
            "Column policy_state: \n",
            " ['OH' 'IN' 'IL']\n",
            "\n",
            "Column insured_sex: \n",
            " ['MALE' 'FEMALE']\n",
            "\n",
            "Column insured_education_level: \n",
            " ['MD' 'PhD' 'Associate' 'Masters' 'High School' 'College' 'JD']\n",
            "\n",
            "Column insured_occupation: \n",
            " ['craft-repair' 'machine-op-inspct' 'sales' 'armed-forces' 'tech-support'\n",
            " 'prof-specialty' 'other-service' 'priv-house-serv' 'exec-managerial'\n",
            " 'protective-serv' 'transport-moving' 'handlers-cleaners' 'adm-clerical'\n",
            " 'farming-fishing']\n",
            "\n",
            "Column insured_hobbies: \n",
            " ['sleeping' 'reading' 'board-games' 'bungie-jumping' 'base-jumping' 'golf'\n",
            " 'camping' 'dancing' 'skydiving' 'movies' 'hiking' 'yachting' 'paintball'\n",
            " 'chess' 'kayaking' 'polo' 'basketball' 'video-games' 'cross-fit'\n",
            " 'exercise']\n",
            "\n",
            "Column insured_relationship: \n",
            " ['husband' 'other-relative' 'own-child' 'unmarried' 'wife' 'not-in-family']\n",
            "\n",
            "Column incident_type: \n",
            " ['Single Vehicle Collision' 'Vehicle Theft' 'Multi-vehicle Collision'\n",
            " 'Parked Car']\n",
            "\n",
            "Column collision_type: \n",
            " ['Side Collision' 'Rear Collision' 'Front Collision']\n",
            "\n",
            "Column incident_severity: \n",
            " ['Major Damage' 'Minor Damage' 'Total Loss' 'Trivial Damage']\n",
            "\n",
            "Column authorities_contacted: \n",
            " ['Police' 'None' 'Fire' 'Other' 'Ambulance']\n",
            "\n",
            "Column incident_state: \n",
            " ['SC' 'VA' 'NY' 'OH' 'WV' 'NC' 'PA']\n",
            "\n",
            "Column incident_city: \n",
            " ['Columbus' 'Riverwood' 'Arlington' 'Springfield' 'Hillsdale' 'Northbend'\n",
            " 'Northbrook']\n",
            "\n",
            "Column incident_location: \n",
            " ['9935 4th Drive' '6608 MLK Hwy' '7121 Francis Lane' '6956 Maple Drive'\n",
            " '3041 3rd Ave' '8973 Washington St' '5846 Weaver Drive' '3525 3rd Hwy'\n",
            " '4872 Rock Ridge' '3066 Francis Ave' '1558 1st Ridge' '5971 5th Hwy'\n",
            " '6655 5th Drive' '6582 Elm Lane' '6851 3rd Drive' '9573 Weaver Ave'\n",
            " '5074 3rd St' '4546 Tree St' '3842 Solo Ridge' '8101 3rd Ridge'\n",
            " '5380 Pine St' '8957 Weaver Drive' '2526 Embaracadero Ave'\n",
            " '5667 4th Drive' '2502 Apache Hwy' '3418 Texas Lane' '2533 Elm St'\n",
            " '3790 Andromedia Hwy' '3220 Rock Drive' '2100 Francis Drive'\n",
            " '4687 5th Drive' '9038 2nd Lane' '6092 5th Ave' '8353 Britain Ridge'\n",
            " '3540 Maple St' '3104 Sky Drive' '4981 Weaver St' '6676 Tree Lane'\n",
            " '3930 Embaracadero St' '3422 Flute St' '4862 Lincoln Hwy' '5719 2nd Lane'\n",
            " '3221 Solo Ridge' '6660 MLK Drive' '1699 Oak Drive' '4234 Cherokee Lane'\n",
            " '7476 4th St' '8907 Tree Ave' '6619 Flute Ave' '6011 Britain St'\n",
            " '5104 Francis Drive' '2280 4th Ave' '2644 Elm Drive' '7466 MLK Ridge'\n",
            " '5821 2nd St' '6723 Best Drive' '4866 4th Hwy' '5418 Britain Ave'\n",
            " '4296 Pine Hwy' '2299 1st St' '6618 Cherokee Drive' '7459 Flute St'\n",
            " '3567 4th Drive' '2457 Washington Ave' '1269 Flute Drive' '1218 Sky Hwy'\n",
            " '9169 Pine Ridge' '8538 Texas Lane' '5783 Oak Ave'\n",
            " '7721 Washington Ridge' '8006 Maple Hwy' '6751 Pine Ridge'\n",
            " '2324 Texas Ridge' '7923 Elm Ave' '4755 Best Lane' '5053 Tree Drive'\n",
            " '2078 3rd Ave' '2804 Best St' '7877 Sky Lane' '6530 Weaver Ave'\n",
            " '3087 Oak Hwy' '7098 Lincoln Hwy' '5124 Maple St' '2333 Maple Lane'\n",
            " '1012 5th Lane' '7477 MLK Drive' '9489 3rd St' '2087 Apache Ave'\n",
            " '5540 Sky St' '7238 2nd St' '8442 Britain Hwy' '1331 Britain Hwy'\n",
            " '5260 Francis Drive' '1135 Solo Lane' '9737 Solo Hwy'\n",
            " '3289 Britain Drive' '6550 Andromedia St' '1679 2nd Hwy' '3998 Flute St'\n",
            " '2430 MLK Ave' '7717 Britain Hwy' '7773 Tree Hwy' '2199 Texas Drive'\n",
            " '1028 Sky Lane' '4154 Lincoln Hwy' '8085 Andromedia St' '4793 4th Ridge'\n",
            " '7428 Sky Hwy' '2306 5th Lane' '3052 Weaver Ridge' '5211 Weaver Drive'\n",
            " '7253 MLK St' '1454 5th Ridge' '5622 Best Ridge' '4574 Britain Hwy'\n",
            " '4539 Texas St' '8118 Elm Ridge' '3814 Britain Drive' '4614 MLK Ave'\n",
            " '1628 Best Drive' '8381 Solo Hwy' '2100 MLK St' '5071 Flute Ridge'\n",
            " '7551 Britain Lane' '2275 Best Lane' '1598 3rd Drive' '7740 MLK St'\n",
            " '1240 Tree Lane' '8983 Francis Ridge' '7756 Solo Drive'\n",
            " '9034 Weaver Ridge' '1126 Texas Hwy' '2808 Elm St' '5061 Francis Ave'\n",
            " '4965 MLK Drive' '8668 Flute St' '2577 Washington Drive' '7709 Rock Lane'\n",
            " '9358 Texas Ridge' '8080 Oak Lane' '6408 Weaver Ridge'\n",
            " '5532 Weaver Ridge' '9101 2nd Hwy' '8576 Andromedia St' '6315 2nd Lane'\n",
            " '1536 Flute Drive' '4672 MLK St' '2204 Washington Lane' '9484 Pine Drive'\n",
            " '5431 3rd Ridge' '7121 Britain Drive' '8586 1st Ridge' '7582 Pine Drive'\n",
            " '1388 Embaracadero Hwy' '5621 4th Ave' '8150 Washington Ridge'\n",
            " '4268 2nd Ave' '6375 2nd Lane' '3770 Flute Drive' '1562 Britain St'\n",
            " '1681 Cherokee Hwy' '7523 Oak Lane' '1815 Cherokee Drive' '9316 Pine Ave'\n",
            " '2733 Texas Drive' '7684 Francis Ridge' '8991 Embaracadero Ave'\n",
            " '4905 Francis Ave' '7783 Lincoln Hwy' '8749 Tree St' '4985 Sky Lane'\n",
            " '7534 MLK Hwy' '8689 Maple Hwy' '9153 3rd Hwy' '5904 1st Drive'\n",
            " '4519 Embaracadero St' '9706 MLK Lane' '6012 Texas Hwy'\n",
            " '4098 Weaver Ridge' '6193 1st Hwy' '4053 Sky Lane' '8964 Francis St'\n",
            " '9748 Sky Drive' '2293 Washington Ave' '3656 Solo Ave'\n",
            " '8579 Apache Drive' '2003 Maple Hwy' '5445 Tree Hwy' '9730 2nd Hwy'\n",
            " '7819 Oak St' '1845 Best St' '2500 Tree St' '6955 Pine Drive'\n",
            " '6165 Rock Ridge' '3653 Elm Drive' '5812 3rd Hwy' '4939 Best St'\n",
            " '4964 Elm Lane' '9588 Solo St' '8718 Apache Lane' '3590 Best Hwy'\n",
            " '6149 Best Ridge' '4116 Embaracadero Lane' '3486 Flute Ave'\n",
            " '5994 5th Ave' '9138 3rd St' '3743 Andromedia Ridge' '7644 Tree Ridge'\n",
            " '3167 2nd St' '3327 Lincoln Drive' '8621 Best Ridge' '3878 Tree Lane'\n",
            " '9760 Solo Lane' '9138 1st St' '3414 Elm Ave' '3172 Tree Ridge'\n",
            " '6104 Oak Ave' '9742 5th Ridge' '8782 3rd St' '9798 Sky Ridge'\n",
            " '5483 Francis Drive' '2005 Texas Hwy' '6634 Texas Ridge'\n",
            " '8655 Cherokee Lane' '4955 Lincoln Ridge' '7705 Best Ridge'\n",
            " '5838 Pine Lane' '7331 Sky Hwy' '5640 Embaracadero Lane'\n",
            " '9610 Cherokee St' '3550 Washington Ave' '5277 Texas Lane'\n",
            " '3654 Cherokee Ave' '7380 5th Hwy' '2539 Embaracadero Ridge'\n",
            " '4693 Lincoln Hwy' '2376 Sky Ridge' '1273 Rock Lane' '8281 Lincoln Lane'\n",
            " '6429 4th Hwy' '2201 4th Lane' '5506 Best St' '8404 Embaracadero St'\n",
            " '2117 Lincoln Hwy' '6359 MLK Ridge' '9751 Sky Ridge' '9020 Elm Ave'\n",
            " '1830 Sky St' '6067 Weaver Ridge' '1840 Embaracadero Ave'\n",
            " '4058 Tree Drive' '4983 MLK Ridge' '9744 Texas Drive' '8821 Elm St'\n",
            " '2886 Tree Ridge' '5236 Weaver Drive' '5862 Apache Ridge'\n",
            " '7859 4th Ridge' '6259 Weaver St' '9980 Lincoln Ave' '7828 Cherokee Ave'\n",
            " '5812 Oak St' '2318 Washington Hwy' '8809 Flute St' '3184 Oak Ave'\n",
            " '6493 Lincoln Lane' '7162 Maple Ave' '5455 Tree Ridge' '5778 Pine Ridge'\n",
            " '3797 Solo Lane' '9373 Pine Hwy' '1365 Francis Ave'\n",
            " '9239 Washington Ridge' '3416 Washington Drive' '1923 2nd Hwy'\n",
            " '6451 1st Hwy' '1267 Francis Hwy' '4158 Washington Lane'\n",
            " '3796 Cherokee Drive' '7434 Oak Hwy' '5178 Weaver Hwy' '8477 Francis Hwy'\n",
            " '7693 Britain Lane' '3658 Rock Drive' '2617 Andromedia Drive'\n",
            " '9279 Oak Hwy' '3439 Andromedia Hwy' '5901 Elm Drive'\n",
            " '3982 Washington Hwy' '3376 5th Drive' '3936 Tree Drive' '6605 Tree Ave'\n",
            " '3102 Apache St' '7756 Pine Hwy' '7142 5th Lane' '2914 Oak Drive'\n",
            " '6522 Apache Drive' '5279 Pine Ridge' '8078 Britain Hwy' '1133 Apache St'\n",
            " '2873 Flute Ave' '8509 Apache St' '8245 4th Hwy' '3094 Best Lane'\n",
            " '8188 Tree Ave' '5224 5th Lane' '2230 1st St' '6719 Flute St'\n",
            " '8064 4th Ave' '2469 Francis Lane' '4671 5th Ridge' '6985 Maple Lane'\n",
            " '7791 Britain Ridge' '6355 4th Hwy' '3495 Britain Drive' '2980 Sky Ridge'\n",
            " '5914 Oak Ave' '3835 5th Ave' '5925 Tree Hwy' '6250 1st Ridge'\n",
            " '1346 5th Lane' '1128 Maple Lane' '6309 Cherokee Ave' '4618 Flute Ave'\n",
            " '6191 Oak Lane' '1316 Britain Ridge' '5924 Maple Drive' '8917 Tree Ridge'\n",
            " '3966 Francis Ridge' '1507 Solo Ave' '4272 Oak Ridge' '4434 Lincoln Ave'\n",
            " '7529 Solo Ridge' '8096 Apache Hwy' '9417 Tree Hwy' '3809 Texas Lane'\n",
            " '1540 Apache Lane' '2337 Lincoln Hwy' '6770 1st St' '4119 Texas St'\n",
            " '4347 2nd Ridge' '1091 1st Drive' '8203 Lincoln Ave' '9154 MLK Hwy'\n",
            " '5780 4th Ave' '6945 Texas Hwy' '5639 1st Ridge' '3834 Pine St'\n",
            " '1358 Maple St' '7460 Apache Lane' '5771 Sky Ave' '2865 Maple Lane'\n",
            " '8940 Elm Ave' '1215 Pine Hwy' '6874 Maple Ridge' '8834 Elm Drive'\n",
            " '8542 Lincoln Ridge' '9397 Francis St' '4907 Andromedia Drive'\n",
            " '4429 Washington St' '2651 MLK Lane' '2942 1st Lane' '6317 Best St'\n",
            " '1555 Washington Lane' '1919 4th Lane' '5480 3rd Ridge' '8864 Tree Ridge'\n",
            " '2777 Solo Drive' '9929 Rock Drive' '4143 Maple Ridge' '7121 Rock St'\n",
            " '9067 Texas Ave' '9245 Weaver Ridge' '4585 Francis Ave'\n",
            " '6738 Francis Hwy' '7576 Pine Ridge' '9105 Tree Lane'\n",
            " '2299 Britain Drive' '1914 Francis St' '6658 Weaver St' '1985 5th Ave'\n",
            " '1707 Sky Ave' '6456 Andromedia Drive' '5649 Texas Ave' '1220 MLK Ave'\n",
            " '1589 Pine St' '8906 Elm Lane' '2654 Elm Drive' '6681 Texas Ridge'\n",
            " '7782 Rock St' '9286 Oak Ave' '8758 5th St' '7281 Maple Hwy'\n",
            " '7571 Elm Ridge' '6738 Washington Hwy' '4188 Britain Ave'\n",
            " '6934 Lincoln Ave' '6390 Apache St' '7615 Weaver Drive'\n",
            " '6409 Cherokee Drive' '1123 5th Lane' '5168 5th Ave' '3697 Apache Drive'\n",
            " '1910 Sky Ave' '8954 Apache Lane' '3110 Lincoln Lane' '6035 Rock Ave'\n",
            " '2220 1st Lane' '4972 Francis Lane' '6957 Weaver Drive' '1512 Rock Lane'\n",
            " '3693 Pine Ave' '9879 Apache Drive' '2494 Andromedia Drive'\n",
            " '4615 Embaracadero Ave' '1929 Britain Drive' '5051 Elm St'\n",
            " '9910 Maple Ave' '5602 Britain St' '6889 Cherokee St' '3926 Rock Lane'\n",
            " '6717 Best Drive' '6117 4th Ave' '2668 Cherokee St' '6838 Flute Lane'\n",
            " '6583 MLK Ridge' '6492 4th Lane' '7299 Apache St' '2756 Britain Hwy'\n",
            " '9360 3rd Drive' '1655 Francis Hwy' '9720 Lincoln Hwy' '7066 Texas Ave'\n",
            " '9728 Britain Hwy' '4486 Cherokee Ridge' '8021 Flute Ave'\n",
            " '2774 Apache Drive' '2787 MLK St' '9847 Elm St' '4629 Elm Ridge'\n",
            " '5585 Washington Drive' '3925 Sky St' '3903 Oak Ave' '3805 Lincoln Hwy'\n",
            " '4055 2nd Drive' '3707 Oak Ridge' '7327 Lincoln Drive' '9369 Flute Hwy'\n",
            " '4239 Weaver Ave' '6044 Weaver Drive' '8879 1st Drive' '9488 Best Drive'\n",
            " '7500 Texas Ridge' '2048 3rd Ridge' '3419 Apache St' '9875 MLK Ave'\n",
            " '3553 Texas Ave' '4335 1st St' '9070 Tree Ave' '3900 Texas St'\n",
            " '9657 5th Ave' '5765 Washington St' '5997 Embaracadero Drive'\n",
            " '1738 Solo Lane' '2903 Weaver Drive' '8926 Texas Ridge' '4231 3rd Ave'\n",
            " '8049 4th St' '6501 5th Drive' '7909 Andromedia Hwy' '5865 Sky Lane'\n",
            " '1957 Washington Ave' '7649 Texas St' '1992 Britain Drive'\n",
            " '9685 Sky Ridge' '3457 Texas Lane' '7693 Cherokee Lane' '3167 4th Ridge'\n",
            " '1617 Rock Drive' '7877 3rd Ridge' '9325 Lincoln Drive' '5855 Apache St'\n",
            " '1328 Texas Lane' '4567 Pine Ave' '7575 Pine St' '2850 Washington St'\n",
            " '9169 Cherokee Hwy' '6443 Washington Ridge' '6751 5th Hwy'\n",
            " '2289 Weaver Ridge' '8306 1st Drive' '2603 Andromedia Hwy'\n",
            " '6479 Francis Ave' '6428 Andromedia Lane' '9081 Cherokee Hwy'\n",
            " '1532 Washington St' '4625 MLK Drive' '1529 Elm Ridge'\n",
            " '2086 Francis Drive' '9066 Best Ridge' '7178 Best Drive'\n",
            " '9821 Francis Ave' '7061 Cherokee Drive' '1325 1st Lane' '3769 Sky St'\n",
            " '8489 Pine Hwy' '6329 Apache Ave' '9293 Pine Lane' '9224 Sky Drive'\n",
            " '8862 Maple Ridge' '3492 Flute Lane' '6484 Tree Drive' '4554 Sky Ave'\n",
            " '5201 Texas Hwy' '3982 Weaver Lane' '3660 Andromedia Hwy'\n",
            " '7135 Flute Lane' '4414 Solo Drive' '2920 5th Ave' '2986 MLK Drive'\n",
            " '1580 Maple Lane' '3706 Texas Hwy' '9109 Britain Drive' '2290 4th Ave'\n",
            " '4232 Britain Ridge' '6677 Andromedia Drive' '5868 Sky Hwy'\n",
            " '3053 Lincoln Drive' '7041 Tree Ridge' '7223 Embaracadero St'\n",
            " '8081 Flute Ridge' '8618 Texas Lane' '3508 Washington St'\n",
            " '2193 4th Ridge' '8897 Sky St' '9611 Pine Ridge' '7825 1st Ridge'\n",
            " '3039 Oak Hwy' '8204 Pine Lane' '9787 Andromedia Ave' '9633 Rock Hwy'\n",
            " '6303 1st Drive' '2014 Rock Ave' '8983 Tree St' '6260 5th Lane'\n",
            " '2725 Britain Ridge' '3089 Oak Ridge' '6206 3rd Ridge' '7240 5th Ridge'\n",
            " '8100 3rd Ave' '3282 4th Lane' '3227 Maple Ave' '4264 Lincoln Ridge'\n",
            " '2215 Best Ave' '5363 Weaver Lane' '2397 Cherokee Ave'\n",
            " '9794 Embaracadero St' '1810 Elm Hwy' '9603 Texas Lane' '5650 Sky Drive'\n",
            " '9633 MLK Lane' '4981 Flute Hwy' '9078 Francis Ridge' '1381 Francis Ave'\n",
            " '6435 Texas Ave' '1248 MLK Ridge' '3323 1st Lane' '6971 Best Ridge'\n",
            " '7488 Lincoln Lane' '9007 Francis Hwy' '1491 Francis Ridge'\n",
            " '3659 Oak Lane' '4176 Britain Hwy' '5189 Francis Drive' '6515 Oak Lane'\n",
            " '7168 Andromedia Ridge' '7954 Tree Ridge' '1956 Apache St'\n",
            " '9918 Andromedia Drive' '5499 Flute Ridge' '3311 2nd Drive'\n",
            " '7609 Rock St' '4652 Flute Drive' '6853 Sky Hwy' '7780 Flute Lane'\n",
            " '1687 3rd Lane' '6378 Britain Ave' '1306 Andromedia St'\n",
            " '3664 Francis Ridge' '5985 Lincoln Lane' '3706 4th Hwy'\n",
            " '6603 Francis Hwy' '7069 4th Hwy' '5093 Flute Lane' '5894 Flute Drive'\n",
            " '8459 Apache Ave' '7447 Lincoln Ridge' '1821 Andromedia Ridge'\n",
            " '6859 Flute Ridge' '4175 Elm Ridge' '5007 Oak St' '5790 Flute Ridge'\n",
            " '8704 Britain Lane' '7816 MLK Lane' '3618 Maple Lane'\n",
            " '7705 Lincoln Drive' '8602 Washington Ridge' '2832 Andromedia Lane'\n",
            " '9760 4th Hwy' '2509 Rock Drive' '2063 Weaver St' '3818 Texas Ridge'\n",
            " '3929 Elm Ave' '9911 Britain Lane' '3246 Britain Ridge'\n",
            " '2696 Cherokee Ridge' '5249 4th Ave' '4721 Cherokee Hwy'\n",
            " '8212 Flute Ridge' '3592 MLK Ridge' '6494 4th Ave' '6608 Apache Lane'\n",
            " '1553 Lincoln St' '7628 4th Lane' '3028 5th St' '8949 Rock Hwy'\n",
            " '9751 Tree St' '4702 Texas Drive' '2757 4th Hwy' '6678 Weaver Drive'\n",
            " '8667 Weaver Lane' '4931 Maple Drive' '3808 5th Ave' '1725 Solo Lane'\n",
            " '8097 Maple Lane' '3320 5th Hwy' '9573 2nd Ave' '8336 1st Ridge'\n",
            " '3998 4th Hwy' '3966 Oak Hwy' '7601 Andromedia Lane' '5160 2nd Hwy'\n",
            " '3288 Tree Lane' '5874 1st Hwy' '6467 Best Ave' '6309 5th Ave'\n",
            " '8212 Rock Ave' '4107 MLK Ridge' '4558 3rd Hwy' '1762 Maple Hwy'\n",
            " '5532 Francis Lane' '6158 Sky Ridge' '9214 Elm Ridge' '1833 Solo Ave'\n",
            " '1953 Sky Lane' '6834 1st Drive' '9562 4th Ridge' '4835 Britain Ridge'\n",
            " '8548 Cherokee Ridge' '2352 MLK Drive' '9734 2nd Ridge'\n",
            " '3122 Apache Drive' '9816 Britain St' '8214 Flute St' '6259 Lincoln Hwy'\n",
            " '4492 Andromedia Ave' '6179 3rd Ridge' '3799 Embaracadero Drive'\n",
            " '5071 1st Lane' '6574 4th Drive' '2711 Britain Ave' '4214 MLK Ridge'\n",
            " '7976 Britain Drive' '4995 Weaver Ridge' '1515 Embaracadero St'\n",
            " '2968 Andromedia Ave' '9236 2nd Hwy' '9639 Britain Ridge'\n",
            " '9422 Washington Ridge' '1213 4th Lane' '3872 5th Drive' '9397 5th Hwy'\n",
            " '8876 1st St' '3397 5th Ave' '3263 Pine Ridge' '8639 5th Hwy'\n",
            " '5743 4th Ridge' '3555 Francis Ridge' '4939 Oak Lane' '3100 Best St'\n",
            " '3029 5th Ave' '8941 Solo Ridge' '4447 Francis Hwy' '7701 Tree St'\n",
            " '4653 Pine St' '8742 4th St' '7316 Texas Ave' '2950 MLK Ave'\n",
            " '8233 Tree Drive' '4642 Rock Ridge' '7733 Britain Lane'\n",
            " '2753 Cherokee Ave' '3995 Lincoln Hwy' '4095 MLK St' '5782 Rock Drive'\n",
            " '2900 Sky Drive' '1515 Pine Lane' '4876 Washington Drive' '5779 2nd Lane'\n",
            " '6706 Francis Drive' '6384 5th Ridge' '3006 Lincoln Ridge'\n",
            " '5352 Lincoln Drive' '6110 Rock Ridge' '7797 Tree Ridge' '4910 1st Lane'\n",
            " '8766 Lincoln Lane' '6399 Oak Drive' '3127 Flute St' '8920 Best Ave'\n",
            " '7314 Tree Drive' '8872 Oak Ridge' '5022 1st St' '3423 Francis Ave'\n",
            " '9529 4th Drive' '1818 Tree St' '4431 Rock St' '4782 Sky Lane'\n",
            " '7112 Weaver Ave' '4020 Best Drive' '2037 5th Drive' '4699 Texas Ridge'\n",
            " '1832 Elm Hwy' '5226 Maple St' '3771 4th St' '8701 5th Lane'\n",
            " '7574 4th St' '1989 Solo Lane' '6331 MLK Ave' '8453 Elm St'\n",
            " '1422 Flute Ave' '5058 4th Lane' '3098 Oak Lane' '9103 MLK Lane'\n",
            " '8624 Francis Ave' '2905 Embaracadero Drive' '3443 Maple Ridge'\n",
            " '1618 Maple Hwy' '3751 Tree Hwy' '6848 Elm Hwy' '4237 4th St'\n",
            " '6581 Rock Ridge' '7236 Apache Lane' '3846 4th Hwy' '5028 Maple Ridge'\n",
            " '7426 Rock Drive' '5771 Best St' '9818 Cherokee Ave' '7819 2nd Ave'\n",
            " '1331 Elm Ridge' '9240 Britain Ave' '6668 Andromedia Ridge'\n",
            " '5276 2nd Lane' '2889 Weaver St' '1879 4th Lane' '5499 Elm Hwy'\n",
            " '8822 Sky St' '4254 Best Ridge' '5812 Weaver Ave' '7155 Apache Drive'\n",
            " '1376 Pine St' '3340 3rd Hwy' '3097 4th Drive' '1916 Elm St'\n",
            " '8917 Cherokee Lane' '8492 Weaver Hwy' '3753 Francis Lane'\n",
            " '4545 4th Ridge' '2272 Embaracadero Drive' '5341 5th Ave'\n",
            " '7745 Washington Ridge' '1275 4th Ridge' '4857 Weaver St' '8211 Sky Hwy'\n",
            " '8617 Best Ave' '9856 Apache St' '1951 Best Ave' '1824 5th Lane'\n",
            " '7393 Washington St' '1386 Britain St' '7928 Maple Ridge'\n",
            " '1546 Cherokee Ave' '2003 2nd Hwy' '9418 5th Hwy' '8770 1st Lane'\n",
            " '1087 Flute Drive' '2217 Tree Lane' '6741 Oak Ridge' '2123 MLK Ridge'\n",
            " '4390 4th Drive' '1437 3rd Lane' '1186 Rock St' '4394 Oak St'\n",
            " '8368 Cherokee Ave' '4905 Best Lane' '3618 Sky Ave' '5459 MLK Ave'\n",
            " '1371 Texas Lane' '2654 Embaracadero St' '2123 Texas Ave'\n",
            " '4538 Flute Hwy' '4434 Weaver St' '2798 1st Ave' '2809 Francis Lane'\n",
            " '7281 Oak St' '9878 Washington Ave' '2537 5th Ave' '8493 Apache Drive'\n",
            " '2878 Britain Hwy' '2862 Tree Ridge' '4453 Best Ave' '5191 4th St'\n",
            " '1364 Best St' '8946 2nd Drive' '3726 MLK Hwy' '2820 Britain St'\n",
            " '2646 MLK Drive' '6256 Elm St' '9724 Maple St' '7397 4th Drive'\n",
            " '3488 Flute Lane' '9082 3rd Lane' '1941 5th Ridge' '5333 MLK Lane'\n",
            " '4577 Sky Hwy' '4814 Lincoln Lane' '2381 1st Hwy' '6939 3rd Hwy'\n",
            " '5269 Flute Hwy' '7197 2nd Drive' '1741 Best Ridge' '9148 4th Hwy'\n",
            " '4279 Solo Drive' '9177 Texas Ave' '5969 Francis St' '9942 Tree Ave'\n",
            " '5474 Weaver Hwy' '1102 Apache Hwy' '9214 Texas Drive' '8991 Texas Hwy'\n",
            " '9580 MLK Ave' '5868 Best Drive' '5318 5th Ave' '7502 Rock Lane'\n",
            " '4627 Elm Ridge' '5584 Britain Lane' '7002 Oak Hwy' '4780 Best Drive'\n",
            " '8995 1st Ave' '5586 2nd St' '1589 Best Ave' '1880 Weaver Drive'\n",
            " '7295 Tree Hwy' '8832 Pine Drive' '1620 Oak Ave' '3847 Elm Hwy'\n",
            " '3177 MLK Ridge' '3929 Oak Drive' '1469 Lincoln Drive' '9719 4th Lane'\n",
            " '3196 Cherokee St' '8492 Andromedia Ridge' '1353 Washington St'\n",
            " '6731 Andromedia Hwy' '5769 Texas Lane' '2849 Pine Drive'\n",
            " '2577 Texas Ridge' '3841 Washington Lane' '8125 Texas Ridge'\n",
            " '4826 5th St' '1578 5th Lane' '6440 Rock Lane' '5806 Embaracadero St'\n",
            " '1472 4th Drive' '5839 Weaver Lane' '7630 Rock Drive'\n",
            " '7144 Andromedia St' '9988 Rock Ridge' '7544 Washington Ave'\n",
            " '7201 Washington Ave' '8805 Cherokee Drive' '3275 Pine St'\n",
            " '7785 Lincoln Lane' '4994 Lincoln Drive' '1298 Maple Hwy'\n",
            " '2644 MLK Drive' '5630 1st Drive' '6137 MLK St' '5383 Maple Drive'\n",
            " '4460 4th Lane' '8524 Pine Lane' '8456 1st Ave' '3639 Flute Hwy'\n",
            " '7900 Sky Hwy' '7835 Cherokee Hwy' '1030 Pine Lane' '9278 Francis Ridge'\n",
            " '6604 Apache Drive' '2311 4th St' '9523 Solo Hwy' '3171 Andromedia Lane'\n",
            " '2492 Lincoln Lane' '4477 5th Ave' '6724 Andromedia St'\n",
            " '7495 Washington Ave' '4291 Sky Hwy' '5650 Rock Ave' '6888 Elm Ridge'\n",
            " '2352 Sky Drive' '5280 Pine Ave' '6638 Tree Drive' '5678 Lincoln Drive'\n",
            " '4496 Pine Lane' '8845 5th Ave' '9317 Apache Ave' '8638 3rd Ave'\n",
            " '3061 Francis Hwy' '1173 Andromedia Ave' '6068 2nd St'\n",
            " '7937 Weaver Ridge' '2823 Weaver Lane' '1809 Sky St'\n",
            " '9352 Washington Ave' '2697 Oak Drive' '1110 4th Drive' '7535 5th Lane'\n",
            " '9043 Maple Hwy' '3777 Maple Ave' '5608 Solo St' '6981 Weaver St'\n",
            " '4369 Maple Lane' '6931 Elm St' '7583 Washington Ave' '7552 3rd St'\n",
            " '1654 Pine St' '6058 Andromedia Hwy' '6536 MLK Hwy'\n",
            " '8198 Embaracadero Lane' '3447 Solo Ave' '1806 Weaver Ridge'\n",
            " '7930 Texas Ave' '7082 Oak Ridge' '6357 Texas Lane' '9322 Rock Hwy'\n",
            " '6684 Solo Lane' '4885 Oak Lane' '7846 Andromedia Drive'\n",
            " '3915 Embaracadero St' '4242 Rock Lane' '7405 Oak St' '9633 4th St'\n",
            " '3492 Britain St' '7973 4th St' '3952 Andromedia Lane'\n",
            " '6702 Andromedia St' '5455 Oak Hwy' '2253 Maple Ave' '7897 Lincoln St'\n",
            " '8811 Maple Hwy' '8167 Apache Ave' '5475 Rock Lane' '8215 Flute Drive'\n",
            " '1320 Flute Lane' '1229 5th Ave' '3884 Pine Lane' '7108 Tree St'\n",
            " '8014 Embaracadero Drive' '4937 Flute Drive' '2889 Francis St'\n",
            " '7504 Flute Drive' '7570 Cherokee Drive' '4710 Lincoln Hwy'\n",
            " '7511 1st Ave' '7042 Maple Ridge' '4475 Lincoln Ridge' '9439 MLK St'\n",
            " '8269 Sky Hwy' '5663 Oak Lane' '4633 5th Lane' '9682 Cherokee Ridge'\n",
            " '4755 1st St' '5312 Francis Ridge' '1705 Weaver St' '1643 Washington Hwy'\n",
            " '6516 Solo Drive' '6045 Andromedia St' '3092 Texas Drive' '7629 5th St'\n",
            " '6128 Elm Lane' '1416 Cherokee Ridge']\n",
            "\n",
            "Column property_damage: \n",
            " ['YES' 'NO']\n",
            "\n",
            "Column police_report_available: \n",
            " ['YES' 'NO']\n",
            "\n",
            "Column auto_make: \n",
            " ['Saab' 'Mercedes' 'Dodge' 'Chevrolet' 'Accura' 'Nissan' 'Audi' 'Toyota'\n",
            " 'Ford' 'Suburu' 'BMW' 'Jeep' 'Honda' 'Volkswagen']\n",
            "\n",
            "Column auto_model: \n",
            " ['92x' 'E400' 'RAM' 'Tahoe' 'RSX' '95' 'Pathfinder' 'A5' 'Camry' 'F150'\n",
            " 'A3' 'Highlander' 'Neon' 'MDX' 'Maxima' 'Legacy' 'TL' 'Impreza'\n",
            " 'Forrestor' 'Escape' 'Corolla' '3 Series' 'C300' 'Wrangler' 'M5' 'X5'\n",
            " 'Civic' 'Passat' 'Silverado' 'CRV' '93' 'Accord' 'X6' 'Malibu' 'Fusion'\n",
            " 'Jetta' 'ML350' 'Ultima' 'Grand Cherokee']\n",
            "\n",
            "Column fraud_reported: \n",
            " ['Y' 'N']\n",
            "\n"
          ],
          "name": "stdout"
        }
      ]
    },
    {
      "cell_type": "code",
      "metadata": {
        "id": "dz95C1b5Yz1X"
      },
      "source": [
        "data.insured_sex = data.insured_sex.map({'MALE':1,'FEMALE':0})"
      ],
      "execution_count": null,
      "outputs": []
    },
    {
      "cell_type": "code",
      "metadata": {
        "id": "wbkq8827Y401"
      },
      "source": [
        "data.insured_education_level = data.insured_education_level.map({'High School': 1, 'College': 2, 'Associate': 2, 'JD': 3,'Masters': 4, 'MD': 5, 'PhD': 6})"
      ],
      "execution_count": null,
      "outputs": []
    },
    {
      "cell_type": "code",
      "metadata": {
        "id": "BytmUS5bY6jb"
      },
      "source": [
        "data.incident_severity = data.incident_severity.map({'Minor Damage': 1, 'Major Damage': 2, 'Total Loss': 3, 'Trivial Damage': 4})"
      ],
      "execution_count": null,
      "outputs": []
    },
    {
      "cell_type": "code",
      "metadata": {
        "id": "_-uMLlr5ktmO"
      },
      "source": [
        "data['fraud_reported'] = data['fraud_reported'].replace({'Y':1, 'N':0})"
      ],
      "execution_count": null,
      "outputs": []
    },
    {
      "cell_type": "code",
      "metadata": {
        "colab": {
          "base_uri": "https://localhost:8080/"
        },
        "id": "_E90Y7SekGFe",
        "outputId": "8429c7d9-1d86-4cca-ca03-622abd0175d8"
      },
      "source": [
        "data.select_dtypes('category').columns"
      ],
      "execution_count": null,
      "outputs": [
        {
          "output_type": "execute_result",
          "data": {
            "text/plain": [
              "Index(['policy_state', 'insured_sex', 'insured_occupation', 'insured_hobbies',\n",
              "       'insured_relationship', 'incident_type', 'collision_type',\n",
              "       'incident_severity', 'authorities_contacted', 'incident_state',\n",
              "       'incident_city', 'incident_location', 'property_damage',\n",
              "       'police_report_available', 'auto_make', 'auto_model'],\n",
              "      dtype='object')"
            ]
          },
          "metadata": {
            "tags": []
          },
          "execution_count": 117
        }
      ]
    },
    {
      "cell_type": "markdown",
      "metadata": {
        "id": "HyNXFQNbgzYD"
      },
      "source": [
        "Some variables such as 'policy_bind_date', 'incident_date', 'incident_location' and 'insured_zip' contain very high number of level."
      ]
    },
    {
      "cell_type": "code",
      "metadata": {
        "id": "aLclNcoAFgat"
      },
      "source": [
        "data.drop(['policy_bind_date','incident_date','incident_location','policy_number','policy_csl'],axis=1,inplace=True)"
      ],
      "execution_count": null,
      "outputs": []
    },
    {
      "cell_type": "code",
      "metadata": {
        "id": "XNMxqomU0oju",
        "colab": {
          "base_uri": "https://localhost:8080/",
          "height": 292
        },
        "outputId": "1c9ea6fa-5f2f-4651-90ea-dfa9af60f298"
      },
      "source": [
        "data.head()"
      ],
      "execution_count": null,
      "outputs": [
        {
          "output_type": "execute_result",
          "data": {
            "text/html": [
              "<div>\n",
              "<style scoped>\n",
              "    .dataframe tbody tr th:only-of-type {\n",
              "        vertical-align: middle;\n",
              "    }\n",
              "\n",
              "    .dataframe tbody tr th {\n",
              "        vertical-align: top;\n",
              "    }\n",
              "\n",
              "    .dataframe thead th {\n",
              "        text-align: right;\n",
              "    }\n",
              "</style>\n",
              "<table border=\"1\" class=\"dataframe\">\n",
              "  <thead>\n",
              "    <tr style=\"text-align: right;\">\n",
              "      <th></th>\n",
              "      <th>months_as_customer</th>\n",
              "      <th>age</th>\n",
              "      <th>policy_state</th>\n",
              "      <th>policy_deductable</th>\n",
              "      <th>policy_annual_premium</th>\n",
              "      <th>umbrella_limit</th>\n",
              "      <th>insured_zip</th>\n",
              "      <th>insured_sex</th>\n",
              "      <th>insured_education_level</th>\n",
              "      <th>insured_occupation</th>\n",
              "      <th>insured_hobbies</th>\n",
              "      <th>insured_relationship</th>\n",
              "      <th>capital-gains</th>\n",
              "      <th>capital-loss</th>\n",
              "      <th>incident_type</th>\n",
              "      <th>collision_type</th>\n",
              "      <th>incident_severity</th>\n",
              "      <th>authorities_contacted</th>\n",
              "      <th>incident_state</th>\n",
              "      <th>incident_city</th>\n",
              "      <th>incident_hour_of_the_day</th>\n",
              "      <th>number_of_vehicles_involved</th>\n",
              "      <th>property_damage</th>\n",
              "      <th>bodily_injuries</th>\n",
              "      <th>witnesses</th>\n",
              "      <th>police_report_available</th>\n",
              "      <th>total_claim_amount</th>\n",
              "      <th>injury_claim</th>\n",
              "      <th>property_claim</th>\n",
              "      <th>vehicle_claim</th>\n",
              "      <th>auto_make</th>\n",
              "      <th>auto_model</th>\n",
              "      <th>auto_year</th>\n",
              "      <th>fraud_reported</th>\n",
              "      <th>policy_Month</th>\n",
              "      <th>policy_Year</th>\n",
              "      <th>Inc_Month</th>\n",
              "      <th>Inc_Year</th>\n",
              "      <th>csl_per_person</th>\n",
              "      <th>csl_per_accident</th>\n",
              "    </tr>\n",
              "  </thead>\n",
              "  <tbody>\n",
              "    <tr>\n",
              "      <th>0</th>\n",
              "      <td>328</td>\n",
              "      <td>48</td>\n",
              "      <td>OH</td>\n",
              "      <td>1000</td>\n",
              "      <td>1406.91</td>\n",
              "      <td>0</td>\n",
              "      <td>466132</td>\n",
              "      <td>1</td>\n",
              "      <td>5</td>\n",
              "      <td>craft-repair</td>\n",
              "      <td>sleeping</td>\n",
              "      <td>husband</td>\n",
              "      <td>53300</td>\n",
              "      <td>0</td>\n",
              "      <td>Single Vehicle Collision</td>\n",
              "      <td>Side Collision</td>\n",
              "      <td>2</td>\n",
              "      <td>Police</td>\n",
              "      <td>SC</td>\n",
              "      <td>Columbus</td>\n",
              "      <td>5</td>\n",
              "      <td>1</td>\n",
              "      <td>YES</td>\n",
              "      <td>1</td>\n",
              "      <td>2</td>\n",
              "      <td>YES</td>\n",
              "      <td>71610</td>\n",
              "      <td>6510</td>\n",
              "      <td>13020</td>\n",
              "      <td>52080</td>\n",
              "      <td>Saab</td>\n",
              "      <td>92x</td>\n",
              "      <td>2004</td>\n",
              "      <td>1</td>\n",
              "      <td>10</td>\n",
              "      <td>2014</td>\n",
              "      <td>1</td>\n",
              "      <td>2015</td>\n",
              "      <td>250</td>\n",
              "      <td>500</td>\n",
              "    </tr>\n",
              "    <tr>\n",
              "      <th>1</th>\n",
              "      <td>228</td>\n",
              "      <td>42</td>\n",
              "      <td>IN</td>\n",
              "      <td>2000</td>\n",
              "      <td>1197.22</td>\n",
              "      <td>5000000</td>\n",
              "      <td>468176</td>\n",
              "      <td>1</td>\n",
              "      <td>5</td>\n",
              "      <td>machine-op-inspct</td>\n",
              "      <td>reading</td>\n",
              "      <td>other-relative</td>\n",
              "      <td>0</td>\n",
              "      <td>0</td>\n",
              "      <td>Vehicle Theft</td>\n",
              "      <td>Rear Collision</td>\n",
              "      <td>1</td>\n",
              "      <td>Police</td>\n",
              "      <td>VA</td>\n",
              "      <td>Riverwood</td>\n",
              "      <td>8</td>\n",
              "      <td>1</td>\n",
              "      <td>NO</td>\n",
              "      <td>0</td>\n",
              "      <td>0</td>\n",
              "      <td>NO</td>\n",
              "      <td>5070</td>\n",
              "      <td>780</td>\n",
              "      <td>780</td>\n",
              "      <td>3510</td>\n",
              "      <td>Mercedes</td>\n",
              "      <td>E400</td>\n",
              "      <td>2007</td>\n",
              "      <td>1</td>\n",
              "      <td>6</td>\n",
              "      <td>2006</td>\n",
              "      <td>1</td>\n",
              "      <td>2015</td>\n",
              "      <td>250</td>\n",
              "      <td>500</td>\n",
              "    </tr>\n",
              "    <tr>\n",
              "      <th>2</th>\n",
              "      <td>134</td>\n",
              "      <td>29</td>\n",
              "      <td>OH</td>\n",
              "      <td>2000</td>\n",
              "      <td>1413.14</td>\n",
              "      <td>5000000</td>\n",
              "      <td>430632</td>\n",
              "      <td>0</td>\n",
              "      <td>6</td>\n",
              "      <td>sales</td>\n",
              "      <td>board-games</td>\n",
              "      <td>own-child</td>\n",
              "      <td>35100</td>\n",
              "      <td>0</td>\n",
              "      <td>Multi-vehicle Collision</td>\n",
              "      <td>Rear Collision</td>\n",
              "      <td>1</td>\n",
              "      <td>Police</td>\n",
              "      <td>NY</td>\n",
              "      <td>Columbus</td>\n",
              "      <td>7</td>\n",
              "      <td>3</td>\n",
              "      <td>NO</td>\n",
              "      <td>2</td>\n",
              "      <td>3</td>\n",
              "      <td>NO</td>\n",
              "      <td>34650</td>\n",
              "      <td>7700</td>\n",
              "      <td>3850</td>\n",
              "      <td>23100</td>\n",
              "      <td>Dodge</td>\n",
              "      <td>RAM</td>\n",
              "      <td>2007</td>\n",
              "      <td>0</td>\n",
              "      <td>9</td>\n",
              "      <td>2000</td>\n",
              "      <td>2</td>\n",
              "      <td>2015</td>\n",
              "      <td>100</td>\n",
              "      <td>300</td>\n",
              "    </tr>\n",
              "    <tr>\n",
              "      <th>3</th>\n",
              "      <td>256</td>\n",
              "      <td>41</td>\n",
              "      <td>IL</td>\n",
              "      <td>2000</td>\n",
              "      <td>1415.74</td>\n",
              "      <td>6000000</td>\n",
              "      <td>608117</td>\n",
              "      <td>0</td>\n",
              "      <td>6</td>\n",
              "      <td>armed-forces</td>\n",
              "      <td>board-games</td>\n",
              "      <td>unmarried</td>\n",
              "      <td>48900</td>\n",
              "      <td>-62400</td>\n",
              "      <td>Single Vehicle Collision</td>\n",
              "      <td>Front Collision</td>\n",
              "      <td>2</td>\n",
              "      <td>Police</td>\n",
              "      <td>OH</td>\n",
              "      <td>Arlington</td>\n",
              "      <td>5</td>\n",
              "      <td>1</td>\n",
              "      <td>NO</td>\n",
              "      <td>1</td>\n",
              "      <td>2</td>\n",
              "      <td>NO</td>\n",
              "      <td>63400</td>\n",
              "      <td>6340</td>\n",
              "      <td>6340</td>\n",
              "      <td>50720</td>\n",
              "      <td>Chevrolet</td>\n",
              "      <td>Tahoe</td>\n",
              "      <td>2014</td>\n",
              "      <td>1</td>\n",
              "      <td>5</td>\n",
              "      <td>1990</td>\n",
              "      <td>1</td>\n",
              "      <td>2015</td>\n",
              "      <td>250</td>\n",
              "      <td>500</td>\n",
              "    </tr>\n",
              "    <tr>\n",
              "      <th>4</th>\n",
              "      <td>228</td>\n",
              "      <td>44</td>\n",
              "      <td>IL</td>\n",
              "      <td>1000</td>\n",
              "      <td>1583.91</td>\n",
              "      <td>6000000</td>\n",
              "      <td>610706</td>\n",
              "      <td>1</td>\n",
              "      <td>2</td>\n",
              "      <td>sales</td>\n",
              "      <td>board-games</td>\n",
              "      <td>unmarried</td>\n",
              "      <td>66000</td>\n",
              "      <td>-46000</td>\n",
              "      <td>Vehicle Theft</td>\n",
              "      <td>Rear Collision</td>\n",
              "      <td>1</td>\n",
              "      <td>None</td>\n",
              "      <td>NY</td>\n",
              "      <td>Arlington</td>\n",
              "      <td>20</td>\n",
              "      <td>1</td>\n",
              "      <td>NO</td>\n",
              "      <td>0</td>\n",
              "      <td>1</td>\n",
              "      <td>NO</td>\n",
              "      <td>6500</td>\n",
              "      <td>1300</td>\n",
              "      <td>650</td>\n",
              "      <td>4550</td>\n",
              "      <td>Accura</td>\n",
              "      <td>RSX</td>\n",
              "      <td>2009</td>\n",
              "      <td>0</td>\n",
              "      <td>6</td>\n",
              "      <td>2014</td>\n",
              "      <td>2</td>\n",
              "      <td>2015</td>\n",
              "      <td>500</td>\n",
              "      <td>1000</td>\n",
              "    </tr>\n",
              "  </tbody>\n",
              "</table>\n",
              "</div>"
            ],
            "text/plain": [
              "   months_as_customer  age  ... csl_per_person  csl_per_accident\n",
              "0                 328   48  ...            250               500\n",
              "1                 228   42  ...            250               500\n",
              "2                 134   29  ...            100               300\n",
              "3                 256   41  ...            250               500\n",
              "4                 228   44  ...            500              1000\n",
              "\n",
              "[5 rows x 40 columns]"
            ]
          },
          "metadata": {
            "tags": []
          },
          "execution_count": 119
        }
      ]
    },
    {
      "cell_type": "code",
      "metadata": {
        "id": "hYtGxz7dGYxD"
      },
      "source": [
        "from sklearn import preprocessing\n",
        "label_encoder = preprocessing.LabelEncoder()\n",
        "for col in data.select_dtypes('category').columns:\n",
        "  data[col]= label_encoder.fit_transform(data[col])\n",
        "  data[col].unique()"
      ],
      "execution_count": null,
      "outputs": []
    },
    {
      "cell_type": "code",
      "metadata": {
        "colab": {
          "base_uri": "https://localhost:8080/",
          "height": 241
        },
        "id": "smWF8M-jtH-N",
        "outputId": "c9a5449e-2fb2-434e-b79c-197a3cf2328c"
      },
      "source": [
        "data.head()"
      ],
      "execution_count": null,
      "outputs": [
        {
          "output_type": "execute_result",
          "data": {
            "text/html": [
              "<div>\n",
              "<style scoped>\n",
              "    .dataframe tbody tr th:only-of-type {\n",
              "        vertical-align: middle;\n",
              "    }\n",
              "\n",
              "    .dataframe tbody tr th {\n",
              "        vertical-align: top;\n",
              "    }\n",
              "\n",
              "    .dataframe thead th {\n",
              "        text-align: right;\n",
              "    }\n",
              "</style>\n",
              "<table border=\"1\" class=\"dataframe\">\n",
              "  <thead>\n",
              "    <tr style=\"text-align: right;\">\n",
              "      <th></th>\n",
              "      <th>months_as_customer</th>\n",
              "      <th>age</th>\n",
              "      <th>policy_state</th>\n",
              "      <th>policy_deductable</th>\n",
              "      <th>policy_annual_premium</th>\n",
              "      <th>umbrella_limit</th>\n",
              "      <th>insured_zip</th>\n",
              "      <th>insured_sex</th>\n",
              "      <th>insured_education_level</th>\n",
              "      <th>insured_occupation</th>\n",
              "      <th>insured_hobbies</th>\n",
              "      <th>insured_relationship</th>\n",
              "      <th>capital-gains</th>\n",
              "      <th>capital-loss</th>\n",
              "      <th>incident_type</th>\n",
              "      <th>collision_type</th>\n",
              "      <th>incident_severity</th>\n",
              "      <th>authorities_contacted</th>\n",
              "      <th>incident_state</th>\n",
              "      <th>incident_city</th>\n",
              "      <th>incident_hour_of_the_day</th>\n",
              "      <th>number_of_vehicles_involved</th>\n",
              "      <th>property_damage</th>\n",
              "      <th>bodily_injuries</th>\n",
              "      <th>witnesses</th>\n",
              "      <th>police_report_available</th>\n",
              "      <th>total_claim_amount</th>\n",
              "      <th>injury_claim</th>\n",
              "      <th>property_claim</th>\n",
              "      <th>vehicle_claim</th>\n",
              "      <th>auto_make</th>\n",
              "      <th>auto_model</th>\n",
              "      <th>auto_year</th>\n",
              "      <th>fraud_reported</th>\n",
              "      <th>policy_Month</th>\n",
              "      <th>policy_Year</th>\n",
              "      <th>Inc_Month</th>\n",
              "      <th>Inc_Year</th>\n",
              "      <th>csl_per_person</th>\n",
              "      <th>csl_per_accident</th>\n",
              "    </tr>\n",
              "  </thead>\n",
              "  <tbody>\n",
              "    <tr>\n",
              "      <th>0</th>\n",
              "      <td>328</td>\n",
              "      <td>48</td>\n",
              "      <td>2</td>\n",
              "      <td>1000</td>\n",
              "      <td>1406.91</td>\n",
              "      <td>0</td>\n",
              "      <td>466132</td>\n",
              "      <td>1</td>\n",
              "      <td>5</td>\n",
              "      <td>2</td>\n",
              "      <td>17</td>\n",
              "      <td>0</td>\n",
              "      <td>53300</td>\n",
              "      <td>0</td>\n",
              "      <td>2</td>\n",
              "      <td>2</td>\n",
              "      <td>1</td>\n",
              "      <td>4</td>\n",
              "      <td>4</td>\n",
              "      <td>1</td>\n",
              "      <td>5</td>\n",
              "      <td>1</td>\n",
              "      <td>1</td>\n",
              "      <td>1</td>\n",
              "      <td>2</td>\n",
              "      <td>1</td>\n",
              "      <td>71610</td>\n",
              "      <td>6510</td>\n",
              "      <td>13020</td>\n",
              "      <td>52080</td>\n",
              "      <td>10</td>\n",
              "      <td>1</td>\n",
              "      <td>2004</td>\n",
              "      <td>1</td>\n",
              "      <td>10</td>\n",
              "      <td>2014</td>\n",
              "      <td>1</td>\n",
              "      <td>2015</td>\n",
              "      <td>250</td>\n",
              "      <td>500</td>\n",
              "    </tr>\n",
              "    <tr>\n",
              "      <th>1</th>\n",
              "      <td>228</td>\n",
              "      <td>42</td>\n",
              "      <td>1</td>\n",
              "      <td>2000</td>\n",
              "      <td>1197.22</td>\n",
              "      <td>5000000</td>\n",
              "      <td>468176</td>\n",
              "      <td>1</td>\n",
              "      <td>5</td>\n",
              "      <td>6</td>\n",
              "      <td>15</td>\n",
              "      <td>2</td>\n",
              "      <td>0</td>\n",
              "      <td>0</td>\n",
              "      <td>3</td>\n",
              "      <td>1</td>\n",
              "      <td>0</td>\n",
              "      <td>4</td>\n",
              "      <td>5</td>\n",
              "      <td>5</td>\n",
              "      <td>8</td>\n",
              "      <td>1</td>\n",
              "      <td>0</td>\n",
              "      <td>0</td>\n",
              "      <td>0</td>\n",
              "      <td>0</td>\n",
              "      <td>5070</td>\n",
              "      <td>780</td>\n",
              "      <td>780</td>\n",
              "      <td>3510</td>\n",
              "      <td>8</td>\n",
              "      <td>12</td>\n",
              "      <td>2007</td>\n",
              "      <td>1</td>\n",
              "      <td>6</td>\n",
              "      <td>2006</td>\n",
              "      <td>1</td>\n",
              "      <td>2015</td>\n",
              "      <td>250</td>\n",
              "      <td>500</td>\n",
              "    </tr>\n",
              "    <tr>\n",
              "      <th>2</th>\n",
              "      <td>134</td>\n",
              "      <td>29</td>\n",
              "      <td>2</td>\n",
              "      <td>2000</td>\n",
              "      <td>1413.14</td>\n",
              "      <td>5000000</td>\n",
              "      <td>430632</td>\n",
              "      <td>0</td>\n",
              "      <td>6</td>\n",
              "      <td>11</td>\n",
              "      <td>2</td>\n",
              "      <td>3</td>\n",
              "      <td>35100</td>\n",
              "      <td>0</td>\n",
              "      <td>0</td>\n",
              "      <td>1</td>\n",
              "      <td>0</td>\n",
              "      <td>4</td>\n",
              "      <td>1</td>\n",
              "      <td>1</td>\n",
              "      <td>7</td>\n",
              "      <td>3</td>\n",
              "      <td>0</td>\n",
              "      <td>2</td>\n",
              "      <td>3</td>\n",
              "      <td>0</td>\n",
              "      <td>34650</td>\n",
              "      <td>7700</td>\n",
              "      <td>3850</td>\n",
              "      <td>23100</td>\n",
              "      <td>4</td>\n",
              "      <td>30</td>\n",
              "      <td>2007</td>\n",
              "      <td>0</td>\n",
              "      <td>9</td>\n",
              "      <td>2000</td>\n",
              "      <td>2</td>\n",
              "      <td>2015</td>\n",
              "      <td>100</td>\n",
              "      <td>300</td>\n",
              "    </tr>\n",
              "    <tr>\n",
              "      <th>3</th>\n",
              "      <td>256</td>\n",
              "      <td>41</td>\n",
              "      <td>0</td>\n",
              "      <td>2000</td>\n",
              "      <td>1415.74</td>\n",
              "      <td>6000000</td>\n",
              "      <td>608117</td>\n",
              "      <td>0</td>\n",
              "      <td>6</td>\n",
              "      <td>1</td>\n",
              "      <td>2</td>\n",
              "      <td>4</td>\n",
              "      <td>48900</td>\n",
              "      <td>-62400</td>\n",
              "      <td>2</td>\n",
              "      <td>0</td>\n",
              "      <td>1</td>\n",
              "      <td>4</td>\n",
              "      <td>2</td>\n",
              "      <td>0</td>\n",
              "      <td>5</td>\n",
              "      <td>1</td>\n",
              "      <td>0</td>\n",
              "      <td>1</td>\n",
              "      <td>2</td>\n",
              "      <td>0</td>\n",
              "      <td>63400</td>\n",
              "      <td>6340</td>\n",
              "      <td>6340</td>\n",
              "      <td>50720</td>\n",
              "      <td>3</td>\n",
              "      <td>34</td>\n",
              "      <td>2014</td>\n",
              "      <td>1</td>\n",
              "      <td>5</td>\n",
              "      <td>1990</td>\n",
              "      <td>1</td>\n",
              "      <td>2015</td>\n",
              "      <td>250</td>\n",
              "      <td>500</td>\n",
              "    </tr>\n",
              "    <tr>\n",
              "      <th>4</th>\n",
              "      <td>228</td>\n",
              "      <td>44</td>\n",
              "      <td>0</td>\n",
              "      <td>1000</td>\n",
              "      <td>1583.91</td>\n",
              "      <td>6000000</td>\n",
              "      <td>610706</td>\n",
              "      <td>1</td>\n",
              "      <td>2</td>\n",
              "      <td>11</td>\n",
              "      <td>2</td>\n",
              "      <td>4</td>\n",
              "      <td>66000</td>\n",
              "      <td>-46000</td>\n",
              "      <td>3</td>\n",
              "      <td>1</td>\n",
              "      <td>0</td>\n",
              "      <td>2</td>\n",
              "      <td>1</td>\n",
              "      <td>0</td>\n",
              "      <td>20</td>\n",
              "      <td>1</td>\n",
              "      <td>0</td>\n",
              "      <td>0</td>\n",
              "      <td>1</td>\n",
              "      <td>0</td>\n",
              "      <td>6500</td>\n",
              "      <td>1300</td>\n",
              "      <td>650</td>\n",
              "      <td>4550</td>\n",
              "      <td>0</td>\n",
              "      <td>31</td>\n",
              "      <td>2009</td>\n",
              "      <td>0</td>\n",
              "      <td>6</td>\n",
              "      <td>2014</td>\n",
              "      <td>2</td>\n",
              "      <td>2015</td>\n",
              "      <td>500</td>\n",
              "      <td>1000</td>\n",
              "    </tr>\n",
              "  </tbody>\n",
              "</table>\n",
              "</div>"
            ],
            "text/plain": [
              "   months_as_customer  age  ...  csl_per_person  csl_per_accident\n",
              "0                 328   48  ...             250               500\n",
              "1                 228   42  ...             250               500\n",
              "2                 134   29  ...             100               300\n",
              "3                 256   41  ...             250               500\n",
              "4                 228   44  ...             500              1000\n",
              "\n",
              "[5 rows x 40 columns]"
            ]
          },
          "metadata": {
            "tags": []
          },
          "execution_count": 121
        }
      ]
    },
    {
      "cell_type": "code",
      "metadata": {
        "id": "rNLmRI1mtvud"
      },
      "source": [
        "for col in (data.select_dtypes('object').columns):\n",
        "    data[col] = data[col].astype('int64')"
      ],
      "execution_count": null,
      "outputs": []
    },
    {
      "cell_type": "markdown",
      "metadata": {
        "id": "3JrcgvecwaEe"
      },
      "source": [
        "<font color= #1a75ff><h3>Model building</h3></font>\n"
      ]
    },
    {
      "cell_type": "code",
      "metadata": {
        "colab": {
          "base_uri": "https://localhost:8080/"
        },
        "id": "QBe9q7KVxFEg",
        "outputId": "cdd5ad8e-555a-463e-c0ff-341798b208d8"
      },
      "source": [
        "data.columns"
      ],
      "execution_count": null,
      "outputs": [
        {
          "output_type": "execute_result",
          "data": {
            "text/plain": [
              "Index(['months_as_customer', 'age', 'policy_state', 'policy_deductable',\n",
              "       'policy_annual_premium', 'umbrella_limit', 'insured_zip', 'insured_sex',\n",
              "       'insured_education_level', 'insured_occupation', 'insured_hobbies',\n",
              "       'insured_relationship', 'capital-gains', 'capital-loss',\n",
              "       'incident_type', 'collision_type', 'incident_severity',\n",
              "       'authorities_contacted', 'incident_state', 'incident_city',\n",
              "       'incident_hour_of_the_day', 'number_of_vehicles_involved',\n",
              "       'property_damage', 'bodily_injuries', 'witnesses',\n",
              "       'police_report_available', 'total_claim_amount', 'injury_claim',\n",
              "       'property_claim', 'vehicle_claim', 'auto_make', 'auto_model',\n",
              "       'auto_year', 'fraud_reported', 'policy_Month', 'policy_Year',\n",
              "       'Inc_Month', 'Inc_Year', 'csl_per_person', 'csl_per_accident'],\n",
              "      dtype='object')"
            ]
          },
          "metadata": {
            "tags": []
          },
          "execution_count": 262
        }
      ]
    },
    {
      "cell_type": "code",
      "metadata": {
        "id": "ABn2524kwZM4"
      },
      "source": [
        "Col_Final = ['months_as_customer', 'age', 'policy_state', 'policy_deductable',\n",
        "       'policy_annual_premium', 'umbrella_limit', 'insured_zip', 'insured_sex',\n",
        "       'insured_education_level', 'insured_occupation', 'insured_hobbies',\n",
        "       'insured_relationship', 'capital-gains', 'capital-loss',\n",
        "       'incident_type', 'collision_type', 'incident_severity',\n",
        "       'authorities_contacted', 'incident_state', 'incident_city',\n",
        "       'incident_hour_of_the_day', 'number_of_vehicles_involved',\n",
        "       'property_damage', 'bodily_injuries', 'witnesses',\n",
        "       'police_report_available', 'total_claim_amount', 'injury_claim',\n",
        "       'property_claim', 'vehicle_claim', 'auto_make', 'auto_model',\n",
        "       'auto_year', 'policy_Month', 'policy_Year',\n",
        "       'Inc_Month', 'Inc_Year', 'csl_per_person', 'csl_per_accident']"
      ],
      "execution_count": null,
      "outputs": []
    },
    {
      "cell_type": "code",
      "metadata": {
        "colab": {
          "base_uri": "https://localhost:8080/"
        },
        "id": "mScuw4AohTX0",
        "outputId": "f2b7c97b-4768-42da-e817-d2a7f2257f46"
      },
      "source": [
        "len(Col_Final)"
      ],
      "execution_count": null,
      "outputs": [
        {
          "output_type": "execute_result",
          "data": {
            "text/plain": [
              "38"
            ]
          },
          "metadata": {
            "tags": []
          },
          "execution_count": 294
        }
      ]
    },
    {
      "cell_type": "code",
      "metadata": {
        "id": "HqOo0pdX3FYF"
      },
      "source": [
        "from sklearn.model_selection import train_test_split"
      ],
      "execution_count": null,
      "outputs": []
    },
    {
      "cell_type": "code",
      "metadata": {
        "id": "0OZdPAjWAp-3"
      },
      "source": [
        "x = data.drop(['insured_zip'],axis=1)"
      ],
      "execution_count": null,
      "outputs": []
    },
    {
      "cell_type": "code",
      "metadata": {
        "colab": {
          "base_uri": "https://localhost:8080/",
          "height": 241
        },
        "id": "fGZ4qAOqJ6JL",
        "outputId": "1ca6a584-063c-4c00-8efd-5e4230842d70"
      },
      "source": [
        "x.head()"
      ],
      "execution_count": null,
      "outputs": [
        {
          "output_type": "execute_result",
          "data": {
            "text/html": [
              "<div>\n",
              "<style scoped>\n",
              "    .dataframe tbody tr th:only-of-type {\n",
              "        vertical-align: middle;\n",
              "    }\n",
              "\n",
              "    .dataframe tbody tr th {\n",
              "        vertical-align: top;\n",
              "    }\n",
              "\n",
              "    .dataframe thead th {\n",
              "        text-align: right;\n",
              "    }\n",
              "</style>\n",
              "<table border=\"1\" class=\"dataframe\">\n",
              "  <thead>\n",
              "    <tr style=\"text-align: right;\">\n",
              "      <th></th>\n",
              "      <th>months_as_customer</th>\n",
              "      <th>age</th>\n",
              "      <th>policy_state</th>\n",
              "      <th>policy_deductable</th>\n",
              "      <th>policy_annual_premium</th>\n",
              "      <th>umbrella_limit</th>\n",
              "      <th>insured_sex</th>\n",
              "      <th>insured_education_level</th>\n",
              "      <th>insured_occupation</th>\n",
              "      <th>insured_hobbies</th>\n",
              "      <th>insured_relationship</th>\n",
              "      <th>capital-gains</th>\n",
              "      <th>capital-loss</th>\n",
              "      <th>incident_type</th>\n",
              "      <th>collision_type</th>\n",
              "      <th>incident_severity</th>\n",
              "      <th>authorities_contacted</th>\n",
              "      <th>incident_state</th>\n",
              "      <th>incident_city</th>\n",
              "      <th>incident_hour_of_the_day</th>\n",
              "      <th>number_of_vehicles_involved</th>\n",
              "      <th>property_damage</th>\n",
              "      <th>bodily_injuries</th>\n",
              "      <th>witnesses</th>\n",
              "      <th>police_report_available</th>\n",
              "      <th>total_claim_amount</th>\n",
              "      <th>injury_claim</th>\n",
              "      <th>property_claim</th>\n",
              "      <th>vehicle_claim</th>\n",
              "      <th>auto_make</th>\n",
              "      <th>auto_model</th>\n",
              "      <th>auto_year</th>\n",
              "      <th>fraud_reported</th>\n",
              "      <th>policy_Month</th>\n",
              "      <th>policy_Year</th>\n",
              "      <th>Inc_Month</th>\n",
              "      <th>Inc_Year</th>\n",
              "      <th>csl_per_person</th>\n",
              "      <th>csl_per_accident</th>\n",
              "    </tr>\n",
              "  </thead>\n",
              "  <tbody>\n",
              "    <tr>\n",
              "      <th>0</th>\n",
              "      <td>328</td>\n",
              "      <td>48</td>\n",
              "      <td>2</td>\n",
              "      <td>1000</td>\n",
              "      <td>1406.91</td>\n",
              "      <td>0</td>\n",
              "      <td>1</td>\n",
              "      <td>5</td>\n",
              "      <td>2</td>\n",
              "      <td>17</td>\n",
              "      <td>0</td>\n",
              "      <td>53300</td>\n",
              "      <td>0</td>\n",
              "      <td>2</td>\n",
              "      <td>2</td>\n",
              "      <td>1</td>\n",
              "      <td>4</td>\n",
              "      <td>4</td>\n",
              "      <td>1</td>\n",
              "      <td>5</td>\n",
              "      <td>1</td>\n",
              "      <td>1</td>\n",
              "      <td>1</td>\n",
              "      <td>2</td>\n",
              "      <td>1</td>\n",
              "      <td>71610</td>\n",
              "      <td>6510</td>\n",
              "      <td>13020</td>\n",
              "      <td>52080</td>\n",
              "      <td>10</td>\n",
              "      <td>1</td>\n",
              "      <td>2004</td>\n",
              "      <td>1</td>\n",
              "      <td>10</td>\n",
              "      <td>2014</td>\n",
              "      <td>1</td>\n",
              "      <td>2015</td>\n",
              "      <td>250</td>\n",
              "      <td>500</td>\n",
              "    </tr>\n",
              "    <tr>\n",
              "      <th>1</th>\n",
              "      <td>228</td>\n",
              "      <td>42</td>\n",
              "      <td>1</td>\n",
              "      <td>2000</td>\n",
              "      <td>1197.22</td>\n",
              "      <td>5000000</td>\n",
              "      <td>1</td>\n",
              "      <td>5</td>\n",
              "      <td>6</td>\n",
              "      <td>15</td>\n",
              "      <td>2</td>\n",
              "      <td>0</td>\n",
              "      <td>0</td>\n",
              "      <td>3</td>\n",
              "      <td>1</td>\n",
              "      <td>0</td>\n",
              "      <td>4</td>\n",
              "      <td>5</td>\n",
              "      <td>5</td>\n",
              "      <td>8</td>\n",
              "      <td>1</td>\n",
              "      <td>0</td>\n",
              "      <td>0</td>\n",
              "      <td>0</td>\n",
              "      <td>0</td>\n",
              "      <td>5070</td>\n",
              "      <td>780</td>\n",
              "      <td>780</td>\n",
              "      <td>3510</td>\n",
              "      <td>8</td>\n",
              "      <td>12</td>\n",
              "      <td>2007</td>\n",
              "      <td>1</td>\n",
              "      <td>6</td>\n",
              "      <td>2006</td>\n",
              "      <td>1</td>\n",
              "      <td>2015</td>\n",
              "      <td>250</td>\n",
              "      <td>500</td>\n",
              "    </tr>\n",
              "    <tr>\n",
              "      <th>2</th>\n",
              "      <td>134</td>\n",
              "      <td>29</td>\n",
              "      <td>2</td>\n",
              "      <td>2000</td>\n",
              "      <td>1413.14</td>\n",
              "      <td>5000000</td>\n",
              "      <td>0</td>\n",
              "      <td>6</td>\n",
              "      <td>11</td>\n",
              "      <td>2</td>\n",
              "      <td>3</td>\n",
              "      <td>35100</td>\n",
              "      <td>0</td>\n",
              "      <td>0</td>\n",
              "      <td>1</td>\n",
              "      <td>0</td>\n",
              "      <td>4</td>\n",
              "      <td>1</td>\n",
              "      <td>1</td>\n",
              "      <td>7</td>\n",
              "      <td>3</td>\n",
              "      <td>0</td>\n",
              "      <td>2</td>\n",
              "      <td>3</td>\n",
              "      <td>0</td>\n",
              "      <td>34650</td>\n",
              "      <td>7700</td>\n",
              "      <td>3850</td>\n",
              "      <td>23100</td>\n",
              "      <td>4</td>\n",
              "      <td>30</td>\n",
              "      <td>2007</td>\n",
              "      <td>0</td>\n",
              "      <td>9</td>\n",
              "      <td>2000</td>\n",
              "      <td>2</td>\n",
              "      <td>2015</td>\n",
              "      <td>100</td>\n",
              "      <td>300</td>\n",
              "    </tr>\n",
              "    <tr>\n",
              "      <th>3</th>\n",
              "      <td>256</td>\n",
              "      <td>41</td>\n",
              "      <td>0</td>\n",
              "      <td>2000</td>\n",
              "      <td>1415.74</td>\n",
              "      <td>6000000</td>\n",
              "      <td>0</td>\n",
              "      <td>6</td>\n",
              "      <td>1</td>\n",
              "      <td>2</td>\n",
              "      <td>4</td>\n",
              "      <td>48900</td>\n",
              "      <td>-62400</td>\n",
              "      <td>2</td>\n",
              "      <td>0</td>\n",
              "      <td>1</td>\n",
              "      <td>4</td>\n",
              "      <td>2</td>\n",
              "      <td>0</td>\n",
              "      <td>5</td>\n",
              "      <td>1</td>\n",
              "      <td>0</td>\n",
              "      <td>1</td>\n",
              "      <td>2</td>\n",
              "      <td>0</td>\n",
              "      <td>63400</td>\n",
              "      <td>6340</td>\n",
              "      <td>6340</td>\n",
              "      <td>50720</td>\n",
              "      <td>3</td>\n",
              "      <td>34</td>\n",
              "      <td>2014</td>\n",
              "      <td>1</td>\n",
              "      <td>5</td>\n",
              "      <td>1990</td>\n",
              "      <td>1</td>\n",
              "      <td>2015</td>\n",
              "      <td>250</td>\n",
              "      <td>500</td>\n",
              "    </tr>\n",
              "    <tr>\n",
              "      <th>4</th>\n",
              "      <td>228</td>\n",
              "      <td>44</td>\n",
              "      <td>0</td>\n",
              "      <td>1000</td>\n",
              "      <td>1583.91</td>\n",
              "      <td>6000000</td>\n",
              "      <td>1</td>\n",
              "      <td>2</td>\n",
              "      <td>11</td>\n",
              "      <td>2</td>\n",
              "      <td>4</td>\n",
              "      <td>66000</td>\n",
              "      <td>-46000</td>\n",
              "      <td>3</td>\n",
              "      <td>1</td>\n",
              "      <td>0</td>\n",
              "      <td>2</td>\n",
              "      <td>1</td>\n",
              "      <td>0</td>\n",
              "      <td>20</td>\n",
              "      <td>1</td>\n",
              "      <td>0</td>\n",
              "      <td>0</td>\n",
              "      <td>1</td>\n",
              "      <td>0</td>\n",
              "      <td>6500</td>\n",
              "      <td>1300</td>\n",
              "      <td>650</td>\n",
              "      <td>4550</td>\n",
              "      <td>0</td>\n",
              "      <td>31</td>\n",
              "      <td>2009</td>\n",
              "      <td>0</td>\n",
              "      <td>6</td>\n",
              "      <td>2014</td>\n",
              "      <td>2</td>\n",
              "      <td>2015</td>\n",
              "      <td>500</td>\n",
              "      <td>1000</td>\n",
              "    </tr>\n",
              "  </tbody>\n",
              "</table>\n",
              "</div>"
            ],
            "text/plain": [
              "   months_as_customer  age  ...  csl_per_person  csl_per_accident\n",
              "0                 328   48  ...             250               500\n",
              "1                 228   42  ...             250               500\n",
              "2                 134   29  ...             100               300\n",
              "3                 256   41  ...             250               500\n",
              "4                 228   44  ...             500              1000\n",
              "\n",
              "[5 rows x 39 columns]"
            ]
          },
          "metadata": {
            "tags": []
          },
          "execution_count": 281
        }
      ]
    },
    {
      "cell_type": "code",
      "metadata": {
        "id": "UOdkxqs3u9nV"
      },
      "source": [
        "y = data['fraud_reported'].values"
      ],
      "execution_count": null,
      "outputs": []
    },
    {
      "cell_type": "code",
      "metadata": {
        "id": "_7mvQDkS7624"
      },
      "source": [
        "x_train, x_test, y_train, y_test = train_test_split(x, y, test_size = 0.2, random_state = 0)"
      ],
      "execution_count": null,
      "outputs": []
    },
    {
      "cell_type": "code",
      "metadata": {
        "colab": {
          "base_uri": "https://localhost:8080/"
        },
        "id": "ulvnF4pUhc55",
        "outputId": "e9c56c7e-9bd9-481a-b320-97add14f6738"
      },
      "source": [
        "print(len(x_train))\n",
        "print(len(y_train))\n",
        "print(len(x_test))\n",
        "print(len(y_test))"
      ],
      "execution_count": null,
      "outputs": [
        {
          "output_type": "stream",
          "text": [
            "800\n",
            "800\n",
            "200\n",
            "200\n"
          ],
          "name": "stdout"
        }
      ]
    },
    {
      "cell_type": "markdown",
      "metadata": {
        "id": "33prhMZW1_t7"
      },
      "source": [
        "<font color= #1a75ff><h4>K Nearest Neighbours</h4></font>"
      ]
    },
    {
      "cell_type": "code",
      "metadata": {
        "id": "2Gi-bCeI2HrD"
      },
      "source": [
        "knn = KNeighborsClassifier(2)"
      ],
      "execution_count": null,
      "outputs": []
    },
    {
      "cell_type": "code",
      "metadata": {
        "colab": {
          "base_uri": "https://localhost:8080/"
        },
        "id": "PJsXpCXQ2amw",
        "outputId": "e79df8b5-6b15-4ff9-e5aa-6a95af10f5d1"
      },
      "source": [
        "knn.fit(x_train,y_train)"
      ],
      "execution_count": null,
      "outputs": [
        {
          "output_type": "execute_result",
          "data": {
            "text/plain": [
              "KNeighborsClassifier(algorithm='auto', leaf_size=30, metric='minkowski',\n",
              "                     metric_params=None, n_jobs=None, n_neighbors=2, p=2,\n",
              "                     weights='uniform')"
            ]
          },
          "metadata": {
            "tags": []
          },
          "execution_count": 301
        }
      ]
    },
    {
      "cell_type": "code",
      "metadata": {
        "id": "o9joXyV22ghE"
      },
      "source": [
        "knn_predict =knn.predict(x_test)"
      ],
      "execution_count": null,
      "outputs": []
    },
    {
      "cell_type": "markdown",
      "metadata": {
        "id": "cgXrPiOH3c__"
      },
      "source": [
        "<font color=darkblue><h5> Confusion matrix </h5></font>"
      ]
    },
    {
      "cell_type": "code",
      "metadata": {
        "colab": {
          "base_uri": "https://localhost:8080/"
        },
        "id": "swOptsRm3KQV",
        "outputId": "0847a889-7365-45f0-b79a-b0145c38209f"
      },
      "source": [
        "confusion_matrix(knn_predict, y_test)"
      ],
      "execution_count": null,
      "outputs": [
        {
          "output_type": "execute_result",
          "data": {
            "text/plain": [
              "array([[131,  49],\n",
              "       [ 12,   8]])"
            ]
          },
          "metadata": {
            "tags": []
          },
          "execution_count": 304
        }
      ]
    },
    {
      "cell_type": "markdown",
      "metadata": {
        "id": "VZuIp6UG3kIq"
      },
      "source": [
        "<font color=darkblue><h5>Precision Score = TP / (TP + FP) </h5></font>"
      ]
    },
    {
      "cell_type": "code",
      "metadata": {
        "colab": {
          "base_uri": "https://localhost:8080/"
        },
        "id": "RauRUxfm3OK6",
        "outputId": "167d56b9-6f1d-4452-b9f8-0bc89b18cd96"
      },
      "source": [
        "precision_score(knn_predict, y_test)"
      ],
      "execution_count": null,
      "outputs": [
        {
          "output_type": "execute_result",
          "data": {
            "text/plain": [
              "0.14035087719298245"
            ]
          },
          "metadata": {
            "tags": []
          },
          "execution_count": 305
        }
      ]
    },
    {
      "cell_type": "markdown",
      "metadata": {
        "id": "fOa3ikf03tEd"
      },
      "source": [
        "<font color=darkblue><h5>Recall Score = TP / (TP + FN) </h5></font>\n",
        "\n"
      ]
    },
    {
      "cell_type": "code",
      "metadata": {
        "colab": {
          "base_uri": "https://localhost:8080/"
        },
        "id": "k7q7qocN3swh",
        "outputId": "e84e1f9c-cdf4-4ba6-f351-016feae931af"
      },
      "source": [
        "recall_score(knn_predict, y_test)"
      ],
      "execution_count": null,
      "outputs": [
        {
          "output_type": "execute_result",
          "data": {
            "text/plain": [
              "0.4"
            ]
          },
          "metadata": {
            "tags": []
          },
          "execution_count": 307
        }
      ]
    },
    {
      "cell_type": "markdown",
      "metadata": {
        "id": "W9n0KWC43roO"
      },
      "source": [
        "<font color=darkblue><h5>Accuracy </h5></font>"
      ]
    },
    {
      "cell_type": "code",
      "metadata": {
        "colab": {
          "base_uri": "https://localhost:8080/"
        },
        "id": "mBhK9ZyD3JhC",
        "outputId": "d411fa1e-85f8-4c03-dc47-80c99831adac"
      },
      "source": [
        "accuracy_score(knn_predict,y_test)"
      ],
      "execution_count": null,
      "outputs": [
        {
          "output_type": "execute_result",
          "data": {
            "text/plain": [
              "0.695"
            ]
          },
          "metadata": {
            "tags": []
          },
          "execution_count": 306
        }
      ]
    },
    {
      "cell_type": "markdown",
      "metadata": {
        "id": "MwK3c6G2c91x"
      },
      "source": [
        "<font color= #1a75ff><h4>Decision Tree</h4></font>"
      ]
    },
    {
      "cell_type": "code",
      "metadata": {
        "id": "LGBaIB5Tn7ku"
      },
      "source": [
        "from sklearn.neighbors import KNeighborsClassifier\n",
        "from sklearn.tree import DecisionTreeClassifier\n",
        "from sklearn.metrics import confusion_matrix\n",
        "from sklearn.metrics import precision_score, accuracy_score, recall_score\n",
        "from sklearn.model_selection import cross_val_score"
      ],
      "execution_count": null,
      "outputs": []
    },
    {
      "cell_type": "code",
      "metadata": {
        "id": "UHQGzDP7ySTl"
      },
      "source": [
        "dtree = DecisionTreeClassifier(max_depth=3,criterion='entropy')"
      ],
      "execution_count": null,
      "outputs": []
    },
    {
      "cell_type": "code",
      "metadata": {
        "colab": {
          "base_uri": "https://localhost:8080/"
        },
        "id": "pIyBOv5Eybcp",
        "outputId": "aa5e7d96-af28-4b27-8782-e62a7bbb7660"
      },
      "source": [
        "dtree.fit(x_train,y_train)"
      ],
      "execution_count": null,
      "outputs": [
        {
          "output_type": "execute_result",
          "data": {
            "text/plain": [
              "DecisionTreeClassifier(ccp_alpha=0.0, class_weight=None, criterion='entropy',\n",
              "                       max_depth=3, max_features=None, max_leaf_nodes=None,\n",
              "                       min_impurity_decrease=0.0, min_impurity_split=None,\n",
              "                       min_samples_leaf=1, min_samples_split=2,\n",
              "                       min_weight_fraction_leaf=0.0, presort='deprecated',\n",
              "                       random_state=None, splitter='best')"
            ]
          },
          "metadata": {
            "tags": []
          },
          "execution_count": 271
        }
      ]
    },
    {
      "cell_type": "code",
      "metadata": {
        "id": "0UZd0dXyykzf"
      },
      "source": [
        "dtree_predict = dtree.predict(x_test)"
      ],
      "execution_count": null,
      "outputs": []
    },
    {
      "cell_type": "markdown",
      "metadata": {
        "id": "VY_bTwXdC8fu"
      },
      "source": [
        "<font color=darkblue><h5> Confusion matrix </h5></font>"
      ]
    },
    {
      "cell_type": "code",
      "metadata": {
        "colab": {
          "base_uri": "https://localhost:8080/"
        },
        "id": "YIzHB9Mx8ovp",
        "outputId": "f4e98d17-a867-4b1b-cc6c-34ba9bd68033"
      },
      "source": [
        "confusion_matrix(dtree_predict, y_test)"
      ],
      "execution_count": null,
      "outputs": [
        {
          "output_type": "execute_result",
          "data": {
            "text/plain": [
              "array([[143,   0],\n",
              "       [  0,  57]])"
            ]
          },
          "metadata": {
            "tags": []
          },
          "execution_count": 273
        }
      ]
    },
    {
      "cell_type": "markdown",
      "metadata": {
        "id": "uXKV5-rdC9_d"
      },
      "source": [
        "<font color=darkblue><h5>Precision Score = TP / (TP + FP) </h5></font>"
      ]
    },
    {
      "cell_type": "code",
      "metadata": {
        "colab": {
          "base_uri": "https://localhost:8080/"
        },
        "id": "aYwiwoI49c_q",
        "outputId": "206d5b0b-249d-4838-b442-305cc76421cd"
      },
      "source": [
        "precision_score(dtree_predict, y_test)"
      ],
      "execution_count": null,
      "outputs": [
        {
          "output_type": "execute_result",
          "data": {
            "text/plain": [
              "1.0"
            ]
          },
          "metadata": {
            "tags": []
          },
          "execution_count": 274
        }
      ]
    },
    {
      "cell_type": "markdown",
      "metadata": {
        "id": "stUFcm5RESWL"
      },
      "source": [
        "<font color=darkblue><h5>Recall Score = TP / (TP + FN) </h5></font>"
      ]
    },
    {
      "cell_type": "code",
      "metadata": {
        "colab": {
          "base_uri": "https://localhost:8080/"
        },
        "id": "mOPPwHhPCKIa",
        "outputId": "a75f9aa9-d700-4613-d6b8-62ede0e6b320"
      },
      "source": [
        "recall_score(dtree_predict, y_test)"
      ],
      "execution_count": null,
      "outputs": [
        {
          "output_type": "execute_result",
          "data": {
            "text/plain": [
              "1.0"
            ]
          },
          "metadata": {
            "tags": []
          },
          "execution_count": 275
        }
      ]
    },
    {
      "cell_type": "markdown",
      "metadata": {
        "id": "lCuv5MbA3mtX"
      },
      "source": [
        "<font color=darkblue><h5>Accuracy </h5></font>"
      ]
    },
    {
      "cell_type": "code",
      "metadata": {
        "colab": {
          "base_uri": "https://localhost:8080/"
        },
        "id": "gRdzRvkzg_z3",
        "outputId": "d06d8662-1f50-4e45-df30-efcd3d0615b2"
      },
      "source": [
        "accuracy_score(dtree_predict,y_test)"
      ],
      "execution_count": null,
      "outputs": [
        {
          "output_type": "execute_result",
          "data": {
            "text/plain": [
              "1.0"
            ]
          },
          "metadata": {
            "tags": []
          },
          "execution_count": 293
        }
      ]
    },
    {
      "cell_type": "code",
      "metadata": {
        "id": "_UoOzj9hHKBU"
      },
      "source": [
        "from sklearn import tree"
      ],
      "execution_count": null,
      "outputs": []
    },
    {
      "cell_type": "code",
      "metadata": {
        "id": "w2sgNiwNKoKq"
      },
      "source": [
        "Col_Final.remove('insured_zip')"
      ],
      "execution_count": null,
      "outputs": []
    },
    {
      "cell_type": "code",
      "metadata": {
        "id": "AQidJcudHIdG"
      },
      "source": [
        "dot_data = tree.export_graphviz(dtree,  out_file=None)"
      ],
      "execution_count": null,
      "outputs": []
    },
    {
      "cell_type": "code",
      "metadata": {
        "colab": {
          "base_uri": "https://localhost:8080/",
          "height": 241
        },
        "id": "VSElvbizUtHo",
        "outputId": "7e4582f4-25d2-4a37-8bd4-9456a1d9b510"
      },
      "source": [
        "graph = graphviz.Source(dot_data)\n",
        "graph"
      ],
      "execution_count": null,
      "outputs": [
        {
          "output_type": "execute_result",
          "data": {
            "text/plain": [
              "<graphviz.files.Source at 0x7fed68adddd0>"
            ],
            "image/svg+xml": "<?xml version=\"1.0\" encoding=\"UTF-8\" standalone=\"no\"?>\n<!DOCTYPE svg PUBLIC \"-//W3C//DTD SVG 1.1//EN\"\n \"http://www.w3.org/Graphics/SVG/1.1/DTD/svg11.dtd\">\n<!-- Generated by graphviz version 2.40.1 (20161225.0304)\n -->\n<!-- Title: Tree Pages: 1 -->\n<svg width=\"246pt\" height=\"165pt\"\n viewBox=\"0.00 0.00 246.00 165.00\" xmlns=\"http://www.w3.org/2000/svg\" xmlns:xlink=\"http://www.w3.org/1999/xlink\">\n<g id=\"graph0\" class=\"graph\" transform=\"scale(1 1) rotate(0) translate(4 161)\">\n<title>Tree</title>\n<polygon fill=\"#ffffff\" stroke=\"transparent\" points=\"-4,4 -4,-161 242,-161 242,4 -4,4\"/>\n<!-- 0 -->\n<g id=\"node1\" class=\"node\">\n<title>0</title>\n<polygon fill=\"none\" stroke=\"#000000\" points=\"181.5,-157 56.5,-157 56.5,-89 181.5,-89 181.5,-157\"/>\n<text text-anchor=\"middle\" x=\"119\" y=\"-141.8\" font-family=\"Times,serif\" font-size=\"14.00\" fill=\"#000000\">X[32] &lt;= 0.5</text>\n<text text-anchor=\"middle\" x=\"119\" y=\"-126.8\" font-family=\"Times,serif\" font-size=\"14.00\" fill=\"#000000\">entropy = 0.791</text>\n<text text-anchor=\"middle\" x=\"119\" y=\"-111.8\" font-family=\"Times,serif\" font-size=\"14.00\" fill=\"#000000\">samples = 800</text>\n<text text-anchor=\"middle\" x=\"119\" y=\"-96.8\" font-family=\"Times,serif\" font-size=\"14.00\" fill=\"#000000\">value = [610, 190]</text>\n</g>\n<!-- 1 -->\n<g id=\"node2\" class=\"node\">\n<title>1</title>\n<polygon fill=\"none\" stroke=\"#000000\" points=\"110,-53 0,-53 0,0 110,0 110,-53\"/>\n<text text-anchor=\"middle\" x=\"55\" y=\"-37.8\" font-family=\"Times,serif\" font-size=\"14.00\" fill=\"#000000\">entropy = 0.0</text>\n<text text-anchor=\"middle\" x=\"55\" y=\"-22.8\" font-family=\"Times,serif\" font-size=\"14.00\" fill=\"#000000\">samples = 610</text>\n<text text-anchor=\"middle\" x=\"55\" y=\"-7.8\" font-family=\"Times,serif\" font-size=\"14.00\" fill=\"#000000\">value = [610, 0]</text>\n</g>\n<!-- 0&#45;&gt;1 -->\n<g id=\"edge1\" class=\"edge\">\n<title>0&#45;&gt;1</title>\n<path fill=\"none\" stroke=\"#000000\" d=\"M96.436,-88.9777C90.6059,-80.187 84.3169,-70.7044 78.443,-61.8477\"/>\n<polygon fill=\"#000000\" stroke=\"#000000\" points=\"81.1838,-59.6478 72.7399,-53.2485 75.3502,-63.5167 81.1838,-59.6478\"/>\n<text text-anchor=\"middle\" x=\"67.7783\" y=\"-74.0512\" font-family=\"Times,serif\" font-size=\"14.00\" fill=\"#000000\">True</text>\n</g>\n<!-- 2 -->\n<g id=\"node3\" class=\"node\">\n<title>2</title>\n<polygon fill=\"none\" stroke=\"#000000\" points=\"238,-53 128,-53 128,0 238,0 238,-53\"/>\n<text text-anchor=\"middle\" x=\"183\" y=\"-37.8\" font-family=\"Times,serif\" font-size=\"14.00\" fill=\"#000000\">entropy = 0.0</text>\n<text text-anchor=\"middle\" x=\"183\" y=\"-22.8\" font-family=\"Times,serif\" font-size=\"14.00\" fill=\"#000000\">samples = 190</text>\n<text text-anchor=\"middle\" x=\"183\" y=\"-7.8\" font-family=\"Times,serif\" font-size=\"14.00\" fill=\"#000000\">value = [0, 190]</text>\n</g>\n<!-- 0&#45;&gt;2 -->\n<g id=\"edge2\" class=\"edge\">\n<title>0&#45;&gt;2</title>\n<path fill=\"none\" stroke=\"#000000\" d=\"M141.564,-88.9777C147.3941,-80.187 153.6831,-70.7044 159.557,-61.8477\"/>\n<polygon fill=\"#000000\" stroke=\"#000000\" points=\"162.6498,-63.5167 165.2601,-53.2485 156.8162,-59.6478 162.6498,-63.5167\"/>\n<text text-anchor=\"middle\" x=\"170.2217\" y=\"-74.0512\" font-family=\"Times,serif\" font-size=\"14.00\" fill=\"#000000\">False</text>\n</g>\n</g>\n</svg>\n"
          },
          "metadata": {
            "tags": []
          },
          "execution_count": 280
        }
      ]
    },
    {
      "cell_type": "markdown",
      "metadata": {
        "id": "oZH4WFuuc0bN"
      },
      "source": [
        "<font color= #1a75ff><h3>Random Forest</h3></font>"
      ]
    },
    {
      "cell_type": "code",
      "metadata": {
        "id": "yyYOme0-czw8"
      },
      "source": [
        "from sklearn.ensemble import RandomForestClassifier"
      ],
      "execution_count": null,
      "outputs": []
    },
    {
      "cell_type": "code",
      "metadata": {
        "id": "qIsAiF3LdQc4"
      },
      "source": [
        "rfClass = RandomForestClassifier()"
      ],
      "execution_count": null,
      "outputs": []
    },
    {
      "cell_type": "code",
      "metadata": {
        "colab": {
          "base_uri": "https://localhost:8080/"
        },
        "id": "AiWWYVD3dVEW",
        "outputId": "a2134db5-0226-47ca-be4d-31982da9633c"
      },
      "source": [
        "rfClass.fit(x_train,y_train)"
      ],
      "execution_count": null,
      "outputs": [
        {
          "output_type": "execute_result",
          "data": {
            "text/plain": [
              "RandomForestClassifier(bootstrap=True, ccp_alpha=0.0, class_weight=None,\n",
              "                       criterion='gini', max_depth=None, max_features='auto',\n",
              "                       max_leaf_nodes=None, max_samples=None,\n",
              "                       min_impurity_decrease=0.0, min_impurity_split=None,\n",
              "                       min_samples_leaf=1, min_samples_split=2,\n",
              "                       min_weight_fraction_leaf=0.0, n_estimators=100,\n",
              "                       n_jobs=None, oob_score=False, random_state=None,\n",
              "                       verbose=0, warm_start=False)"
            ]
          },
          "metadata": {
            "tags": []
          },
          "execution_count": 284
        }
      ]
    },
    {
      "cell_type": "code",
      "metadata": {
        "id": "r5P0yj1ndjoj"
      },
      "source": [
        "rfClass_predict = rfClass.predict(x_test)"
      ],
      "execution_count": null,
      "outputs": []
    },
    {
      "cell_type": "markdown",
      "metadata": {
        "id": "Kc67Z1meeh6h"
      },
      "source": [
        "<font color=darkblue><h5> Confusion matrix </h5></font>"
      ]
    },
    {
      "cell_type": "code",
      "metadata": {
        "colab": {
          "base_uri": "https://localhost:8080/"
        },
        "id": "lVVcVuQWd8-B",
        "outputId": "c271fec1-2a01-4cc7-9037-ab7e1d3cb885"
      },
      "source": [
        "confusion_matrix(rfClass_predict,y_test)"
      ],
      "execution_count": null,
      "outputs": [
        {
          "output_type": "execute_result",
          "data": {
            "text/plain": [
              "array([[143,   0],\n",
              "       [  0,  57]])"
            ]
          },
          "metadata": {
            "tags": []
          },
          "execution_count": 290
        }
      ]
    },
    {
      "cell_type": "markdown",
      "metadata": {
        "id": "CoECgvsIemMP"
      },
      "source": [
        "<font color=darkblue><h5>Precision Score = TP / (TP + FP) </h5></font>"
      ]
    },
    {
      "cell_type": "code",
      "metadata": {
        "colab": {
          "base_uri": "https://localhost:8080/"
        },
        "id": "mxoBMEvaeWCA",
        "outputId": "fa7561fc-4f80-4972-b67f-c3e73a8a9372"
      },
      "source": [
        "precision_score(dtree_predict, y_test)"
      ],
      "execution_count": null,
      "outputs": [
        {
          "output_type": "execute_result",
          "data": {
            "text/plain": [
              "1.0"
            ]
          },
          "metadata": {
            "tags": []
          },
          "execution_count": 291
        }
      ]
    },
    {
      "cell_type": "markdown",
      "metadata": {
        "id": "3qFa_KNMen9v"
      },
      "source": [
        "<font color=darkblue><h5>Recall Score = TP / (TP + FN) </h5></font>"
      ]
    },
    {
      "cell_type": "code",
      "metadata": {
        "colab": {
          "base_uri": "https://localhost:8080/"
        },
        "id": "3g4wLH0GeZkU",
        "outputId": "f67ed4bb-1730-46b4-f319-cbe70059f515"
      },
      "source": [
        "recall_score(dtree_predict, y_test)"
      ],
      "execution_count": null,
      "outputs": [
        {
          "output_type": "execute_result",
          "data": {
            "text/plain": [
              "1.0"
            ]
          },
          "metadata": {
            "tags": []
          },
          "execution_count": 292
        }
      ]
    },
    {
      "cell_type": "markdown",
      "metadata": {
        "id": "sYxGfEvI4X26"
      },
      "source": [
        "<font color=darkblue><h5>Accuracy </h5></font>"
      ]
    },
    {
      "cell_type": "code",
      "metadata": {
        "colab": {
          "base_uri": "https://localhost:8080/"
        },
        "id": "QZcpYYsx4aG0",
        "outputId": "c5b4d88c-25cc-4f7a-db81-5e06325df312"
      },
      "source": [
        "accuracy_score(dtree_predict, y_test)"
      ],
      "execution_count": null,
      "outputs": [
        {
          "output_type": "execute_result",
          "data": {
            "text/plain": [
              "1.0"
            ]
          },
          "metadata": {
            "tags": []
          },
          "execution_count": 308
        }
      ]
    },
    {
      "cell_type": "markdown",
      "metadata": {
        "id": "VrEFnSqmtxJ2"
      },
      "source": [
        "<font color= #1a75ff><h3>Comparing Models</h3></font>"
      ]
    },
    {
      "cell_type": "code",
      "metadata": {
        "id": "ldYQ_e1ltwa8"
      },
      "source": [
        "models=[]\n",
        "models.append((\"KNN\",KNeighborsClassifier())) \n",
        "models.append((\"RF\",RandomForestClassifier()))\n",
        "models.append((\"DT\",DecisionTreeClassifier()))"
      ],
      "execution_count": null,
      "outputs": []
    },
    {
      "cell_type": "code",
      "metadata": {
        "colab": {
          "base_uri": "https://localhost:8080/",
          "height": 451
        },
        "id": "BB2YAU8o1YpZ",
        "outputId": "fac73b2f-1f73-4212-d406-dac85d1674a8"
      },
      "source": [
        "results=[]\n",
        "names=[]\n",
        "for name,model in models:\n",
        "\tv=cross_val_score(model,x_train,y_train)\n",
        "\tresults.append(v)\n",
        "\tnames.append(name)\n",
        "\tprint(name)\n",
        "\t#print(v)\n",
        "\tprint(\"Average is\")\n",
        "\tprint(sum(v)/len(v))\n",
        "import matplotlib.pyplot as plt\n",
        "fig=plt.figure()\n",
        "fig.suptitle(\"Performance Comparison\")\n",
        "ax=fig.add_subplot(111)\n",
        "plt.boxplot(results)\n",
        "ax.set_xticklabels(names)\n",
        "plt.show()\n"
      ],
      "execution_count": null,
      "outputs": [
        {
          "output_type": "stream",
          "text": [
            "KNN\n",
            "Average is\n",
            "0.7249999999999999\n",
            "RF\n",
            "Average is\n",
            "1.0\n",
            "DT\n",
            "Average is\n",
            "1.0\n"
          ],
          "name": "stdout"
        },
        {
          "output_type": "display_data",
          "data": {
            "image/png": "[encoded data removed]",
            "text/plain": [
              "<Figure size 432x288 with 1 Axes>"
            ]
          },
          "metadata": {
            "tags": [],
            "needs_background": "light"
          }
        }
      ]
    }
  ]
}